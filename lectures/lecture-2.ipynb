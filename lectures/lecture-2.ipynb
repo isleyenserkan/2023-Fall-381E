{
 "cells": [
  {
   "cell_type": "markdown",
   "id": "101bca2d-3b3c-4dd9-a395-aa63ecfd6ecd",
   "metadata": {},
   "source": [
    "# Lecture 2\n",
    "\n",
    "## Python and Its Library Ecosystem\n",
    "\n",
    "### What is python?\n",
    "\n",
    "Python is a programming language. According to [TIOBE index](https://www.tiobe.com/tiobe-index/) it is the most popular programming language among developers. If you are used to languages like [java](https://www.java.com/en/download/help/whatis_java.html), [C](https://en.wikipedia.org/wiki/C_(programming_language)) or [C++](https://en.wikipedia.org/wiki/C%2B%2B), the language has a totally different feel to it.\n",
    "\n",
    "Python is a dynamically typed object-oriented interpreted language, as opposed to java which is a statically typed object-oriented compiled language. \n",
    "\n",
    "    xs = [2,1,4,3,6,5]\n",
    "    xs.sort()\n",
    "    ys = [ i*i for i in xs ]\n",
    "\n",
    "The piece of code above would look like as follows in java\n",
    "\n",
    "    import java.util.ArrayList;\n",
    "    import java.util.Collections;\n",
    "    import java.util.List;\n",
    "\n",
    "    public class SquareNumbers {\n",
    "        public static void main(String[] args) {\n",
    "            int[] myArray = {1, 2, 3, 4, 5};\n",
    "\n",
    "            Collections.sort(xs);\n",
    "\n",
    "            List<Integer> ys = new ArrayList<>();\n",
    "            for (int i : xs) {\n",
    "                ys.add(i * i);\n",
    "            }\n",
    "\n",
    "            System.out.println(ys);\n",
    "        }\n",
    "    }\n",
    "\n",
    "Python relies on a [Read/Evaluate/Print-Loop (REPL)](https://en.wikipedia.org/wiki/Read%E2%80%93eval%E2%80%93print_loop)."
   ]
  },
  {
   "cell_type": "code",
   "execution_count": 223,
   "id": "7a637ac8-9236-4fb3-9d1f-a7e3aedf2515",
   "metadata": {},
   "outputs": [
    {
     "data": {
      "text/plain": [
       "'11'"
      ]
     },
     "execution_count": 223,
     "metadata": {},
     "output_type": "execute_result"
    }
   ],
   "source": [
    "'1'+'1'"
   ]
  },
  {
   "cell_type": "markdown",
   "id": "3930e7ca-41c6-499d-b683-5d417c43cad8",
   "metadata": {},
   "source": [
    "### Basic Data Types\n",
    "\n",
    "Python has the basic data types that every language has like integers, floating points numbers, characters, and strings."
   ]
  },
  {
   "cell_type": "code",
   "execution_count": 228,
   "id": "6226fef1-862c-4002-b79a-0329e9ffcd43",
   "metadata": {},
   "outputs": [
    {
     "data": {
      "text/plain": [
       "1232"
      ]
     },
     "execution_count": 228,
     "metadata": {},
     "output_type": "execute_result"
    }
   ],
   "source": [
    "1232"
   ]
  },
  {
   "cell_type": "markdown",
   "id": "1d1b1c3a-60ee-4792-8760-cf48e16977c0",
   "metadata": {},
   "source": [
    "### Basic Data Structures\n",
    "\n",
    "Python also has what I call *container* data structures that contain multitudes of simple data types like arrays, lists, sets, and maps."
   ]
  },
  {
   "cell_type": "code",
   "execution_count": 242,
   "id": "c76aaeb9-c4e1-4ee0-8678-0c0184001b58",
   "metadata": {},
   "outputs": [
    {
     "data": {
      "text/plain": [
       "-1"
      ]
     },
     "execution_count": 242,
     "metadata": {},
     "output_type": "execute_result"
    }
   ],
   "source": [
    "xs = {'a': 1, \n",
    "      'bc': 2,\n",
    "      (7,9): -1,\n",
    "      6: 'third'}\n",
    "xs[(7,9)]"
   ]
  },
  {
   "cell_type": "code",
   "execution_count": 244,
   "id": "7c7b33b7-7fae-4b5c-9a8b-17dd07999aaf",
   "metadata": {},
   "outputs": [
    {
     "data": {
      "text/plain": [
       "dict_values([1, 2, -1, 'third'])"
      ]
     },
     "execution_count": 244,
     "metadata": {},
     "output_type": "execute_result"
    }
   ],
   "source": [
    "xs.values()"
   ]
  },
  {
   "cell_type": "markdown",
   "id": "f54495af-c458-4393-a07e-4bf7d62efda9",
   "metadata": {},
   "source": [
    "### Variables, Values, and Pointers\n",
    "\n",
    "You have to be careful with variables in python in combination with assignments:"
   ]
  },
  {
   "cell_type": "code",
   "execution_count": 249,
   "id": "859eb28a-43c9-4345-b5b1-133f865c2c89",
   "metadata": {},
   "outputs": [
    {
     "data": {
      "text/plain": [
       "[1, 2, 3, 4, 5]"
      ]
     },
     "execution_count": 249,
     "metadata": {},
     "output_type": "execute_result"
    }
   ],
   "source": [
    "a = [1,2,3,4]\n",
    "b = a\n",
    "b.append(5)\n",
    "b"
   ]
  },
  {
   "cell_type": "markdown",
   "id": "38c158bf-4827-49f1-a4ce-b68c43eba824",
   "metadata": {},
   "source": [
    "### Conditionals and Loops\n",
    "\n",
    "Python, like every other language, has conditionals and loops"
   ]
  },
  {
   "cell_type": "code",
   "execution_count": 250,
   "id": "716464c3-c6e0-4cef-9eb7-4b11518f37dd",
   "metadata": {},
   "outputs": [
    {
     "name": "stdout",
     "output_type": "stream",
     "text": [
      "positive\n"
     ]
    },
    {
     "data": {
      "text/plain": [
       "2"
      ]
     },
     "execution_count": 250,
     "metadata": {},
     "output_type": "execute_result"
    }
   ],
   "source": [
    "a = 1\n",
    "if a>0:\n",
    "    # In Python blocks are designated using whitespace\n",
    "    a += 1\n",
    "    print('positive')\n",
    "elif a<0:\n",
    "    a -= 1\n",
    "    print('negative')\n",
    "else:\n",
    "    print('zero')\n",
    "a"
   ]
  },
  {
   "cell_type": "markdown",
   "id": "168e4fe7-5d88-4c8c-84db-884522f8fc23",
   "metadata": {},
   "source": [
    "Loops are for traversing over collections such as lists, arrays, and sets. A very efficient way of using loops is called *comprehensions*:"
   ]
  },
  {
   "cell_type": "code",
   "execution_count": 255,
   "id": "3d25b076-1b2c-4dbe-be55-5a20eef33605",
   "metadata": {},
   "outputs": [
    {
     "data": {
      "text/plain": [
       "{'a': 1, 'b': 2, 'c': 3, 'd': 4}"
      ]
     },
     "execution_count": 255,
     "metadata": {},
     "output_type": "execute_result"
    }
   ],
   "source": [
    "xs = ['a','b','c','d']\n",
    "ys = [1,2,3,4,5]\n",
    "zs = {x: y for x,y in zip(xs,ys) }\n",
    "zs"
   ]
  },
  {
   "cell_type": "code",
   "execution_count": 258,
   "id": "f42c3990-9b7a-4f9b-a8f6-51612edbc092",
   "metadata": {},
   "outputs": [
    {
     "name": "stdout",
     "output_type": "stream",
     "text": [
      "a is in position 0\n",
      "b is in position 1\n",
      "c is in position 2\n",
      "d is in position 3\n"
     ]
    }
   ],
   "source": [
    "for i,x in enumerate(xs):\n",
    "    print(f'{x} is in position {i}')"
   ]
  },
  {
   "cell_type": "markdown",
   "id": "921ddd1c-535a-4a88-ab15-8bed320a1f67",
   "metadata": {},
   "source": [
    "### Functions\n",
    "\n",
    "Python has functions too"
   ]
  },
  {
   "cell_type": "code",
   "execution_count": 262,
   "id": "040efc73-c843-46bd-a728-29b712b8c17a",
   "metadata": {},
   "outputs": [],
   "source": [
    "def fn(x,y, z=0, t=-1):\n",
    "    if x > 0:\n",
    "        return (-t)*x + z*y\n",
    "    else:\n",
    "        return (-t)*x + z*y"
   ]
  },
  {
   "cell_type": "code",
   "execution_count": 265,
   "id": "ff3dd862-7aec-4781-9645-5c92a2ebe784",
   "metadata": {},
   "outputs": [
    {
     "data": {
      "text/plain": [
       "-110"
      ]
     },
     "execution_count": 265,
     "metadata": {},
     "output_type": "execute_result"
    }
   ],
   "source": [
    "fn(1,10,t=100,z=-1)"
   ]
  },
  {
   "cell_type": "code",
   "execution_count": 278,
   "id": "037a2297-9e5f-4f77-aaca-673cc3b89461",
   "metadata": {},
   "outputs": [],
   "source": [
    "def mine(f,x):\n",
    "    \"\"\"Takes a function f and applies to a value x\"\"\"\n",
    "    return f(x)"
   ]
  },
  {
   "cell_type": "code",
   "execution_count": 279,
   "id": "6f13fa88-43da-4f71-996d-980a6837d57e",
   "metadata": {},
   "outputs": [
    {
     "data": {
      "text/plain": [
       "\u001b[0;31mSignature:\u001b[0m \u001b[0mmine\u001b[0m\u001b[0;34m(\u001b[0m\u001b[0mf\u001b[0m\u001b[0;34m,\u001b[0m \u001b[0mx\u001b[0m\u001b[0;34m)\u001b[0m\u001b[0;34m\u001b[0m\u001b[0;34m\u001b[0m\u001b[0m\n",
       "\u001b[0;31mDocstring:\u001b[0m Takes a function f and applies to a value x\n",
       "\u001b[0;31mFile:\u001b[0m      /tmp/ipykernel_99346/2523046290.py\n",
       "\u001b[0;31mType:\u001b[0m      function"
      ]
     },
     "metadata": {},
     "output_type": "display_data"
    }
   ],
   "source": [
    "mine?"
   ]
  },
  {
   "cell_type": "code",
   "execution_count": 268,
   "id": "f0f43a68-3661-4f32-b3ef-f55ff7bdf676",
   "metadata": {},
   "outputs": [
    {
     "data": {
      "text/plain": [
       "11"
      ]
     },
     "execution_count": 268,
     "metadata": {},
     "output_type": "execute_result"
    }
   ],
   "source": [
    "mine(lambda x: x+1, 10)"
   ]
  },
  {
   "cell_type": "markdown",
   "id": "c782cb56-00db-48f6-9de7-b6bca5fc4ac5",
   "metadata": {},
   "source": [
    "# Python Library Ecosystem\n",
    "\n",
    "## Numpy\n",
    "\n",
    "[Numpy](https://numpy.org/) is the main python library for matrix calculation and basic mathematical functions operating on matrices."
   ]
  },
  {
   "cell_type": "code",
   "execution_count": 46,
   "id": "25bbc01f-7d39-4f25-8f50-a0552ed4b770",
   "metadata": {},
   "outputs": [],
   "source": [
    "# This is how you import a whole library\n",
    "import numpy as np"
   ]
  },
  {
   "cell_type": "markdown",
   "id": "06fe1ebd-c0a4-49ee-a5d0-60b9be2f17d6",
   "metadata": {},
   "source": [
    "Here is an example usage:"
   ]
  },
  {
   "cell_type": "code",
   "execution_count": 275,
   "id": "6ac88375-8f0a-4982-864c-19b79cc29b30",
   "metadata": {},
   "outputs": [
    {
     "data": {
      "text/plain": [
       "\u001b[0;31mDocstring:\u001b[0m\n",
       "a.prod(axis=None, dtype=None, out=None, keepdims=False, initial=1, where=True)\n",
       "\n",
       "Return the product of the array elements over the given axis\n",
       "\n",
       "Refer to `numpy.prod` for full documentation.\n",
       "\n",
       "See Also\n",
       "--------\n",
       "numpy.prod : equivalent function\n",
       "\u001b[0;31mType:\u001b[0m      builtin_function_or_method"
      ]
     },
     "metadata": {},
     "output_type": "display_data"
    }
   ],
   "source": [
    "xs.prod?"
   ]
  },
  {
   "cell_type": "code",
   "execution_count": 271,
   "id": "26a7ca82-4274-4924-b2a8-98734e49dbac",
   "metadata": {},
   "outputs": [
    {
     "data": {
      "text/plain": [
       "array([[0.29411331],\n",
       "       [0.47078884],\n",
       "       [0.41853258]])"
      ]
     },
     "execution_count": 271,
     "metadata": {},
     "output_type": "execute_result"
    }
   ],
   "source": [
    "xs = np.random.random((3,1))\n",
    "M = np.random.random((3,3))\n",
    "np.matmul(M,xs)"
   ]
  },
  {
   "cell_type": "code",
   "execution_count": 282,
   "id": "5817547c-6891-4002-870b-bfed216fd047",
   "metadata": {},
   "outputs": [
    {
     "data": {
      "text/plain": [
       "array([-1.83942806, -1.58919129, -0.66995547])"
      ]
     },
     "execution_count": 282,
     "metadata": {},
     "output_type": "execute_result"
    }
   ],
   "source": [
    "np.log(xs).T[0]"
   ]
  },
  {
   "cell_type": "code",
   "execution_count": 292,
   "id": "8d8fbe56-aa98-49ea-bb4d-a9eae83e7a16",
   "metadata": {},
   "outputs": [
    {
     "data": {
      "text/plain": [
       "array([[0.57210138, 0.73356722],\n",
       "       [0.7566767 , 0.69903634],\n",
       "       [0.1126028 , 0.71459372],\n",
       "       [0.39269045, 0.77811099]])"
      ]
     },
     "execution_count": 292,
     "metadata": {},
     "output_type": "execute_result"
    }
   ],
   "source": [
    "zs = np.random.random((10,3))\n",
    "zs[:4,:2]"
   ]
  },
  {
   "cell_type": "code",
   "execution_count": 293,
   "id": "b6bc5716-ac78-47f2-be7f-d83567d5ae34",
   "metadata": {},
   "outputs": [],
   "source": [
    "# Sample data points\n",
    "X = np.array([1, 2, 4, 6, 8, 10], dtype=float)\n",
    "Y = np.array([3, 5, 7, 10, 11, 14], dtype=float)"
   ]
  },
  {
   "cell_type": "code",
   "execution_count": 301,
   "id": "570f7386-dfbd-44f8-b1b6-a748c7a2da6d",
   "metadata": {},
   "outputs": [
    {
     "data": {
      "text/plain": [
       "60.83333333333333"
      ]
     },
     "execution_count": 301,
     "metadata": {},
     "output_type": "execute_result"
    }
   ],
   "source": [
    "# Calculate average of X and Y\n",
    "mean_x = X.mean()\n",
    "mean_y = Y.mean()\n",
    "np.power(X - mean_x, 2).sum()"
   ]
  },
  {
   "cell_type": "code",
   "execution_count": 303,
   "id": "603c909e-6856-4788-b67e-f2c25e31a24f",
   "metadata": {},
   "outputs": [
    {
     "data": {
      "text/plain": [
       "{'slope': 1.1616438356164382, 'intercept': 2.331506849315069}"
      ]
     },
     "execution_count": 303,
     "metadata": {},
     "output_type": "execute_result"
    }
   ],
   "source": [
    "# Calculate the regression coefficients\n",
    "m = ((X - mean_x) * (Y - mean_y)).sum() / np.power(X - mean_x, 2).sum()\n",
    "b = mean_y - m * mean_x\n",
    "\n",
    "{'slope': m, 'intercept': b}"
   ]
  },
  {
   "cell_type": "code",
   "execution_count": 314,
   "id": "d98529ca-d199-4a09-b8cc-0b1226cffe1a",
   "metadata": {},
   "outputs": [
    {
     "data": {
      "text/plain": [
       "{'mean': 0.4435638547131429,\n",
       " 'std': 0.28760341757039276,\n",
       " 'var': 0.0827157257981697}"
      ]
     },
     "execution_count": 314,
     "metadata": {},
     "output_type": "execute_result"
    }
   ],
   "source": [
    "xs = np.random.random(10)\n",
    "{'mean': xs.mean(),\n",
    " 'std': xs.std(),\n",
    " 'var': xs.var()\n",
    "}"
   ]
  },
  {
   "cell_type": "markdown",
   "id": "7767469d-8255-4e5a-bde0-27984330311c",
   "metadata": {},
   "source": [
    "### Pandas\n",
    "\n",
    "[Pandas](https://pandas.pydata.org/docs/user_guide/index.html) is main python library for ingesting, splitting, filtering, and grouping data. It can work with many different types and sources of data both locally, or over the net."
   ]
  },
  {
   "cell_type": "code",
   "execution_count": 1,
   "id": "e9844e67-943f-4ede-bf87-9bfae7be2047",
   "metadata": {},
   "outputs": [],
   "source": [
    "import pandas as pd"
   ]
  },
  {
   "cell_type": "code",
   "execution_count": 45,
   "id": "0e6383d0-8f92-4790-b613-ed82133b1ef3",
   "metadata": {},
   "outputs": [
    {
     "data": {
      "text/html": [
       "<div>\n",
       "<style scoped>\n",
       "    .dataframe tbody tr th:only-of-type {\n",
       "        vertical-align: middle;\n",
       "    }\n",
       "\n",
       "    .dataframe tbody tr th {\n",
       "        vertical-align: top;\n",
       "    }\n",
       "\n",
       "    .dataframe thead th {\n",
       "        text-align: right;\n",
       "    }\n",
       "</style>\n",
       "<table border=\"1\" class=\"dataframe\">\n",
       "  <thead>\n",
       "    <tr style=\"text-align: right;\">\n",
       "      <th></th>\n",
       "      <th>Unnamed: 0</th>\n",
       "      <th>transition_date</th>\n",
       "      <th>transition_hour</th>\n",
       "      <th>transport_type_id</th>\n",
       "      <th>road_type</th>\n",
       "      <th>line</th>\n",
       "      <th>transfer_type</th>\n",
       "      <th>number_of_passage</th>\n",
       "      <th>number_of_passenger</th>\n",
       "    </tr>\n",
       "  </thead>\n",
       "  <tbody>\n",
       "    <tr>\n",
       "      <th>0</th>\n",
       "      <td>0</td>\n",
       "      <td>2023-09-25</td>\n",
       "      <td>9</td>\n",
       "      <td>1</td>\n",
       "      <td>OTOYOL</td>\n",
       "      <td>ZEYTINBURNU-KAZLICESME</td>\n",
       "      <td>Aktarma</td>\n",
       "      <td>9</td>\n",
       "      <td>9</td>\n",
       "    </tr>\n",
       "    <tr>\n",
       "      <th>1</th>\n",
       "      <td>1</td>\n",
       "      <td>2023-09-26</td>\n",
       "      <td>14</td>\n",
       "      <td>1</td>\n",
       "      <td>OTOYOL</td>\n",
       "      <td>TARABYAUSTU-FREAHEVLER-ISTINYE ISKELE</td>\n",
       "      <td>Normal</td>\n",
       "      <td>1</td>\n",
       "      <td>1</td>\n",
       "    </tr>\n",
       "    <tr>\n",
       "      <th>2</th>\n",
       "      <td>2</td>\n",
       "      <td>2023-09-07</td>\n",
       "      <td>22</td>\n",
       "      <td>1</td>\n",
       "      <td>OTOYOL</td>\n",
       "      <td>ISTINYEDEREICI-RESITPASA-SISLI</td>\n",
       "      <td>Aktarma</td>\n",
       "      <td>5</td>\n",
       "      <td>5</td>\n",
       "    </tr>\n",
       "    <tr>\n",
       "      <th>3</th>\n",
       "      <td>3</td>\n",
       "      <td>2023-09-28</td>\n",
       "      <td>11</td>\n",
       "      <td>1</td>\n",
       "      <td>OTOYOL</td>\n",
       "      <td>KADIKOY-RASATHANE-ANADOLU HISARI</td>\n",
       "      <td>Normal</td>\n",
       "      <td>3</td>\n",
       "      <td>3</td>\n",
       "    </tr>\n",
       "    <tr>\n",
       "      <th>4</th>\n",
       "      <td>4</td>\n",
       "      <td>2023-09-08</td>\n",
       "      <td>22</td>\n",
       "      <td>1</td>\n",
       "      <td>OTOYOL</td>\n",
       "      <td>GUNESLI - BEYAZIT</td>\n",
       "      <td>Normal</td>\n",
       "      <td>357</td>\n",
       "      <td>351</td>\n",
       "    </tr>\n",
       "    <tr>\n",
       "      <th>...</th>\n",
       "      <td>...</td>\n",
       "      <td>...</td>\n",
       "      <td>...</td>\n",
       "      <td>...</td>\n",
       "      <td>...</td>\n",
       "      <td>...</td>\n",
       "      <td>...</td>\n",
       "      <td>...</td>\n",
       "      <td>...</td>\n",
       "    </tr>\n",
       "    <tr>\n",
       "      <th>4200607</th>\n",
       "      <td>4200607</td>\n",
       "      <td>2023-09-07</td>\n",
       "      <td>19</td>\n",
       "      <td>1</td>\n",
       "      <td>OTOYOL</td>\n",
       "      <td>I.U AVCILAR KAMPUSU - SEHIR HASTANESI</td>\n",
       "      <td>Normal</td>\n",
       "      <td>1</td>\n",
       "      <td>1</td>\n",
       "    </tr>\n",
       "    <tr>\n",
       "      <th>4200608</th>\n",
       "      <td>4200608</td>\n",
       "      <td>2023-09-04</td>\n",
       "      <td>18</td>\n",
       "      <td>1</td>\n",
       "      <td>OTOYOL</td>\n",
       "      <td>YENI MAHALLE-KADIKOY</td>\n",
       "      <td>Aktarma</td>\n",
       "      <td>7</td>\n",
       "      <td>7</td>\n",
       "    </tr>\n",
       "    <tr>\n",
       "      <th>4200609</th>\n",
       "      <td>4200609</td>\n",
       "      <td>2023-09-30</td>\n",
       "      <td>10</td>\n",
       "      <td>1</td>\n",
       "      <td>OTOYOL</td>\n",
       "      <td>CAMLICA CAMII - BULGURLU METRO - GOZTEPE KOPRUSU</td>\n",
       "      <td>Normal</td>\n",
       "      <td>7</td>\n",
       "      <td>7</td>\n",
       "    </tr>\n",
       "    <tr>\n",
       "      <th>4200610</th>\n",
       "      <td>4200610</td>\n",
       "      <td>2023-09-13</td>\n",
       "      <td>8</td>\n",
       "      <td>1</td>\n",
       "      <td>OTOYOL</td>\n",
       "      <td>SULTANBEYLI-YAKACIK-KARTAL</td>\n",
       "      <td>Normal</td>\n",
       "      <td>114</td>\n",
       "      <td>112</td>\n",
       "    </tr>\n",
       "    <tr>\n",
       "      <th>4200611</th>\n",
       "      <td>4200611</td>\n",
       "      <td>2023-09-21</td>\n",
       "      <td>21</td>\n",
       "      <td>1</td>\n",
       "      <td>OTOYOL</td>\n",
       "      <td>S.SAHINBEY-MECIDIYEKOY</td>\n",
       "      <td>Normal</td>\n",
       "      <td>9</td>\n",
       "      <td>9</td>\n",
       "    </tr>\n",
       "  </tbody>\n",
       "</table>\n",
       "<p>4200612 rows × 9 columns</p>\n",
       "</div>"
      ],
      "text/plain": [
       "         Unnamed: 0 transition_date  transition_hour  transport_type_id  \\\n",
       "0                 0      2023-09-25                9                  1   \n",
       "1                 1      2023-09-26               14                  1   \n",
       "2                 2      2023-09-07               22                  1   \n",
       "3                 3      2023-09-28               11                  1   \n",
       "4                 4      2023-09-08               22                  1   \n",
       "...             ...             ...              ...                ...   \n",
       "4200607     4200607      2023-09-07               19                  1   \n",
       "4200608     4200608      2023-09-04               18                  1   \n",
       "4200609     4200609      2023-09-30               10                  1   \n",
       "4200610     4200610      2023-09-13                8                  1   \n",
       "4200611     4200611      2023-09-21               21                  1   \n",
       "\n",
       "        road_type                                              line  \\\n",
       "0          OTOYOL                            ZEYTINBURNU-KAZLICESME   \n",
       "1          OTOYOL             TARABYAUSTU-FREAHEVLER-ISTINYE ISKELE   \n",
       "2          OTOYOL                   ISTINYEDEREICI-RESITPASA-SISLI    \n",
       "3          OTOYOL                  KADIKOY-RASATHANE-ANADOLU HISARI   \n",
       "4          OTOYOL                                 GUNESLI - BEYAZIT   \n",
       "...           ...                                               ...   \n",
       "4200607    OTOYOL             I.U AVCILAR KAMPUSU - SEHIR HASTANESI   \n",
       "4200608    OTOYOL                              YENI MAHALLE-KADIKOY   \n",
       "4200609    OTOYOL  CAMLICA CAMII - BULGURLU METRO - GOZTEPE KOPRUSU   \n",
       "4200610    OTOYOL                        SULTANBEYLI-YAKACIK-KARTAL   \n",
       "4200611    OTOYOL                            S.SAHINBEY-MECIDIYEKOY   \n",
       "\n",
       "        transfer_type  number_of_passage  number_of_passenger  \n",
       "0             Aktarma                  9                    9  \n",
       "1              Normal                  1                    1  \n",
       "2             Aktarma                  5                    5  \n",
       "3              Normal                  3                    3  \n",
       "4              Normal                357                  351  \n",
       "...               ...                ...                  ...  \n",
       "4200607        Normal                  1                    1  \n",
       "4200608       Aktarma                  7                    7  \n",
       "4200609        Normal                  7                    7  \n",
       "4200610        Normal                114                  112  \n",
       "4200611        Normal                  9                    9  \n",
       "\n",
       "[4200612 rows x 9 columns]"
      ]
     },
     "execution_count": 45,
     "metadata": {},
     "output_type": "execute_result"
    }
   ],
   "source": [
    "data = pd.read_csv('https://data.ibb.gov.tr/dataset/a6855ce7-4092-40a5-82b5-34cf3c7e36e3/resource/b3f67274-4ebc-4453-8f6b-1dcc1b1bf008/download/hourly_transportation_202309.csv')\n",
    "# data = pd.read_csv('../data/2023-09-Istanbul-Transportation-Data.csv',sep='\\t')\n",
    "data"
   ]
  },
  {
   "cell_type": "code",
   "execution_count": 315,
   "id": "2774b233-028e-4ad2-a6eb-9222569a34b3",
   "metadata": {},
   "outputs": [
    {
     "data": {
      "text/plain": [
       "Index(['Unnamed: 0', 'transition_date', 'transition_hour', 'transport_type_id',\n",
       "       'road_type', 'line', 'transfer_type', 'number_of_passage',\n",
       "       'number_of_passenger'],\n",
       "      dtype='object')"
      ]
     },
     "execution_count": 315,
     "metadata": {},
     "output_type": "execute_result"
    }
   ],
   "source": [
    "data.columns"
   ]
  },
  {
   "cell_type": "markdown",
   "id": "69b29ba4-db5c-4803-97ae-d3bbd5a3bd93",
   "metadata": {},
   "source": [
    "Pandas is very capable of doing a lot of stuff..."
   ]
  },
  {
   "cell_type": "code",
   "execution_count": 318,
   "id": "23285bf5-9035-4d58-822b-e88938ac6bc7",
   "metadata": {},
   "outputs": [
    {
     "data": {
      "text/html": [
       "<div>\n",
       "<style scoped>\n",
       "    .dataframe tbody tr th:only-of-type {\n",
       "        vertical-align: middle;\n",
       "    }\n",
       "\n",
       "    .dataframe tbody tr th {\n",
       "        vertical-align: top;\n",
       "    }\n",
       "\n",
       "    .dataframe thead th {\n",
       "        text-align: right;\n",
       "    }\n",
       "</style>\n",
       "<table border=\"1\" class=\"dataframe\">\n",
       "  <thead>\n",
       "    <tr style=\"text-align: right;\">\n",
       "      <th></th>\n",
       "      <th>transition_date</th>\n",
       "      <th>transition_hour</th>\n",
       "      <th>road_type</th>\n",
       "      <th>number_of_passenger</th>\n",
       "      <th>number_of_passage</th>\n",
       "    </tr>\n",
       "  </thead>\n",
       "  <tbody>\n",
       "    <tr>\n",
       "      <th>0</th>\n",
       "      <td>2023-09-25</td>\n",
       "      <td>9</td>\n",
       "      <td>OTOYOL</td>\n",
       "      <td>9</td>\n",
       "      <td>9</td>\n",
       "    </tr>\n",
       "    <tr>\n",
       "      <th>1</th>\n",
       "      <td>2023-09-26</td>\n",
       "      <td>14</td>\n",
       "      <td>OTOYOL</td>\n",
       "      <td>1</td>\n",
       "      <td>1</td>\n",
       "    </tr>\n",
       "    <tr>\n",
       "      <th>2</th>\n",
       "      <td>2023-09-07</td>\n",
       "      <td>22</td>\n",
       "      <td>OTOYOL</td>\n",
       "      <td>5</td>\n",
       "      <td>5</td>\n",
       "    </tr>\n",
       "    <tr>\n",
       "      <th>3</th>\n",
       "      <td>2023-09-28</td>\n",
       "      <td>11</td>\n",
       "      <td>OTOYOL</td>\n",
       "      <td>3</td>\n",
       "      <td>3</td>\n",
       "    </tr>\n",
       "    <tr>\n",
       "      <th>4</th>\n",
       "      <td>2023-09-08</td>\n",
       "      <td>22</td>\n",
       "      <td>OTOYOL</td>\n",
       "      <td>351</td>\n",
       "      <td>357</td>\n",
       "    </tr>\n",
       "    <tr>\n",
       "      <th>...</th>\n",
       "      <td>...</td>\n",
       "      <td>...</td>\n",
       "      <td>...</td>\n",
       "      <td>...</td>\n",
       "      <td>...</td>\n",
       "    </tr>\n",
       "    <tr>\n",
       "      <th>4200607</th>\n",
       "      <td>2023-09-07</td>\n",
       "      <td>19</td>\n",
       "      <td>OTOYOL</td>\n",
       "      <td>1</td>\n",
       "      <td>1</td>\n",
       "    </tr>\n",
       "    <tr>\n",
       "      <th>4200608</th>\n",
       "      <td>2023-09-04</td>\n",
       "      <td>18</td>\n",
       "      <td>OTOYOL</td>\n",
       "      <td>7</td>\n",
       "      <td>7</td>\n",
       "    </tr>\n",
       "    <tr>\n",
       "      <th>4200609</th>\n",
       "      <td>2023-09-30</td>\n",
       "      <td>10</td>\n",
       "      <td>OTOYOL</td>\n",
       "      <td>7</td>\n",
       "      <td>7</td>\n",
       "    </tr>\n",
       "    <tr>\n",
       "      <th>4200610</th>\n",
       "      <td>2023-09-13</td>\n",
       "      <td>8</td>\n",
       "      <td>OTOYOL</td>\n",
       "      <td>112</td>\n",
       "      <td>114</td>\n",
       "    </tr>\n",
       "    <tr>\n",
       "      <th>4200611</th>\n",
       "      <td>2023-09-21</td>\n",
       "      <td>21</td>\n",
       "      <td>OTOYOL</td>\n",
       "      <td>9</td>\n",
       "      <td>9</td>\n",
       "    </tr>\n",
       "  </tbody>\n",
       "</table>\n",
       "<p>4200612 rows × 5 columns</p>\n",
       "</div>"
      ],
      "text/plain": [
       "        transition_date  transition_hour road_type  number_of_passenger  \\\n",
       "0            2023-09-25                9    OTOYOL                    9   \n",
       "1            2023-09-26               14    OTOYOL                    1   \n",
       "2            2023-09-07               22    OTOYOL                    5   \n",
       "3            2023-09-28               11    OTOYOL                    3   \n",
       "4            2023-09-08               22    OTOYOL                  351   \n",
       "...                 ...              ...       ...                  ...   \n",
       "4200607      2023-09-07               19    OTOYOL                    1   \n",
       "4200608      2023-09-04               18    OTOYOL                    7   \n",
       "4200609      2023-09-30               10    OTOYOL                    7   \n",
       "4200610      2023-09-13                8    OTOYOL                  112   \n",
       "4200611      2023-09-21               21    OTOYOL                    9   \n",
       "\n",
       "         number_of_passage  \n",
       "0                        9  \n",
       "1                        1  \n",
       "2                        5  \n",
       "3                        3  \n",
       "4                      357  \n",
       "...                    ...  \n",
       "4200607                  1  \n",
       "4200608                  7  \n",
       "4200609                  7  \n",
       "4200610                114  \n",
       "4200611                  9  \n",
       "\n",
       "[4200612 rows x 5 columns]"
      ]
     },
     "execution_count": 318,
     "metadata": {},
     "output_type": "execute_result"
    }
   ],
   "source": [
    "data['transition_date'] = pd.to_datetime(data['transition_date'])\n",
    "subset = data[['transition_date','transition_hour','road_type','number_of_passenger','number_of_passage']]\n",
    "subset"
   ]
  },
  {
   "cell_type": "code",
   "execution_count": 316,
   "id": "3e3a1007-8f55-4288-93c6-9dcdb50c4e23",
   "metadata": {},
   "outputs": [
    {
     "data": {
      "text/plain": [
       "road_type\n",
       "DENİZ       6206711\n",
       "OTOYOL    108723269\n",
       "RAYLI      85788212\n",
       "Name: number_of_passage, dtype: int64"
      ]
     },
     "execution_count": 316,
     "metadata": {},
     "output_type": "execute_result"
    }
   ],
   "source": [
    "subset['number_of_passage'].groupby(subset['road_type']).sum()"
   ]
  },
  {
   "cell_type": "code",
   "execution_count": 331,
   "id": "84126e96-43d5-47bd-887b-10df51bb484c",
   "metadata": {},
   "outputs": [
    {
     "data": {
      "text/plain": [
       "<Axes: xlabel='transition_hour'>"
      ]
     },
     "execution_count": 331,
     "metadata": {},
     "output_type": "execute_result"
    },
    {
     "data": {
      "image/png": "[encoded data removed]",
      "text/plain": [
       "<Figure size 1800x300 with 1 Axes>"
      ]
     },
     "metadata": {},
     "output_type": "display_data"
    }
   ],
   "source": [
    "subset['number_of_passage'].groupby(subset['transition_hour']).sum().plot(figsize=(18,3))"
   ]
  },
  {
   "cell_type": "code",
   "execution_count": 338,
   "id": "cfeb4b7f-2d79-4deb-84b3-7335e1bf2828",
   "metadata": {},
   "outputs": [
    {
     "data": {
      "text/plain": [
       "<Axes: xlabel='transition_hour'>"
      ]
     },
     "execution_count": 338,
     "metadata": {},
     "output_type": "execute_result"
    },
    {
     "data": {
      "image/png": "[encoded data removed]",
      "text/plain": [
       "<Figure size 1800x300 with 1 Axes>"
      ]
     },
     "metadata": {},
     "output_type": "display_data"
    }
   ],
   "source": [
    "subset['number_of_passage'][ subset['road_type'] == \"OTOYOL\" ].groupby(subset['transition_hour']).sum().plot(figsize=(18,3))"
   ]
  },
  {
   "cell_type": "code",
   "execution_count": 322,
   "id": "9176b042-8e8f-48e4-9894-8bb587381263",
   "metadata": {},
   "outputs": [
    {
     "data": {
      "text/plain": [
       "<Axes: xlabel='transition_hour'>"
      ]
     },
     "execution_count": 322,
     "metadata": {},
     "output_type": "execute_result"
    },
    {
     "data": {
      "image/png": "[encoded data removed]",
      "text/plain": [
       "<Figure size 1800x300 with 1 Axes>"
      ]
     },
     "metadata": {},
     "output_type": "display_data"
    }
   ],
   "source": [
    "subset.query('road_type==\"OTOYOL\"')['number_of_passage'].groupby(subset['transition_hour']).sum().plot(figsize=(18,3))"
   ]
  },
  {
   "cell_type": "code",
   "execution_count": 323,
   "id": "e4a35354-9b39-41b7-a186-d0a7aedce9f0",
   "metadata": {},
   "outputs": [
    {
     "data": {
      "text/plain": [
       "<Axes: xlabel='transition_hour'>"
      ]
     },
     "execution_count": 323,
     "metadata": {},
     "output_type": "execute_result"
    },
    {
     "data": {
      "image/png": "[encoded data removed]",
      "text/plain": [
       "<Figure size 1800x300 with 1 Axes>"
      ]
     },
     "metadata": {},
     "output_type": "display_data"
    }
   ],
   "source": [
    "subset.query('road_type==\"RAYLI\"')['number_of_passage'].groupby(subset['transition_hour']).sum().plot(figsize=(18,3))"
   ]
  },
  {
   "cell_type": "code",
   "execution_count": 324,
   "id": "9b26fddc-90e9-46ec-bb6e-84610989ca39",
   "metadata": {},
   "outputs": [
    {
     "data": {
      "text/plain": [
       "<Axes: xlabel='transition_hour'>"
      ]
     },
     "execution_count": 324,
     "metadata": {},
     "output_type": "execute_result"
    },
    {
     "data": {
      "image/png": "[encoded data removed]",
      "text/plain": [
       "<Figure size 1800x300 with 1 Axes>"
      ]
     },
     "metadata": {},
     "output_type": "display_data"
    }
   ],
   "source": [
    "subset.query('road_type==\"DENİZ\"')['number_of_passage'].groupby(subset['transition_hour']).sum().plot(figsize=(18,3))"
   ]
  },
  {
   "cell_type": "markdown",
   "id": "910fc881-13f5-48a4-b0e6-27d8ef68ff0a",
   "metadata": {},
   "source": [
    "### scikit-learn and other libraries\n",
    "\n",
    "[sckit-learn](https://scikit-learn.org/) will be your go-to library for anything that involves machine learning algorithms, evaluation and error metrics."
   ]
  },
  {
   "cell_type": "code",
   "execution_count": 138,
   "id": "c26fa14a-19b5-41a0-b936-c29e0de388ab",
   "metadata": {},
   "outputs": [],
   "source": [
    "from sklearn import datasets\n",
    "from sklearn.decomposition import PCA\n",
    "\n",
    "import matplotlib.pyplot as plt"
   ]
  },
  {
   "cell_type": "code",
   "execution_count": 148,
   "id": "0c161bda-fe75-4480-b2cb-27e66e5fe533",
   "metadata": {
    "scrolled": true
   },
   "outputs": [
    {
     "data": {
      "text/plain": [
       "array(['setosa', 'versicolor', 'virginica'], dtype='<U10')"
      ]
     },
     "execution_count": 148,
     "metadata": {},
     "output_type": "execute_result"
    }
   ],
   "source": [
    "iris = datasets.load_iris()\n",
    "iris['target_names']"
   ]
  },
  {
   "cell_type": "code",
   "execution_count": 146,
   "id": "39946ed7-48c6-4096-a969-955b84bdcd96",
   "metadata": {},
   "outputs": [
    {
     "data": {
      "text/html": [
       "<div>\n",
       "<style scoped>\n",
       "    .dataframe tbody tr th:only-of-type {\n",
       "        vertical-align: middle;\n",
       "    }\n",
       "\n",
       "    .dataframe tbody tr th {\n",
       "        vertical-align: top;\n",
       "    }\n",
       "\n",
       "    .dataframe thead th {\n",
       "        text-align: right;\n",
       "    }\n",
       "</style>\n",
       "<table border=\"1\" class=\"dataframe\">\n",
       "  <thead>\n",
       "    <tr style=\"text-align: right;\">\n",
       "      <th></th>\n",
       "      <th>X</th>\n",
       "      <th>Y</th>\n",
       "      <th>Species</th>\n",
       "    </tr>\n",
       "  </thead>\n",
       "  <tbody>\n",
       "    <tr>\n",
       "      <th>0</th>\n",
       "      <td>-2.684126</td>\n",
       "      <td>0.319397</td>\n",
       "      <td>0</td>\n",
       "    </tr>\n",
       "    <tr>\n",
       "      <th>1</th>\n",
       "      <td>-2.714142</td>\n",
       "      <td>-0.177001</td>\n",
       "      <td>0</td>\n",
       "    </tr>\n",
       "    <tr>\n",
       "      <th>2</th>\n",
       "      <td>-2.888991</td>\n",
       "      <td>-0.144949</td>\n",
       "      <td>0</td>\n",
       "    </tr>\n",
       "    <tr>\n",
       "      <th>3</th>\n",
       "      <td>-2.745343</td>\n",
       "      <td>-0.318299</td>\n",
       "      <td>0</td>\n",
       "    </tr>\n",
       "    <tr>\n",
       "      <th>4</th>\n",
       "      <td>-2.728717</td>\n",
       "      <td>0.326755</td>\n",
       "      <td>0</td>\n",
       "    </tr>\n",
       "    <tr>\n",
       "      <th>...</th>\n",
       "      <td>...</td>\n",
       "      <td>...</td>\n",
       "      <td>...</td>\n",
       "    </tr>\n",
       "    <tr>\n",
       "      <th>145</th>\n",
       "      <td>1.944110</td>\n",
       "      <td>0.187532</td>\n",
       "      <td>2</td>\n",
       "    </tr>\n",
       "    <tr>\n",
       "      <th>146</th>\n",
       "      <td>1.527167</td>\n",
       "      <td>-0.375317</td>\n",
       "      <td>2</td>\n",
       "    </tr>\n",
       "    <tr>\n",
       "      <th>147</th>\n",
       "      <td>1.764346</td>\n",
       "      <td>0.078859</td>\n",
       "      <td>2</td>\n",
       "    </tr>\n",
       "    <tr>\n",
       "      <th>148</th>\n",
       "      <td>1.900942</td>\n",
       "      <td>0.116628</td>\n",
       "      <td>2</td>\n",
       "    </tr>\n",
       "    <tr>\n",
       "      <th>149</th>\n",
       "      <td>1.390189</td>\n",
       "      <td>-0.282661</td>\n",
       "      <td>2</td>\n",
       "    </tr>\n",
       "  </tbody>\n",
       "</table>\n",
       "<p>150 rows × 3 columns</p>\n",
       "</div>"
      ],
      "text/plain": [
       "            X         Y  Species\n",
       "0   -2.684126  0.319397        0\n",
       "1   -2.714142 -0.177001        0\n",
       "2   -2.888991 -0.144949        0\n",
       "3   -2.745343 -0.318299        0\n",
       "4   -2.728717  0.326755        0\n",
       "..        ...       ...      ...\n",
       "145  1.944110  0.187532        2\n",
       "146  1.527167 -0.375317        2\n",
       "147  1.764346  0.078859        2\n",
       "148  1.900942  0.116628        2\n",
       "149  1.390189 -0.282661        2\n",
       "\n",
       "[150 rows x 3 columns]"
      ]
     },
     "execution_count": 146,
     "metadata": {},
     "output_type": "execute_result"
    }
   ],
   "source": [
    "projection = PCA(n_components=2)\n",
    "projected_data = pd.DataFrame(projection.fit_transform(iris['data']),columns=['X','Y'])\n",
    "projected_data['Species'] = iris['target']\n",
    "projected_data"
   ]
  },
  {
   "cell_type": "code",
   "execution_count": 153,
   "id": "5708946a-7704-417f-8381-019fc8d906ba",
   "metadata": {},
   "outputs": [
    {
     "data": {
      "text/plain": [
       "<matplotlib.collections.PathCollection at 0x7fe264d77c50>"
      ]
     },
     "execution_count": 153,
     "metadata": {},
     "output_type": "execute_result"
    },
    {
     "data": {
      "image/png": "[encoded data removed]",
      "text/plain": [
       "<Figure size 1800x600 with 1 Axes>"
      ]
     },
     "metadata": {},
     "output_type": "display_data"
    }
   ],
   "source": [
    "plt.figure(figsize=(18,6))\n",
    "plt.scatter(projected_data['X'],projected_data['Y'],c=iris['target'])"
   ]
  },
  {
   "cell_type": "code",
   "execution_count": 152,
   "id": "f7bbc3ba-6c78-4aac-9fcd-0745f075ac61",
   "metadata": {},
   "outputs": [
    {
     "name": "stderr",
     "output_type": "stream",
     "text": [
      "/home/kaygun/local/venv/lib/python3.11/site-packages/altair/utils/core.py:410: FutureWarning: the convert_dtype parameter is deprecated and will be removed in a future version.  Do ``ser.astype(object).apply()`` instead if you want ``convert_dtype=False``.\n",
      "  col = df[col_name].apply(to_list_if_array, convert_dtype=False)\n"
     ]
    },
    {
     "data": {
      "text/html": [
       "\n",
       "<style>\n",
       "  #altair-viz-7821bc65cd794f47a8e22c11a3c38fde.vega-embed {\n",
       "    width: 100%;\n",
       "    display: flex;\n",
       "  }\n",
       "\n",
       "  #altair-viz-7821bc65cd794f47a8e22c11a3c38fde.vega-embed details,\n",
       "  #altair-viz-7821bc65cd794f47a8e22c11a3c38fde.vega-embed details summary {\n",
       "    position: relative;\n",
       "  }\n",
       "</style>\n",
       "<div id=\"altair-viz-7821bc65cd794f47a8e22c11a3c38fde\"></div>\n",
       "<script type=\"text/javascript\">\n",
       "  var VEGA_DEBUG = (typeof VEGA_DEBUG == \"undefined\") ? {} : VEGA_DEBUG;\n",
       "  (function(spec, embedOpt){\n",
       "    let outputDiv = document.currentScript.previousElementSibling;\n",
       "    if (outputDiv.id !== \"altair-viz-7821bc65cd794f47a8e22c11a3c38fde\") {\n",
       "      outputDiv = document.getElementById(\"altair-viz-7821bc65cd794f47a8e22c11a3c38fde\");\n",
       "    }\n",
       "    const paths = {\n",
       "      \"vega\": \"https://cdn.jsdelivr.net/npm/vega@5?noext\",\n",
       "      \"vega-lib\": \"https://cdn.jsdelivr.net/npm/vega-lib?noext\",\n",
       "      \"vega-lite\": \"https://cdn.jsdelivr.net/npm/vega-lite@5.14.1?noext\",\n",
       "      \"vega-embed\": \"https://cdn.jsdelivr.net/npm/vega-embed@6?noext\",\n",
       "    };\n",
       "\n",
       "    function maybeLoadScript(lib, version) {\n",
       "      var key = `${lib.replace(\"-\", \"\")}_version`;\n",
       "      return (VEGA_DEBUG[key] == version) ?\n",
       "        Promise.resolve(paths[lib]) :\n",
       "        new Promise(function(resolve, reject) {\n",
       "          var s = document.createElement('script');\n",
       "          document.getElementsByTagName(\"head\")[0].appendChild(s);\n",
       "          s.async = true;\n",
       "          s.onload = () => {\n",
       "            VEGA_DEBUG[key] = version;\n",
       "            return resolve(paths[lib]);\n",
       "          };\n",
       "          s.onerror = () => reject(`Error loading script: ${paths[lib]}`);\n",
       "          s.src = paths[lib];\n",
       "        });\n",
       "    }\n",
       "\n",
       "    function showError(err) {\n",
       "      outputDiv.innerHTML = `<div class=\"error\" style=\"color:red;\">${err}</div>`;\n",
       "      throw err;\n",
       "    }\n",
       "\n",
       "    function displayChart(vegaEmbed) {\n",
       "      vegaEmbed(outputDiv, spec, embedOpt)\n",
       "        .catch(err => showError(`Javascript Error: ${err.message}<br>This usually means there's a typo in your chart specification. See the javascript console for the full traceback.`));\n",
       "    }\n",
       "\n",
       "    if(typeof define === \"function\" && define.amd) {\n",
       "      requirejs.config({paths});\n",
       "      require([\"vega-embed\"], displayChart, err => showError(`Error loading script: ${err.message}`));\n",
       "    } else {\n",
       "      maybeLoadScript(\"vega\", \"5\")\n",
       "        .then(() => maybeLoadScript(\"vega-lite\", \"5.14.1\"))\n",
       "        .then(() => maybeLoadScript(\"vega-embed\", \"6\"))\n",
       "        .catch(showError)\n",
       "        .then(() => displayChart(vegaEmbed));\n",
       "    }\n",
       "  })({\"config\": {\"view\": {\"continuousWidth\": 300, \"continuousHeight\": 300}}, \"data\": {\"name\": \"data-26fe98966e1361be526ebaa2b69e328b\"}, \"mark\": {\"type\": \"circle\", \"size\": 60}, \"encoding\": {\"color\": {\"field\": \"Species\", \"type\": \"quantitative\"}, \"tooltip\": [{\"field\": \"Name\", \"type\": \"nominal\"}], \"x\": {\"field\": \"X\", \"type\": \"quantitative\"}, \"y\": {\"field\": \"Y\", \"type\": \"quantitative\"}}, \"height\": 400, \"params\": [{\"name\": \"param_5\", \"select\": {\"type\": \"interval\", \"encodings\": [\"x\", \"y\"]}, \"bind\": \"scales\"}], \"width\": 800, \"$schema\": \"https://vega.github.io/schema/vega-lite/v5.14.1.json\", \"datasets\": {\"data-26fe98966e1361be526ebaa2b69e328b\": [{\"X\": -2.6841256259695383, \"Y\": 0.3193972465851019, \"Species\": 0, \"Names\": \"setosa\", \"Name\": \"setosa\"}, {\"X\": -2.7141416872943265, \"Y\": -0.17700122506478047, \"Species\": 0, \"Names\": \"setosa\", \"Name\": \"setosa\"}, {\"X\": -2.8889905690592976, \"Y\": -0.14494942608555741, \"Species\": 0, \"Names\": \"setosa\", \"Name\": \"setosa\"}, {\"X\": -2.74534285564141, \"Y\": -0.3182989792519161, \"Species\": 0, \"Names\": \"setosa\", \"Name\": \"setosa\"}, {\"X\": -2.728716536554531, \"Y\": 0.32675451293491975, \"Species\": 0, \"Names\": \"setosa\", \"Name\": \"setosa\"}, {\"X\": -2.280859632844493, \"Y\": 0.7413304490629148, \"Species\": 0, \"Names\": \"setosa\", \"Name\": \"setosa\"}, {\"X\": -2.820537750740609, \"Y\": -0.08946138452856883, \"Species\": 0, \"Names\": \"setosa\", \"Name\": \"setosa\"}, {\"X\": -2.6261449731466335, \"Y\": 0.1633849596983285, \"Species\": 0, \"Names\": \"setosa\", \"Name\": \"setosa\"}, {\"X\": -2.8863827317805537, \"Y\": -0.5783117541867038, \"Species\": 0, \"Names\": \"setosa\", \"Name\": \"setosa\"}, {\"X\": -2.672755797820954, \"Y\": -0.11377424587411691, \"Species\": 0, \"Names\": \"setosa\", \"Name\": \"setosa\"}, {\"X\": -2.5069470906518565, \"Y\": 0.6450688986485738, \"Species\": 0, \"Names\": \"setosa\", \"Name\": \"setosa\"}, {\"X\": -2.612755230908723, \"Y\": 0.014729939161374366, \"Species\": 0, \"Names\": \"setosa\", \"Name\": \"setosa\"}, {\"X\": -2.786109266188018, \"Y\": -0.2351120002017185, \"Species\": 0, \"Names\": \"setosa\", \"Name\": \"setosa\"}, {\"X\": -3.223803743865653, \"Y\": -0.5113945870063822, \"Species\": 0, \"Names\": \"setosa\", \"Name\": \"setosa\"}, {\"X\": -2.6447503899420295, \"Y\": 1.1787646364375748, \"Species\": 0, \"Names\": \"setosa\", \"Name\": \"setosa\"}, {\"X\": -2.386039033531134, \"Y\": 1.3380623304006525, \"Species\": 0, \"Names\": \"setosa\", \"Name\": \"setosa\"}, {\"X\": -2.623527875224427, \"Y\": 0.8106795141812576, \"Species\": 0, \"Names\": \"setosa\", \"Name\": \"setosa\"}, {\"X\": -2.6482967062543823, \"Y\": 0.3118491445933546, \"Species\": 0, \"Names\": \"setosa\", \"Name\": \"setosa\"}, {\"X\": -2.1998203236175806, \"Y\": 0.8728390389622106, \"Species\": 0, \"Names\": \"setosa\", \"Name\": \"setosa\"}, {\"X\": -2.587986399878769, \"Y\": 0.5135603087492766, \"Species\": 0, \"Names\": \"setosa\", \"Name\": \"setosa\"}, {\"X\": -2.310256215242519, \"Y\": 0.39134593565389403, \"Species\": 0, \"Names\": \"setosa\", \"Name\": \"setosa\"}, {\"X\": -2.543705228757157, \"Y\": 0.4329960632790281, \"Species\": 0, \"Names\": \"setosa\", \"Name\": \"setosa\"}, {\"X\": -3.2159394156486116, \"Y\": 0.13346806953852575, \"Species\": 0, \"Names\": \"setosa\", \"Name\": \"setosa\"}, {\"X\": -2.3027331822262074, \"Y\": 0.09870885481409934, \"Species\": 0, \"Names\": \"setosa\", \"Name\": \"setosa\"}, {\"X\": -2.3557540491237727, \"Y\": -0.037281859677382734, \"Species\": 0, \"Names\": \"setosa\", \"Name\": \"setosa\"}, {\"X\": -2.5066689069258223, \"Y\": -0.14601688049526781, \"Species\": 0, \"Names\": \"setosa\", \"Name\": \"setosa\"}, {\"X\": -2.4688200731213397, \"Y\": 0.13095148943525015, \"Species\": 0, \"Names\": \"setosa\", \"Name\": \"setosa\"}, {\"X\": -2.5623199061960165, \"Y\": 0.36771885743419974, \"Species\": 0, \"Names\": \"setosa\", \"Name\": \"setosa\"}, {\"X\": -2.639534715384543, \"Y\": 0.31203998023528273, \"Species\": 0, \"Names\": \"setosa\", \"Name\": \"setosa\"}, {\"X\": -2.6319893872743467, \"Y\": -0.1969612249243146, \"Species\": 0, \"Names\": \"setosa\", \"Name\": \"setosa\"}, {\"X\": -2.5873984766893527, \"Y\": -0.20431849127413348, \"Species\": 0, \"Names\": \"setosa\", \"Name\": \"setosa\"}, {\"X\": -2.409932497002175, \"Y\": 0.41092426422957273, \"Species\": 0, \"Names\": \"setosa\", \"Name\": \"setosa\"}, {\"X\": -2.6488623343499125, \"Y\": 0.8133638202969619, \"Species\": 0, \"Names\": \"setosa\", \"Name\": \"setosa\"}, {\"X\": -2.598736749100588, \"Y\": 1.0931457594493568, \"Species\": 0, \"Names\": \"setosa\", \"Name\": \"setosa\"}, {\"X\": -2.636926878105799, \"Y\": -0.12132234786586324, \"Species\": 0, \"Names\": \"setosa\", \"Name\": \"setosa\"}, {\"X\": -2.86624165211867, \"Y\": 0.06936447158008047, \"Species\": 0, \"Names\": \"setosa\", \"Name\": \"setosa\"}, {\"X\": -2.6252380498503727, \"Y\": 0.5993700213794234, \"Species\": 0, \"Names\": \"setosa\", \"Name\": \"setosa\"}, {\"X\": -2.8006841154482225, \"Y\": 0.2686437377979822, \"Species\": 0, \"Names\": \"setosa\", \"Name\": \"setosa\"}, {\"X\": -2.9805020437819936, \"Y\": -0.4879583444286154, \"Species\": 0, \"Names\": \"setosa\", \"Name\": \"setosa\"}, {\"X\": -2.590006313968097, \"Y\": 0.22904383682701246, \"Species\": 0, \"Names\": \"setosa\", \"Name\": \"setosa\"}, {\"X\": -2.770102426027903, \"Y\": 0.2635275337442564, \"Species\": 0, \"Names\": \"setosa\", \"Name\": \"setosa\"}, {\"X\": -2.849368705043105, \"Y\": -0.9409605736411966, \"Species\": 0, \"Names\": \"setosa\", \"Name\": \"setosa\"}, {\"X\": -2.9974065465949082, \"Y\": -0.3419260574716099, \"Species\": 0, \"Names\": \"setosa\", \"Name\": \"setosa\"}, {\"X\": -2.405614485097487, \"Y\": 0.18887142893026027, \"Species\": 0, \"Names\": \"setosa\", \"Name\": \"setosa\"}, {\"X\": -2.20948923778368, \"Y\": 0.4366631416391876, \"Species\": 0, \"Names\": \"setosa\", \"Name\": \"setosa\"}, {\"X\": -2.714451426757708, \"Y\": -0.2502082041852111, \"Species\": 0, \"Names\": \"setosa\", \"Name\": \"setosa\"}, {\"X\": -2.53814825899894, \"Y\": 0.5037711444614373, \"Species\": 0, \"Names\": \"setosa\", \"Name\": \"setosa\"}, {\"X\": -2.8394621676428504, \"Y\": -0.22794556949382766, \"Species\": 0, \"Names\": \"setosa\", \"Name\": \"setosa\"}, {\"X\": -2.5430857498303934, \"Y\": 0.5794100215198891, \"Species\": 0, \"Names\": \"setosa\", \"Name\": \"setosa\"}, {\"X\": -2.7033597823351605, \"Y\": 0.10770608249941153, \"Species\": 0, \"Names\": \"setosa\", \"Name\": \"setosa\"}, {\"X\": 1.2848256888583507, \"Y\": 0.685160470467308, \"Species\": 1, \"Names\": \"versicolor\", \"Name\": \"versicolor\"}, {\"X\": 0.9324885323123178, \"Y\": 0.3183336382626286, \"Species\": 1, \"Names\": \"versicolor\", \"Name\": \"versicolor\"}, {\"X\": 1.4643023219913933, \"Y\": 0.5042628153092037, \"Species\": 1, \"Names\": \"versicolor\", \"Name\": \"versicolor\"}, {\"X\": 0.18331771995837007, \"Y\": -0.827959011820632, \"Species\": 1, \"Names\": \"versicolor\", \"Name\": \"versicolor\"}, {\"X\": 1.0881032577116654, \"Y\": 0.07459067519771587, \"Species\": 1, \"Names\": \"versicolor\", \"Name\": \"versicolor\"}, {\"X\": 0.6416690842580772, \"Y\": -0.41824687156867896, \"Species\": 1, \"Names\": \"versicolor\", \"Name\": \"versicolor\"}, {\"X\": 1.0950606626324462, \"Y\": 0.28346827006152864, \"Species\": 1, \"Names\": \"versicolor\", \"Name\": \"versicolor\"}, {\"X\": -0.7491226698296577, \"Y\": -1.0048909611818955, \"Species\": 1, \"Names\": \"versicolor\", \"Name\": \"versicolor\"}, {\"X\": 1.0441318260534354, \"Y\": 0.22836189978839522, \"Species\": 1, \"Names\": \"versicolor\", \"Name\": \"versicolor\"}, {\"X\": -0.00874540408289656, \"Y\": -0.7230819050048343, \"Species\": 1, \"Names\": \"versicolor\", \"Name\": \"versicolor\"}, {\"X\": -0.5078408838353264, \"Y\": -1.2659711905263937, \"Species\": 1, \"Names\": \"versicolor\", \"Name\": \"versicolor\"}, {\"X\": 0.5116985574475968, \"Y\": -0.10398123549904062, \"Species\": 1, \"Names\": \"versicolor\", \"Name\": \"versicolor\"}, {\"X\": 0.2649765081120461, \"Y\": -0.5500364636804749, \"Species\": 1, \"Names\": \"versicolor\", \"Name\": \"versicolor\"}, {\"X\": 0.9849345104708898, \"Y\": -0.12481785412635771, \"Species\": 1, \"Names\": \"versicolor\", \"Name\": \"versicolor\"}, {\"X\": -0.17392537168176836, \"Y\": -0.2548542087025894, \"Species\": 1, \"Names\": \"versicolor\", \"Name\": \"versicolor\"}, {\"X\": 0.9278607809442465, \"Y\": 0.4671794944415102, \"Species\": 1, \"Names\": \"versicolor\", \"Name\": \"versicolor\"}, {\"X\": 0.6602837616969367, \"Y\": -0.3529696657238507, \"Species\": 1, \"Names\": \"versicolor\", \"Name\": \"versicolor\"}, {\"X\": 0.23610499331767115, \"Y\": -0.33361076682491564, \"Species\": 1, \"Names\": \"versicolor\", \"Name\": \"versicolor\"}, {\"X\": 0.9447337280198124, \"Y\": -0.5431455507797666, \"Species\": 1, \"Names\": \"versicolor\", \"Name\": \"versicolor\"}, {\"X\": 0.04522697629869941, \"Y\": -0.5838343774718645, \"Species\": 1, \"Names\": \"versicolor\", \"Name\": \"versicolor\"}, {\"X\": 1.1162831773500492, \"Y\": -0.0846168521947883, \"Species\": 1, \"Names\": \"versicolor\", \"Name\": \"versicolor\"}, {\"X\": 0.3578884179973068, \"Y\": -0.06892503165601414, \"Species\": 1, \"Names\": \"versicolor\", \"Name\": \"versicolor\"}, {\"X\": 1.2981838753589132, \"Y\": -0.3277873083339175, \"Species\": 1, \"Names\": \"versicolor\", \"Name\": \"versicolor\"}, {\"X\": 0.9217289224470365, \"Y\": -0.18273779362136777, \"Species\": 1, \"Names\": \"versicolor\", \"Name\": \"versicolor\"}, {\"X\": 0.7148533259114113, \"Y\": 0.14905594436978445, \"Species\": 1, \"Names\": \"versicolor\", \"Name\": \"versicolor\"}, {\"X\": 0.900174373172167, \"Y\": 0.3285044738343229, \"Species\": 1, \"Names\": \"versicolor\", \"Name\": \"versicolor\"}, {\"X\": 1.3320244367220877, \"Y\": 0.24444087601634312, \"Species\": 1, \"Names\": \"versicolor\", \"Name\": \"versicolor\"}, {\"X\": 1.55780215506607, \"Y\": 0.2674954473102544, \"Species\": 1, \"Names\": \"versicolor\", \"Name\": \"versicolor\"}, {\"X\": 0.8132906498175408, \"Y\": -0.1633503006876165, \"Species\": 1, \"Names\": \"versicolor\", \"Name\": \"versicolor\"}, {\"X\": -0.3055837780243095, \"Y\": -0.3682621897545881, \"Species\": 1, \"Names\": \"versicolor\", \"Name\": \"versicolor\"}, {\"X\": -0.06812649206836412, \"Y\": -0.7051721317994654, \"Species\": 1, \"Names\": \"versicolor\", \"Name\": \"versicolor\"}, {\"X\": -0.18962247237850247, \"Y\": -0.6802867635281334, \"Species\": 1, \"Names\": \"versicolor\", \"Name\": \"versicolor\"}, {\"X\": 0.13642871155801442, \"Y\": -0.31403243824923693, \"Species\": 1, \"Names\": \"versicolor\", \"Name\": \"versicolor\"}, {\"X\": 1.3800264359155103, \"Y\": -0.420954287313882, \"Species\": 1, \"Names\": \"versicolor\", \"Name\": \"versicolor\"}, {\"X\": 0.588006443339863, \"Y\": -0.4842874199812185, \"Species\": 1, \"Names\": \"versicolor\", \"Name\": \"versicolor\"}, {\"X\": 0.8068583125004116, \"Y\": 0.1941823147131505, \"Species\": 1, \"Names\": \"versicolor\", \"Name\": \"versicolor\"}, {\"X\": 1.220690882444352, \"Y\": 0.40761959361100686, \"Species\": 1, \"Names\": \"versicolor\", \"Name\": \"versicolor\"}, {\"X\": 0.8150952357665991, \"Y\": -0.372037059909502, \"Species\": 1, \"Names\": \"versicolor\", \"Name\": \"versicolor\"}, {\"X\": 0.24595767988669193, \"Y\": -0.2685243966220151, \"Species\": 1, \"Names\": \"versicolor\", \"Name\": \"versicolor\"}, {\"X\": 0.1664132171454564, \"Y\": -0.6819267248636268, \"Species\": 1, \"Names\": \"versicolor\", \"Name\": \"versicolor\"}, {\"X\": 0.4648002884037789, \"Y\": -0.6707115445117207, \"Species\": 1, \"Names\": \"versicolor\", \"Name\": \"versicolor\"}, {\"X\": 0.8908151984694487, \"Y\": -0.034464444368269155, \"Species\": 1, \"Names\": \"versicolor\", \"Name\": \"versicolor\"}, {\"X\": 0.2305480235594548, \"Y\": -0.4043858480073253, \"Species\": 1, \"Names\": \"versicolor\", \"Name\": \"versicolor\"}, {\"X\": -0.7045317592446643, \"Y\": -1.0122482275317142, \"Species\": 1, \"Names\": \"versicolor\", \"Name\": \"versicolor\"}, {\"X\": 0.3569814947010466, \"Y\": -0.5049100933371088, \"Species\": 1, \"Names\": \"versicolor\", \"Name\": \"versicolor\"}, {\"X\": 0.3319344799450578, \"Y\": -0.21265468378117008, \"Species\": 1, \"Names\": \"versicolor\", \"Name\": \"versicolor\"}, {\"X\": 0.3762156510666699, \"Y\": -0.2932189292514192, \"Species\": 1, \"Names\": \"versicolor\", \"Name\": \"versicolor\"}, {\"X\": 0.6425760075543373, \"Y\": 0.017738190112415994, \"Species\": 1, \"Names\": \"versicolor\", \"Name\": \"versicolor\"}, {\"X\": -0.9064698649488365, \"Y\": -0.756093366599014, \"Species\": 1, \"Names\": \"versicolor\", \"Name\": \"versicolor\"}, {\"X\": 0.2990008418781428, \"Y\": -0.3488978064503361, \"Species\": 1, \"Names\": \"versicolor\", \"Name\": \"versicolor\"}, {\"X\": 2.5311927278036275, \"Y\": -0.009849109498802364, \"Species\": 2, \"Names\": \"virginica\", \"Name\": \"virginica\"}, {\"X\": 1.415235876703902, \"Y\": -0.5749163475464896, \"Species\": 2, \"Names\": \"virginica\", \"Name\": \"virginica\"}, {\"X\": 2.616676015995689, \"Y\": 0.3439031513417339, \"Species\": 2, \"Names\": \"virginica\", \"Name\": \"virginica\"}, {\"X\": 1.971531053043435, \"Y\": -0.1797279043522458, \"Species\": 2, \"Names\": \"virginica\", \"Name\": \"virginica\"}, {\"X\": 2.3500059200446395, \"Y\": -0.040260947142531416, \"Species\": 2, \"Names\": \"virginica\", \"Name\": \"virginica\"}, {\"X\": 3.3970387360532572, \"Y\": 0.550836673028055, \"Species\": 2, \"Names\": \"virginica\", \"Name\": \"virginica\"}, {\"X\": 0.521232243909773, \"Y\": -1.1927587270006452, \"Species\": 2, \"Names\": \"virginica\", \"Name\": \"virginica\"}, {\"X\": 2.9325870689936875, \"Y\": 0.35550000297749573, \"Species\": 2, \"Names\": \"virginica\", \"Name\": \"virginica\"}, {\"X\": 2.3212288165733774, \"Y\": -0.24383150231069092, \"Species\": 2, \"Names\": \"virginica\", \"Name\": \"virginica\"}, {\"X\": 2.9167509667860716, \"Y\": 0.782791948815278, \"Species\": 2, \"Names\": \"virginica\", \"Name\": \"virginica\"}, {\"X\": 1.661774153636531, \"Y\": 0.24222840775506665, \"Species\": 2, \"Names\": \"virginica\", \"Name\": \"virginica\"}, {\"X\": 1.8034019529650906, \"Y\": -0.21563761733355566, \"Species\": 2, \"Names\": \"virginica\", \"Name\": \"virginica\"}, {\"X\": 2.1655917960801445, \"Y\": 0.21627558507402436, \"Species\": 2, \"Names\": \"virginica\", \"Name\": \"virginica\"}, {\"X\": 1.3461635794584508, \"Y\": -0.7768183473443396, \"Species\": 2, \"Names\": \"virginica\", \"Name\": \"virginica\"}, {\"X\": 1.5859282238732204, \"Y\": -0.5396407140267188, \"Species\": 2, \"Names\": \"virginica\", \"Name\": \"virginica\"}, {\"X\": 1.9044563747934264, \"Y\": 0.11925069209197241, \"Species\": 2, \"Names\": \"virginica\", \"Name\": \"virginica\"}, {\"X\": 1.9496890593990683, \"Y\": 0.041943259663211, \"Species\": 2, \"Names\": \"virginica\", \"Name\": \"virginica\"}, {\"X\": 3.487055364290279, \"Y\": 1.1757393297134284, \"Species\": 2, \"Names\": \"virginica\", \"Name\": \"virginica\"}, {\"X\": 3.795645422072883, \"Y\": 0.2573229734204789, \"Species\": 2, \"Names\": \"virginica\", \"Name\": \"virginica\"}, {\"X\": 1.3007917126376565, \"Y\": -0.7611496364350635, \"Species\": 2, \"Names\": \"virginica\", \"Name\": \"virginica\"}, {\"X\": 2.4278179130660447, \"Y\": 0.37819601261705027, \"Species\": 2, \"Names\": \"virginica\", \"Name\": \"virginica\"}, {\"X\": 1.1990011054655603, \"Y\": -0.6060915277579306, \"Species\": 2, \"Names\": \"virginica\", \"Name\": \"virginica\"}, {\"X\": 3.499920038924537, \"Y\": 0.46067409891189437, \"Species\": 2, \"Names\": \"virginica\", \"Name\": \"virginica\"}, {\"X\": 1.3887661316914646, \"Y\": -0.20439932735215113, \"Species\": 2, \"Names\": \"virginica\", \"Name\": \"virginica\"}, {\"X\": 2.275430503872204, \"Y\": 0.33499060582167695, \"Species\": 2, \"Names\": \"virginica\", \"Name\": \"virginica\"}, {\"X\": 2.61409047381083, \"Y\": 0.5609013551230771, \"Species\": 2, \"Names\": \"virginica\", \"Name\": \"virginica\"}, {\"X\": 1.2585081605114872, \"Y\": -0.17970479472274684, \"Species\": 2, \"Names\": \"virginica\", \"Name\": \"virginica\"}, {\"X\": 1.2911320591150204, \"Y\": -0.1166686511740117, \"Species\": 2, \"Names\": \"virginica\", \"Name\": \"virginica\"}, {\"X\": 2.123608722773894, \"Y\": -0.20972947667730296, \"Species\": 2, \"Names\": \"virginica\", \"Name\": \"virginica\"}, {\"X\": 2.388003016003467, \"Y\": 0.46463980470873584, \"Species\": 2, \"Names\": \"virginica\", \"Name\": \"virginica\"}, {\"X\": 2.8416727781038698, \"Y\": 0.3752691671951028, \"Species\": 2, \"Names\": \"virginica\", \"Name\": \"virginica\"}, {\"X\": 3.230673661432092, \"Y\": 1.3741650867930468, \"Species\": 2, \"Names\": \"virginica\", \"Name\": \"virginica\"}, {\"X\": 2.159437642489049, \"Y\": -0.2172775786690493, \"Species\": 2, \"Names\": \"virginica\", \"Name\": \"virginica\"}, {\"X\": 1.444161242329509, \"Y\": -0.14341341045758108, \"Species\": 2, \"Names\": \"virginica\", \"Name\": \"virginica\"}, {\"X\": 1.7812948100451114, \"Y\": -0.4999016810781369, \"Species\": 2, \"Names\": \"virginica\", \"Name\": \"virginica\"}, {\"X\": 3.0764999316871866, \"Y\": 0.6880856775711752, \"Species\": 2, \"Names\": \"virginica\", \"Name\": \"virginica\"}, {\"X\": 2.144243314302081, \"Y\": 0.1400642010897896, \"Species\": 2, \"Names\": \"virginica\", \"Name\": \"virginica\"}, {\"X\": 1.9050981488140752, \"Y\": 0.049300526013029825, \"Species\": 2, \"Names\": \"virginica\", \"Name\": \"virginica\"}, {\"X\": 1.1693263393414997, \"Y\": -0.16499026202310982, \"Species\": 2, \"Names\": \"virginica\", \"Name\": \"virginica\"}, {\"X\": 2.107611143257241, \"Y\": 0.3722878719607972, \"Species\": 2, \"Names\": \"virginica\", \"Name\": \"virginica\"}, {\"X\": 2.314154705235599, \"Y\": 0.1836512791690187, \"Species\": 2, \"Names\": \"virginica\", \"Name\": \"virginica\"}, {\"X\": 1.9222678009026004, \"Y\": 0.4092034668160619, \"Species\": 2, \"Names\": \"virginica\", \"Name\": \"virginica\"}, {\"X\": 1.415235876703902, \"Y\": -0.5749163475464896, \"Species\": 2, \"Names\": \"virginica\", \"Name\": \"virginica\"}, {\"X\": 2.5630133750774746, \"Y\": 0.2778626029291944, \"Species\": 2, \"Names\": \"virginica\", \"Name\": \"virginica\"}, {\"X\": 2.418746182732824, \"Y\": 0.30479819785469164, \"Species\": 2, \"Names\": \"virginica\", \"Name\": \"virginica\"}, {\"X\": 1.9441097945469672, \"Y\": 0.18753230280060498, \"Species\": 2, \"Names\": \"virginica\", \"Name\": \"virginica\"}, {\"X\": 1.5271666148145164, \"Y\": -0.3753169825804885, \"Species\": 2, \"Names\": \"virginica\", \"Name\": \"virginica\"}, {\"X\": 1.7643457170444283, \"Y\": 0.07885885451847544, \"Species\": 2, \"Names\": \"virginica\", \"Name\": \"virginica\"}, {\"X\": 1.9009416142184226, \"Y\": 0.11662795851202329, \"Species\": 2, \"Names\": \"virginica\", \"Name\": \"virginica\"}, {\"X\": 1.3901888619479128, \"Y\": -0.28266093799055075, \"Species\": 2, \"Names\": \"virginica\", \"Name\": \"virginica\"}]}}, {\"mode\": \"vega-lite\"});\n",
       "</script>"
      ],
      "text/plain": [
       "alt.Chart(...)"
      ]
     },
     "execution_count": 152,
     "metadata": {},
     "output_type": "execute_result"
    }
   ],
   "source": [
    "import altair as alt\n",
    "\n",
    "projected_data['Name'] = [ iris['target_names'][i] for i in projected_data['Species'] ]\n",
    "\n",
    "alt.Chart(projected_data).mark_circle(size=60).encode(\n",
    "    x='X',\n",
    "    y='Y',\n",
    "    color='Species',\n",
    "    tooltip=['Name']\n",
    ").properties(\n",
    "    width = 800,\n",
    "    height = 400\n",
    ").interactive()"
   ]
  },
  {
   "cell_type": "code",
   "execution_count": 73,
   "id": "5a1fb1a1-192d-443d-8443-3055ea49fb77",
   "metadata": {},
   "outputs": [],
   "source": [
    "import yfinance as yf\n",
    "from statsmodels.tsa.arima.model import ARIMA\n",
    "from sklearn.metrics import mean_squared_error, mean_absolute_error"
   ]
  },
  {
   "cell_type": "code",
   "execution_count": 75,
   "id": "e06b18d3-8355-4433-b86d-0189104e24b3",
   "metadata": {},
   "outputs": [
    {
     "name": "stdout",
     "output_type": "stream",
     "text": [
      "[*********************100%%**********************]  1 of 1 completed\n"
     ]
    },
    {
     "data": {
      "text/html": [
       "<div>\n",
       "<style scoped>\n",
       "    .dataframe tbody tr th:only-of-type {\n",
       "        vertical-align: middle;\n",
       "    }\n",
       "\n",
       "    .dataframe tbody tr th {\n",
       "        vertical-align: top;\n",
       "    }\n",
       "\n",
       "    .dataframe thead th {\n",
       "        text-align: right;\n",
       "    }\n",
       "</style>\n",
       "<table border=\"1\" class=\"dataframe\">\n",
       "  <thead>\n",
       "    <tr style=\"text-align: right;\">\n",
       "      <th></th>\n",
       "      <th>Open</th>\n",
       "      <th>High</th>\n",
       "      <th>Low</th>\n",
       "      <th>Close</th>\n",
       "      <th>Adj Close</th>\n",
       "      <th>Volume</th>\n",
       "    </tr>\n",
       "    <tr>\n",
       "      <th>Date</th>\n",
       "      <th></th>\n",
       "      <th></th>\n",
       "      <th></th>\n",
       "      <th></th>\n",
       "      <th></th>\n",
       "      <th></th>\n",
       "    </tr>\n",
       "  </thead>\n",
       "  <tbody>\n",
       "    <tr>\n",
       "      <th>2002-05-23</th>\n",
       "      <td>1.156429</td>\n",
       "      <td>1.242857</td>\n",
       "      <td>1.145714</td>\n",
       "      <td>1.196429</td>\n",
       "      <td>1.196429</td>\n",
       "      <td>104790000</td>\n",
       "    </tr>\n",
       "    <tr>\n",
       "      <th>2002-05-24</th>\n",
       "      <td>1.214286</td>\n",
       "      <td>1.225000</td>\n",
       "      <td>1.197143</td>\n",
       "      <td>1.210000</td>\n",
       "      <td>1.210000</td>\n",
       "      <td>11104800</td>\n",
       "    </tr>\n",
       "    <tr>\n",
       "      <th>2002-05-28</th>\n",
       "      <td>1.213571</td>\n",
       "      <td>1.232143</td>\n",
       "      <td>1.157143</td>\n",
       "      <td>1.157143</td>\n",
       "      <td>1.157143</td>\n",
       "      <td>6609400</td>\n",
       "    </tr>\n",
       "    <tr>\n",
       "      <th>2002-05-29</th>\n",
       "      <td>1.164286</td>\n",
       "      <td>1.164286</td>\n",
       "      <td>1.085714</td>\n",
       "      <td>1.103571</td>\n",
       "      <td>1.103571</td>\n",
       "      <td>6757800</td>\n",
       "    </tr>\n",
       "    <tr>\n",
       "      <th>2002-05-30</th>\n",
       "      <td>1.107857</td>\n",
       "      <td>1.107857</td>\n",
       "      <td>1.071429</td>\n",
       "      <td>1.071429</td>\n",
       "      <td>1.071429</td>\n",
       "      <td>10154200</td>\n",
       "    </tr>\n",
       "    <tr>\n",
       "      <th>...</th>\n",
       "      <td>...</td>\n",
       "      <td>...</td>\n",
       "      <td>...</td>\n",
       "      <td>...</td>\n",
       "      <td>...</td>\n",
       "      <td>...</td>\n",
       "    </tr>\n",
       "    <tr>\n",
       "      <th>2023-10-02</th>\n",
       "      <td>377.480011</td>\n",
       "      <td>384.809998</td>\n",
       "      <td>376.799988</td>\n",
       "      <td>380.329987</td>\n",
       "      <td>380.329987</td>\n",
       "      <td>3102100</td>\n",
       "    </tr>\n",
       "    <tr>\n",
       "      <th>2023-10-03</th>\n",
       "      <td>377.109985</td>\n",
       "      <td>394.899994</td>\n",
       "      <td>372.850006</td>\n",
       "      <td>376.750000</td>\n",
       "      <td>376.750000</td>\n",
       "      <td>8878100</td>\n",
       "    </tr>\n",
       "    <tr>\n",
       "      <th>2023-10-04</th>\n",
       "      <td>376.500000</td>\n",
       "      <td>380.220001</td>\n",
       "      <td>373.579987</td>\n",
       "      <td>376.899994</td>\n",
       "      <td>376.899994</td>\n",
       "      <td>4303700</td>\n",
       "    </tr>\n",
       "    <tr>\n",
       "      <th>2023-10-05</th>\n",
       "      <td>378.010010</td>\n",
       "      <td>378.600006</td>\n",
       "      <td>367.239990</td>\n",
       "      <td>372.589996</td>\n",
       "      <td>372.589996</td>\n",
       "      <td>5034800</td>\n",
       "    </tr>\n",
       "    <tr>\n",
       "      <th>2023-10-06</th>\n",
       "      <td>368.429993</td>\n",
       "      <td>382.519989</td>\n",
       "      <td>367.769989</td>\n",
       "      <td>381.510010</td>\n",
       "      <td>381.510010</td>\n",
       "      <td>4773400</td>\n",
       "    </tr>\n",
       "  </tbody>\n",
       "</table>\n",
       "<p>5381 rows × 6 columns</p>\n",
       "</div>"
      ],
      "text/plain": [
       "                  Open        High         Low       Close   Adj Close  \\\n",
       "Date                                                                     \n",
       "2002-05-23    1.156429    1.242857    1.145714    1.196429    1.196429   \n",
       "2002-05-24    1.214286    1.225000    1.197143    1.210000    1.210000   \n",
       "2002-05-28    1.213571    1.232143    1.157143    1.157143    1.157143   \n",
       "2002-05-29    1.164286    1.164286    1.085714    1.103571    1.103571   \n",
       "2002-05-30    1.107857    1.107857    1.071429    1.071429    1.071429   \n",
       "...                ...         ...         ...         ...         ...   \n",
       "2023-10-02  377.480011  384.809998  376.799988  380.329987  380.329987   \n",
       "2023-10-03  377.109985  394.899994  372.850006  376.750000  376.750000   \n",
       "2023-10-04  376.500000  380.220001  373.579987  376.899994  376.899994   \n",
       "2023-10-05  378.010010  378.600006  367.239990  372.589996  372.589996   \n",
       "2023-10-06  368.429993  382.519989  367.769989  381.510010  381.510010   \n",
       "\n",
       "               Volume  \n",
       "Date                   \n",
       "2002-05-23  104790000  \n",
       "2002-05-24   11104800  \n",
       "2002-05-28    6609400  \n",
       "2002-05-29    6757800  \n",
       "2002-05-30   10154200  \n",
       "...               ...  \n",
       "2023-10-02    3102100  \n",
       "2023-10-03    8878100  \n",
       "2023-10-04    4303700  \n",
       "2023-10-05    5034800  \n",
       "2023-10-06    4773400  \n",
       "\n",
       "[5381 rows x 6 columns]"
      ]
     },
     "execution_count": 75,
     "metadata": {},
     "output_type": "execute_result"
    }
   ],
   "source": [
    "NETFLIX = yf.download('NFLX')\n",
    "NETFLIX"
   ]
  },
  {
   "cell_type": "code",
   "execution_count": 91,
   "id": "7de96bb5-fd7e-45ab-bd92-3596ff060ff7",
   "metadata": {},
   "outputs": [
    {
     "data": {
      "text/plain": [
       "Date\n",
       "2002-05-23      1.196429\n",
       "2002-05-24      1.210000\n",
       "2002-05-28      1.157143\n",
       "2002-05-29      1.103571\n",
       "2002-05-30      1.071429\n",
       "                 ...    \n",
       "2023-10-02    380.329987\n",
       "2023-10-03    376.750000\n",
       "2023-10-04    376.899994\n",
       "2023-10-05    372.589996\n",
       "2023-10-06    381.510010\n",
       "Freq: D, Name: Close, Length: 5381, dtype: float64"
      ]
     },
     "execution_count": 91,
     "metadata": {},
     "output_type": "execute_result"
    }
   ],
   "source": [
    "N = len(NETFLIX)\n",
    "M = int(N*0.95)\n",
    "ys = NETFLIX['Close']\n",
    "ys.index = pd.to_datetime(NETFLIX.index).to_period('D')\n",
    "ys"
   ]
  },
  {
   "cell_type": "code",
   "execution_count": 92,
   "id": "a0cc81bc-85b3-43cc-8bad-f46e50b2b3db",
   "metadata": {},
   "outputs": [
    {
     "data": {
      "text/plain": [
       "2016-05-20    233.343417\n",
       "Freq: D, dtype: float64"
      ]
     },
     "execution_count": 92,
     "metadata": {},
     "output_type": "execute_result"
    }
   ],
   "source": [
    "model = ARIMA(ys[:M], order=(1,1,0))\n",
    "fit = model.fit()\n",
    "fit.forecast()"
   ]
  },
  {
   "cell_type": "code",
   "execution_count": 128,
   "id": "f5485c9c-53a5-46c7-b7ae-b3636659d3a7",
   "metadata": {
    "scrolled": true
   },
   "outputs": [],
   "source": [
    "predictions = []\n",
    "for i in range(M-1,N-1):\n",
    "    model = ARIMA(ys[:i], order=(1,1,0))\n",
    "    fit = model.fit()\n",
    "    yhat = fit.forecast().iloc[0]\n",
    "    predictions.append(yhat)"
   ]
  },
  {
   "cell_type": "code",
   "execution_count": 174,
   "id": "34db516b-29cc-49ec-afdf-fc34873c16e3",
   "metadata": {},
   "outputs": [
    {
     "data": {
      "text/plain": [
       "<Axes: xlabel='Date'>"
      ]
     },
     "execution_count": 174,
     "metadata": {},
     "output_type": "execute_result"
    },
    {
     "data": {
      "image/png": "[encoded data removed]",
      "text/plain": [
       "<Figure size 1800x300 with 1 Axes>"
      ]
     },
     "metadata": {},
     "output_type": "display_data"
    }
   ],
   "source": [
    "res = pd.DataFrame(ys[M:])\n",
    "res['Prediction']= predictions\n",
    "res.plot(figsize=(18,3))"
   ]
  },
  {
   "cell_type": "code",
   "execution_count": 176,
   "id": "7b2211e7-47b0-445a-b70e-22f23aa2cf65",
   "metadata": {},
   "outputs": [
    {
     "data": {
      "text/html": [
       "<div>\n",
       "<style scoped>\n",
       "    .dataframe tbody tr th:only-of-type {\n",
       "        vertical-align: middle;\n",
       "    }\n",
       "\n",
       "    .dataframe tbody tr th {\n",
       "        vertical-align: top;\n",
       "    }\n",
       "\n",
       "    .dataframe thead th {\n",
       "        text-align: right;\n",
       "    }\n",
       "</style>\n",
       "<table border=\"1\" class=\"dataframe\">\n",
       "  <thead>\n",
       "    <tr style=\"text-align: right;\">\n",
       "      <th></th>\n",
       "      <th>Close</th>\n",
       "      <th>Prediction</th>\n",
       "    </tr>\n",
       "    <tr>\n",
       "      <th>Date</th>\n",
       "      <th></th>\n",
       "      <th></th>\n",
       "    </tr>\n",
       "  </thead>\n",
       "  <tbody>\n",
       "    <tr>\n",
       "      <th>2022-09-12</th>\n",
       "      <td>236.529999</td>\n",
       "      <td>227.496099</td>\n",
       "    </tr>\n",
       "    <tr>\n",
       "      <th>2022-09-13</th>\n",
       "      <td>218.130005</td>\n",
       "      <td>233.343417</td>\n",
       "    </tr>\n",
       "    <tr>\n",
       "      <th>2022-09-14</th>\n",
       "      <td>224.119995</td>\n",
       "      <td>236.420953</td>\n",
       "    </tr>\n",
       "    <tr>\n",
       "      <th>2022-09-15</th>\n",
       "      <td>235.380005</td>\n",
       "      <td>218.814199</td>\n",
       "    </tr>\n",
       "    <tr>\n",
       "      <th>2022-09-16</th>\n",
       "      <td>240.130005</td>\n",
       "      <td>223.893546</td>\n",
       "    </tr>\n",
       "    <tr>\n",
       "      <th>...</th>\n",
       "      <td>...</td>\n",
       "      <td>...</td>\n",
       "    </tr>\n",
       "    <tr>\n",
       "      <th>2023-10-02</th>\n",
       "      <td>380.329987</td>\n",
       "      <td>376.391761</td>\n",
       "    </tr>\n",
       "    <tr>\n",
       "      <th>2023-10-03</th>\n",
       "      <td>376.750000</td>\n",
       "      <td>377.567961</td>\n",
       "    </tr>\n",
       "    <tr>\n",
       "      <th>2023-10-04</th>\n",
       "      <td>376.899994</td>\n",
       "      <td>380.259490</td>\n",
       "    </tr>\n",
       "    <tr>\n",
       "      <th>2023-10-05</th>\n",
       "      <td>372.589996</td>\n",
       "      <td>376.842638</td>\n",
       "    </tr>\n",
       "    <tr>\n",
       "      <th>2023-10-06</th>\n",
       "      <td>381.510010</td>\n",
       "      <td>376.896112</td>\n",
       "    </tr>\n",
       "  </tbody>\n",
       "</table>\n",
       "<p>270 rows × 2 columns</p>\n",
       "</div>"
      ],
      "text/plain": [
       "                 Close  Prediction\n",
       "Date                              \n",
       "2022-09-12  236.529999  227.496099\n",
       "2022-09-13  218.130005  233.343417\n",
       "2022-09-14  224.119995  236.420953\n",
       "2022-09-15  235.380005  218.814199\n",
       "2022-09-16  240.130005  223.893546\n",
       "...                ...         ...\n",
       "2023-10-02  380.329987  376.391761\n",
       "2023-10-03  376.750000  377.567961\n",
       "2023-10-04  376.899994  380.259490\n",
       "2023-10-05  372.589996  376.842638\n",
       "2023-10-06  381.510010  376.896112\n",
       "\n",
       "[270 rows x 2 columns]"
      ]
     },
     "execution_count": 176,
     "metadata": {},
     "output_type": "execute_result"
    }
   ],
   "source": [
    "res"
   ]
  },
  {
   "cell_type": "code",
   "execution_count": 219,
   "id": "064e0721-3b71-4043-a508-cae90b9618fa",
   "metadata": {},
   "outputs": [
    {
     "data": {
      "text/html": [
       "<div>\n",
       "<style scoped>\n",
       "    .dataframe tbody tr th:only-of-type {\n",
       "        vertical-align: middle;\n",
       "    }\n",
       "\n",
       "    .dataframe tbody tr th {\n",
       "        vertical-align: top;\n",
       "    }\n",
       "\n",
       "    .dataframe thead th {\n",
       "        text-align: right;\n",
       "    }\n",
       "</style>\n",
       "<table border=\"1\" class=\"dataframe\">\n",
       "  <thead>\n",
       "    <tr style=\"text-align: right;\">\n",
       "      <th></th>\n",
       "      <th>Date</th>\n",
       "      <th>Value</th>\n",
       "      <th>type</th>\n",
       "    </tr>\n",
       "    <tr>\n",
       "      <th>Date</th>\n",
       "      <th></th>\n",
       "      <th></th>\n",
       "      <th></th>\n",
       "    </tr>\n",
       "  </thead>\n",
       "  <tbody>\n",
       "    <tr>\n",
       "      <th>2022-09-12</th>\n",
       "      <td>2022-09-12</td>\n",
       "      <td>236.529999</td>\n",
       "      <td>Close</td>\n",
       "    </tr>\n",
       "    <tr>\n",
       "      <th>2022-09-13</th>\n",
       "      <td>2022-09-13</td>\n",
       "      <td>218.130005</td>\n",
       "      <td>Close</td>\n",
       "    </tr>\n",
       "    <tr>\n",
       "      <th>2022-09-14</th>\n",
       "      <td>2022-09-14</td>\n",
       "      <td>224.119995</td>\n",
       "      <td>Close</td>\n",
       "    </tr>\n",
       "    <tr>\n",
       "      <th>2022-09-15</th>\n",
       "      <td>2022-09-15</td>\n",
       "      <td>235.380005</td>\n",
       "      <td>Close</td>\n",
       "    </tr>\n",
       "    <tr>\n",
       "      <th>2022-09-16</th>\n",
       "      <td>2022-09-16</td>\n",
       "      <td>240.130005</td>\n",
       "      <td>Close</td>\n",
       "    </tr>\n",
       "    <tr>\n",
       "      <th>...</th>\n",
       "      <td>...</td>\n",
       "      <td>...</td>\n",
       "      <td>...</td>\n",
       "    </tr>\n",
       "    <tr>\n",
       "      <th>2023-10-02</th>\n",
       "      <td>2023-10-02</td>\n",
       "      <td>376.391761</td>\n",
       "      <td>Prediction</td>\n",
       "    </tr>\n",
       "    <tr>\n",
       "      <th>2023-10-03</th>\n",
       "      <td>2023-10-03</td>\n",
       "      <td>377.567961</td>\n",
       "      <td>Prediction</td>\n",
       "    </tr>\n",
       "    <tr>\n",
       "      <th>2023-10-04</th>\n",
       "      <td>2023-10-04</td>\n",
       "      <td>380.259490</td>\n",
       "      <td>Prediction</td>\n",
       "    </tr>\n",
       "    <tr>\n",
       "      <th>2023-10-05</th>\n",
       "      <td>2023-10-05</td>\n",
       "      <td>376.842638</td>\n",
       "      <td>Prediction</td>\n",
       "    </tr>\n",
       "    <tr>\n",
       "      <th>2023-10-06</th>\n",
       "      <td>2023-10-06</td>\n",
       "      <td>376.896112</td>\n",
       "      <td>Prediction</td>\n",
       "    </tr>\n",
       "  </tbody>\n",
       "</table>\n",
       "<p>540 rows × 3 columns</p>\n",
       "</div>"
      ],
      "text/plain": [
       "                  Date       Value        type\n",
       "Date                                          \n",
       "2022-09-12  2022-09-12  236.529999       Close\n",
       "2022-09-13  2022-09-13  218.130005       Close\n",
       "2022-09-14  2022-09-14  224.119995       Close\n",
       "2022-09-15  2022-09-15  235.380005       Close\n",
       "2022-09-16  2022-09-16  240.130005       Close\n",
       "...                ...         ...         ...\n",
       "2023-10-02  2023-10-02  376.391761  Prediction\n",
       "2023-10-03  2023-10-03  377.567961  Prediction\n",
       "2023-10-04  2023-10-04  380.259490  Prediction\n",
       "2023-10-05  2023-10-05  376.842638  Prediction\n",
       "2023-10-06  2023-10-06  376.896112  Prediction\n",
       "\n",
       "[540 rows x 3 columns]"
      ]
     },
     "execution_count": 219,
     "metadata": {},
     "output_type": "execute_result"
    }
   ],
   "source": [
    "res['date'] = res.index.astype('string')\n",
    "A = res[['date','Close']]; A.columns = ['Date','Value']\n",
    "B = res[['date','Prediction']]; B.columns = ['Date','Value']\n",
    "tmp = pd.concat([A,B])\n",
    "tmp['type'] = np.array(['Close' for i in range(N-M)] + ['Prediction' for i in range(N-M)])\n",
    "tmp"
   ]
  },
  {
   "cell_type": "code",
   "execution_count": 220,
   "id": "e6a73078-07f0-48f6-be54-f602506aff81",
   "metadata": {},
   "outputs": [
    {
     "name": "stderr",
     "output_type": "stream",
     "text": [
      "/home/kaygun/local/venv/lib/python3.11/site-packages/altair/utils/core.py:410: FutureWarning: the convert_dtype parameter is deprecated and will be removed in a future version.  Do ``ser.astype(object).apply()`` instead if you want ``convert_dtype=False``.\n",
      "  col = df[col_name].apply(to_list_if_array, convert_dtype=False)\n"
     ]
    },
    {
     "data": {
      "text/html": [
       "\n",
       "<style>\n",
       "  #altair-viz-f8db4fd1a26c4191ae71c66a42a1c104.vega-embed {\n",
       "    width: 100%;\n",
       "    display: flex;\n",
       "  }\n",
       "\n",
       "  #altair-viz-f8db4fd1a26c4191ae71c66a42a1c104.vega-embed details,\n",
       "  #altair-viz-f8db4fd1a26c4191ae71c66a42a1c104.vega-embed details summary {\n",
       "    position: relative;\n",
       "  }\n",
       "</style>\n",
       "<div id=\"altair-viz-f8db4fd1a26c4191ae71c66a42a1c104\"></div>\n",
       "<script type=\"text/javascript\">\n",
       "  var VEGA_DEBUG = (typeof VEGA_DEBUG == \"undefined\") ? {} : VEGA_DEBUG;\n",
       "  (function(spec, embedOpt){\n",
       "    let outputDiv = document.currentScript.previousElementSibling;\n",
       "    if (outputDiv.id !== \"altair-viz-f8db4fd1a26c4191ae71c66a42a1c104\") {\n",
       "      outputDiv = document.getElementById(\"altair-viz-f8db4fd1a26c4191ae71c66a42a1c104\");\n",
       "    }\n",
       "    const paths = {\n",
       "      \"vega\": \"https://cdn.jsdelivr.net/npm/vega@5?noext\",\n",
       "      \"vega-lib\": \"https://cdn.jsdelivr.net/npm/vega-lib?noext\",\n",
       "      \"vega-lite\": \"https://cdn.jsdelivr.net/npm/vega-lite@5.14.1?noext\",\n",
       "      \"vega-embed\": \"https://cdn.jsdelivr.net/npm/vega-embed@6?noext\",\n",
       "    };\n",
       "\n",
       "    function maybeLoadScript(lib, version) {\n",
       "      var key = `${lib.replace(\"-\", \"\")}_version`;\n",
       "      return (VEGA_DEBUG[key] == version) ?\n",
       "        Promise.resolve(paths[lib]) :\n",
       "        new Promise(function(resolve, reject) {\n",
       "          var s = document.createElement('script');\n",
       "          document.getElementsByTagName(\"head\")[0].appendChild(s);\n",
       "          s.async = true;\n",
       "          s.onload = () => {\n",
       "            VEGA_DEBUG[key] = version;\n",
       "            return resolve(paths[lib]);\n",
       "          };\n",
       "          s.onerror = () => reject(`Error loading script: ${paths[lib]}`);\n",
       "          s.src = paths[lib];\n",
       "        });\n",
       "    }\n",
       "\n",
       "    function showError(err) {\n",
       "      outputDiv.innerHTML = `<div class=\"error\" style=\"color:red;\">${err}</div>`;\n",
       "      throw err;\n",
       "    }\n",
       "\n",
       "    function displayChart(vegaEmbed) {\n",
       "      vegaEmbed(outputDiv, spec, embedOpt)\n",
       "        .catch(err => showError(`Javascript Error: ${err.message}<br>This usually means there's a typo in your chart specification. See the javascript console for the full traceback.`));\n",
       "    }\n",
       "\n",
       "    if(typeof define === \"function\" && define.amd) {\n",
       "      requirejs.config({paths});\n",
       "      require([\"vega-embed\"], displayChart, err => showError(`Error loading script: ${err.message}`));\n",
       "    } else {\n",
       "      maybeLoadScript(\"vega\", \"5\")\n",
       "        .then(() => maybeLoadScript(\"vega-lite\", \"5.14.1\"))\n",
       "        .then(() => maybeLoadScript(\"vega-embed\", \"6\"))\n",
       "        .catch(showError)\n",
       "        .then(() => displayChart(vegaEmbed));\n",
       "    }\n",
       "  })({\"config\": {\"view\": {\"continuousWidth\": 300, \"continuousHeight\": 300}}, \"data\": {\"name\": \"data-bd1861c820ba354e9083f23186a8ac16\"}, \"mark\": {\"type\": \"line\"}, \"encoding\": {\"color\": {\"field\": \"type\", \"type\": \"nominal\"}, \"x\": {\"field\": \"Date\", \"type\": \"temporal\"}, \"y\": {\"field\": \"Value\", \"type\": \"quantitative\"}}, \"height\": 200, \"width\": 900, \"$schema\": \"https://vega.github.io/schema/vega-lite/v5.14.1.json\", \"datasets\": {\"data-bd1861c820ba354e9083f23186a8ac16\": [{\"Date\": \"2022-09-12\", \"Value\": 236.52999877929688, \"type\": \"Close\"}, {\"Date\": \"2022-09-13\", \"Value\": 218.1300048828125, \"type\": \"Close\"}, {\"Date\": \"2022-09-14\", \"Value\": 224.1199951171875, \"type\": \"Close\"}, {\"Date\": \"2022-09-15\", \"Value\": 235.3800048828125, \"type\": \"Close\"}, {\"Date\": \"2022-09-16\", \"Value\": 240.1300048828125, \"type\": \"Close\"}, {\"Date\": \"2022-09-19\", \"Value\": 243.6300048828125, \"type\": \"Close\"}, {\"Date\": \"2022-09-20\", \"Value\": 242.85000610351562, \"type\": \"Close\"}, {\"Date\": \"2022-09-21\", \"Value\": 236.8699951171875, \"type\": \"Close\"}, {\"Date\": \"2022-09-22\", \"Value\": 237.0500030517578, \"type\": \"Close\"}, {\"Date\": \"2022-09-23\", \"Value\": 226.41000366210938, \"type\": \"Close\"}, {\"Date\": \"2022-09-26\", \"Value\": 224.07000732421875, \"type\": \"Close\"}, {\"Date\": \"2022-09-27\", \"Value\": 224.36000061035156, \"type\": \"Close\"}, {\"Date\": \"2022-09-28\", \"Value\": 245.1999969482422, \"type\": \"Close\"}, {\"Date\": \"2022-09-29\", \"Value\": 239.7100067138672, \"type\": \"Close\"}, {\"Date\": \"2022-09-30\", \"Value\": 235.44000244140625, \"type\": \"Close\"}, {\"Date\": \"2022-10-03\", \"Value\": 239.0399932861328, \"type\": \"Close\"}, {\"Date\": \"2022-10-04\", \"Value\": 240.74000549316406, \"type\": \"Close\"}, {\"Date\": \"2022-10-05\", \"Value\": 236.72999572753906, \"type\": \"Close\"}, {\"Date\": \"2022-10-06\", \"Value\": 240.02000427246094, \"type\": \"Close\"}, {\"Date\": \"2022-10-07\", \"Value\": 224.75, \"type\": \"Close\"}, {\"Date\": \"2022-10-10\", \"Value\": 229.97999572753906, \"type\": \"Close\"}, {\"Date\": \"2022-10-11\", \"Value\": 214.2899932861328, \"type\": \"Close\"}, {\"Date\": \"2022-10-12\", \"Value\": 220.8699951171875, \"type\": \"Close\"}, {\"Date\": \"2022-10-13\", \"Value\": 232.50999450683594, \"type\": \"Close\"}, {\"Date\": \"2022-10-14\", \"Value\": 230.0, \"type\": \"Close\"}, {\"Date\": \"2022-10-17\", \"Value\": 245.10000610351562, \"type\": \"Close\"}, {\"Date\": \"2022-10-18\", \"Value\": 240.86000061035156, \"type\": \"Close\"}, {\"Date\": \"2022-10-19\", \"Value\": 272.3800048828125, \"type\": \"Close\"}, {\"Date\": \"2022-10-20\", \"Value\": 268.1600036621094, \"type\": \"Close\"}, {\"Date\": \"2022-10-21\", \"Value\": 289.57000732421875, \"type\": \"Close\"}, {\"Date\": \"2022-10-24\", \"Value\": 282.45001220703125, \"type\": \"Close\"}, {\"Date\": \"2022-10-25\", \"Value\": 291.0199890136719, \"type\": \"Close\"}, {\"Date\": \"2022-10-26\", \"Value\": 298.6199951171875, \"type\": \"Close\"}, {\"Date\": \"2022-10-27\", \"Value\": 296.94000244140625, \"type\": \"Close\"}, {\"Date\": \"2022-10-28\", \"Value\": 295.7200012207031, \"type\": \"Close\"}, {\"Date\": \"2022-10-31\", \"Value\": 291.8800048828125, \"type\": \"Close\"}, {\"Date\": \"2022-11-01\", \"Value\": 286.75, \"type\": \"Close\"}, {\"Date\": \"2022-11-02\", \"Value\": 273.0, \"type\": \"Close\"}, {\"Date\": \"2022-11-03\", \"Value\": 269.05999755859375, \"type\": \"Close\"}, {\"Date\": \"2022-11-04\", \"Value\": 260.7900085449219, \"type\": \"Close\"}, {\"Date\": \"2022-11-07\", \"Value\": 258.6000061035156, \"type\": \"Close\"}, {\"Date\": \"2022-11-08\", \"Value\": 263.4599914550781, \"type\": \"Close\"}, {\"Date\": \"2022-11-09\", \"Value\": 254.66000366210938, \"type\": \"Close\"}, {\"Date\": \"2022-11-10\", \"Value\": 274.9700012207031, \"type\": \"Close\"}, {\"Date\": \"2022-11-11\", \"Value\": 290.1300048828125, \"type\": \"Close\"}, {\"Date\": \"2022-11-14\", \"Value\": 299.2699890136719, \"type\": \"Close\"}, {\"Date\": \"2022-11-15\", \"Value\": 310.20001220703125, \"type\": \"Close\"}, {\"Date\": \"2022-11-16\", \"Value\": 306.0199890136719, \"type\": \"Close\"}, {\"Date\": \"2022-11-17\", \"Value\": 295.2799987792969, \"type\": \"Close\"}, {\"Date\": \"2022-11-18\", \"Value\": 287.9800109863281, \"type\": \"Close\"}, {\"Date\": \"2022-11-21\", \"Value\": 285.04998779296875, \"type\": \"Close\"}, {\"Date\": \"2022-11-22\", \"Value\": 286.69000244140625, \"type\": \"Close\"}, {\"Date\": \"2022-11-23\", \"Value\": 291.5, \"type\": \"Close\"}, {\"Date\": \"2022-11-25\", \"Value\": 285.5400085449219, \"type\": \"Close\"}, {\"Date\": \"2022-11-28\", \"Value\": 281.1700134277344, \"type\": \"Close\"}, {\"Date\": \"2022-11-29\", \"Value\": 280.9599914550781, \"type\": \"Close\"}, {\"Date\": \"2022-11-30\", \"Value\": 305.5299987792969, \"type\": \"Close\"}, {\"Date\": \"2022-12-01\", \"Value\": 316.95001220703125, \"type\": \"Close\"}, {\"Date\": \"2022-12-02\", \"Value\": 320.4100036621094, \"type\": \"Close\"}, {\"Date\": \"2022-12-05\", \"Value\": 312.5899963378906, \"type\": \"Close\"}, {\"Date\": \"2022-12-06\", \"Value\": 305.55999755859375, \"type\": \"Close\"}, {\"Date\": \"2022-12-07\", \"Value\": 308.4200134277344, \"type\": \"Close\"}, {\"Date\": \"2022-12-08\", \"Value\": 310.260009765625, \"type\": \"Close\"}, {\"Date\": \"2022-12-09\", \"Value\": 320.010009765625, \"type\": \"Close\"}, {\"Date\": \"2022-12-12\", \"Value\": 315.17999267578125, \"type\": \"Close\"}, {\"Date\": \"2022-12-13\", \"Value\": 320.3399963378906, \"type\": \"Close\"}, {\"Date\": \"2022-12-14\", \"Value\": 317.8299865722656, \"type\": \"Close\"}, {\"Date\": \"2022-12-15\", \"Value\": 290.4100036621094, \"type\": \"Close\"}, {\"Date\": \"2022-12-16\", \"Value\": 290.7099914550781, \"type\": \"Close\"}, {\"Date\": \"2022-12-19\", \"Value\": 288.29998779296875, \"type\": \"Close\"}, {\"Date\": \"2022-12-20\", \"Value\": 288.19000244140625, \"type\": \"Close\"}, {\"Date\": \"2022-12-21\", \"Value\": 297.9599914550781, \"type\": \"Close\"}, {\"Date\": \"2022-12-22\", \"Value\": 297.75, \"type\": \"Close\"}, {\"Date\": \"2022-12-23\", \"Value\": 294.9599914550781, \"type\": \"Close\"}, {\"Date\": \"2022-12-27\", \"Value\": 284.1700134277344, \"type\": \"Close\"}, {\"Date\": \"2022-12-28\", \"Value\": 276.8800048828125, \"type\": \"Close\"}, {\"Date\": \"2022-12-29\", \"Value\": 291.1199951171875, \"type\": \"Close\"}, {\"Date\": \"2022-12-30\", \"Value\": 294.8800048828125, \"type\": \"Close\"}, {\"Date\": \"2023-01-03\", \"Value\": 294.95001220703125, \"type\": \"Close\"}, {\"Date\": \"2023-01-04\", \"Value\": 309.4100036621094, \"type\": \"Close\"}, {\"Date\": \"2023-01-05\", \"Value\": 309.70001220703125, \"type\": \"Close\"}, {\"Date\": \"2023-01-06\", \"Value\": 315.54998779296875, \"type\": \"Close\"}, {\"Date\": \"2023-01-09\", \"Value\": 315.1700134277344, \"type\": \"Close\"}, {\"Date\": \"2023-01-10\", \"Value\": 327.5400085449219, \"type\": \"Close\"}, {\"Date\": \"2023-01-11\", \"Value\": 327.260009765625, \"type\": \"Close\"}, {\"Date\": \"2023-01-12\", \"Value\": 330.1300048828125, \"type\": \"Close\"}, {\"Date\": \"2023-01-13\", \"Value\": 332.82000732421875, \"type\": \"Close\"}, {\"Date\": \"2023-01-17\", \"Value\": 326.2200012207031, \"type\": \"Close\"}, {\"Date\": \"2023-01-18\", \"Value\": 326.3299865722656, \"type\": \"Close\"}, {\"Date\": \"2023-01-19\", \"Value\": 315.7799987792969, \"type\": \"Close\"}, {\"Date\": \"2023-01-20\", \"Value\": 342.5, \"type\": \"Close\"}, {\"Date\": \"2023-01-23\", \"Value\": 357.4200134277344, \"type\": \"Close\"}, {\"Date\": \"2023-01-24\", \"Value\": 363.8299865722656, \"type\": \"Close\"}, {\"Date\": \"2023-01-25\", \"Value\": 367.9599914550781, \"type\": \"Close\"}, {\"Date\": \"2023-01-26\", \"Value\": 364.8699951171875, \"type\": \"Close\"}, {\"Date\": \"2023-01-27\", \"Value\": 360.7699890136719, \"type\": \"Close\"}, {\"Date\": \"2023-01-30\", \"Value\": 353.1099853515625, \"type\": \"Close\"}, {\"Date\": \"2023-01-31\", \"Value\": 353.8599853515625, \"type\": \"Close\"}, {\"Date\": \"2023-02-01\", \"Value\": 361.989990234375, \"type\": \"Close\"}, {\"Date\": \"2023-02-02\", \"Value\": 366.8900146484375, \"type\": \"Close\"}, {\"Date\": \"2023-02-03\", \"Value\": 365.8999938964844, \"type\": \"Close\"}, {\"Date\": \"2023-02-06\", \"Value\": 361.4800109863281, \"type\": \"Close\"}, {\"Date\": \"2023-02-07\", \"Value\": 362.95001220703125, \"type\": \"Close\"}, {\"Date\": \"2023-02-08\", \"Value\": 366.8299865722656, \"type\": \"Close\"}, {\"Date\": \"2023-02-09\", \"Value\": 362.5, \"type\": \"Close\"}, {\"Date\": \"2023-02-10\", \"Value\": 347.3599853515625, \"type\": \"Close\"}, {\"Date\": \"2023-02-13\", \"Value\": 358.57000732421875, \"type\": \"Close\"}, {\"Date\": \"2023-02-14\", \"Value\": 359.9599914550781, \"type\": \"Close\"}, {\"Date\": \"2023-02-15\", \"Value\": 361.4200134277344, \"type\": \"Close\"}, {\"Date\": \"2023-02-16\", \"Value\": 350.7099914550781, \"type\": \"Close\"}, {\"Date\": \"2023-02-17\", \"Value\": 347.9599914550781, \"type\": \"Close\"}, {\"Date\": \"2023-02-21\", \"Value\": 337.5, \"type\": \"Close\"}, {\"Date\": \"2023-02-22\", \"Value\": 334.8800048828125, \"type\": \"Close\"}, {\"Date\": \"2023-02-23\", \"Value\": 323.6499938964844, \"type\": \"Close\"}, {\"Date\": \"2023-02-24\", \"Value\": 317.1499938964844, \"type\": \"Close\"}, {\"Date\": \"2023-02-27\", \"Value\": 323.0299987792969, \"type\": \"Close\"}, {\"Date\": \"2023-02-28\", \"Value\": 322.1300048828125, \"type\": \"Close\"}, {\"Date\": \"2023-03-01\", \"Value\": 313.4800109863281, \"type\": \"Close\"}, {\"Date\": \"2023-03-02\", \"Value\": 311.8800048828125, \"type\": \"Close\"}, {\"Date\": \"2023-03-03\", \"Value\": 315.17999267578125, \"type\": \"Close\"}, {\"Date\": \"2023-03-06\", \"Value\": 312.0299987792969, \"type\": \"Close\"}, {\"Date\": \"2023-03-07\", \"Value\": 308.4700012207031, \"type\": \"Close\"}, {\"Date\": \"2023-03-08\", \"Value\": 311.7900085449219, \"type\": \"Close\"}, {\"Date\": \"2023-03-09\", \"Value\": 297.7799987792969, \"type\": \"Close\"}, {\"Date\": \"2023-03-10\", \"Value\": 292.760009765625, \"type\": \"Close\"}, {\"Date\": \"2023-03-13\", \"Value\": 293.510009765625, \"type\": \"Close\"}, {\"Date\": \"2023-03-14\", \"Value\": 294.94000244140625, \"type\": \"Close\"}, {\"Date\": \"2023-03-15\", \"Value\": 303.7900085449219, \"type\": \"Close\"}, {\"Date\": \"2023-03-16\", \"Value\": 310.05999755859375, \"type\": \"Close\"}, {\"Date\": \"2023-03-17\", \"Value\": 303.5, \"type\": \"Close\"}, {\"Date\": \"2023-03-20\", \"Value\": 305.1300048828125, \"type\": \"Close\"}, {\"Date\": \"2023-03-21\", \"Value\": 305.7900085449219, \"type\": \"Close\"}, {\"Date\": \"2023-03-22\", \"Value\": 293.8999938964844, \"type\": \"Close\"}, {\"Date\": \"2023-03-23\", \"Value\": 320.3699951171875, \"type\": \"Close\"}, {\"Date\": \"2023-03-24\", \"Value\": 328.3900146484375, \"type\": \"Close\"}, {\"Date\": \"2023-03-27\", \"Value\": 327.6600036621094, \"type\": \"Close\"}, {\"Date\": \"2023-03-28\", \"Value\": 323.5199890136719, \"type\": \"Close\"}, {\"Date\": \"2023-03-29\", \"Value\": 332.0299987792969, \"type\": \"Close\"}, {\"Date\": \"2023-03-30\", \"Value\": 338.42999267578125, \"type\": \"Close\"}, {\"Date\": \"2023-03-31\", \"Value\": 345.4800109863281, \"type\": \"Close\"}, {\"Date\": \"2023-04-03\", \"Value\": 348.2799987792969, \"type\": \"Close\"}, {\"Date\": \"2023-04-04\", \"Value\": 346.75, \"type\": \"Close\"}, {\"Date\": \"2023-04-05\", \"Value\": 342.3500061035156, \"type\": \"Close\"}, {\"Date\": \"2023-04-06\", \"Value\": 339.3299865722656, \"type\": \"Close\"}, {\"Date\": \"2023-04-10\", \"Value\": 338.989990234375, \"type\": \"Close\"}, {\"Date\": \"2023-04-11\", \"Value\": 338.2099914550781, \"type\": \"Close\"}, {\"Date\": \"2023-04-12\", \"Value\": 331.0299987792969, \"type\": \"Close\"}, {\"Date\": \"2023-04-13\", \"Value\": 346.19000244140625, \"type\": \"Close\"}, {\"Date\": \"2023-04-14\", \"Value\": 338.6300048828125, \"type\": \"Close\"}, {\"Date\": \"2023-04-17\", \"Value\": 332.7200012207031, \"type\": \"Close\"}, {\"Date\": \"2023-04-18\", \"Value\": 333.70001220703125, \"type\": \"Close\"}, {\"Date\": \"2023-04-19\", \"Value\": 323.1199951171875, \"type\": \"Close\"}, {\"Date\": \"2023-04-20\", \"Value\": 325.3500061035156, \"type\": \"Close\"}, {\"Date\": \"2023-04-21\", \"Value\": 327.9800109863281, \"type\": \"Close\"}, {\"Date\": \"2023-04-24\", \"Value\": 329.0199890136719, \"type\": \"Close\"}, {\"Date\": \"2023-04-25\", \"Value\": 322.54998779296875, \"type\": \"Close\"}, {\"Date\": \"2023-04-26\", \"Value\": 321.1499938964844, \"type\": \"Close\"}, {\"Date\": \"2023-04-27\", \"Value\": 325.8500061035156, \"type\": \"Close\"}, {\"Date\": \"2023-04-28\", \"Value\": 329.92999267578125, \"type\": \"Close\"}, {\"Date\": \"2023-05-01\", \"Value\": 324.1199951171875, \"type\": \"Close\"}, {\"Date\": \"2023-05-02\", \"Value\": 317.54998779296875, \"type\": \"Close\"}, {\"Date\": \"2023-05-03\", \"Value\": 319.29998779296875, \"type\": \"Close\"}, {\"Date\": \"2023-05-04\", \"Value\": 320.7799987792969, \"type\": \"Close\"}, {\"Date\": \"2023-05-05\", \"Value\": 322.760009765625, \"type\": \"Close\"}, {\"Date\": \"2023-05-08\", \"Value\": 331.2099914550781, \"type\": \"Close\"}, {\"Date\": \"2023-05-09\", \"Value\": 332.1400146484375, \"type\": \"Close\"}, {\"Date\": \"2023-05-10\", \"Value\": 335.4200134277344, \"type\": \"Close\"}, {\"Date\": \"2023-05-11\", \"Value\": 344.760009765625, \"type\": \"Close\"}, {\"Date\": \"2023-05-12\", \"Value\": 339.8900146484375, \"type\": \"Close\"}, {\"Date\": \"2023-05-15\", \"Value\": 335.8900146484375, \"type\": \"Close\"}, {\"Date\": \"2023-05-16\", \"Value\": 333.75, \"type\": \"Close\"}, {\"Date\": \"2023-05-17\", \"Value\": 339.9599914550781, \"type\": \"Close\"}, {\"Date\": \"2023-05-18\", \"Value\": 371.2900085449219, \"type\": \"Close\"}, {\"Date\": \"2023-05-19\", \"Value\": 365.3599853515625, \"type\": \"Close\"}, {\"Date\": \"2023-05-22\", \"Value\": 363.010009765625, \"type\": \"Close\"}, {\"Date\": \"2023-05-23\", \"Value\": 355.989990234375, \"type\": \"Close\"}, {\"Date\": \"2023-05-24\", \"Value\": 364.8500061035156, \"type\": \"Close\"}, {\"Date\": \"2023-05-25\", \"Value\": 359.0, \"type\": \"Close\"}, {\"Date\": \"2023-05-26\", \"Value\": 378.8800048828125, \"type\": \"Close\"}, {\"Date\": \"2023-05-30\", \"Value\": 392.9800109863281, \"type\": \"Close\"}, {\"Date\": \"2023-05-31\", \"Value\": 395.2300109863281, \"type\": \"Close\"}, {\"Date\": \"2023-06-01\", \"Value\": 403.1300048828125, \"type\": \"Close\"}, {\"Date\": \"2023-06-02\", \"Value\": 400.4700012207031, \"type\": \"Close\"}, {\"Date\": \"2023-06-05\", \"Value\": 403.5400085449219, \"type\": \"Close\"}, {\"Date\": \"2023-06-06\", \"Value\": 399.2900085449219, \"type\": \"Close\"}, {\"Date\": \"2023-06-07\", \"Value\": 399.7699890136719, \"type\": \"Close\"}, {\"Date\": \"2023-06-08\", \"Value\": 409.3699951171875, \"type\": \"Close\"}, {\"Date\": \"2023-06-09\", \"Value\": 420.0199890136719, \"type\": \"Close\"}, {\"Date\": \"2023-06-12\", \"Value\": 423.9700012207031, \"type\": \"Close\"}, {\"Date\": \"2023-06-13\", \"Value\": 435.7300109863281, \"type\": \"Close\"}, {\"Date\": \"2023-06-14\", \"Value\": 440.8599853515625, \"type\": \"Close\"}, {\"Date\": \"2023-06-15\", \"Value\": 445.2699890136719, \"type\": \"Close\"}, {\"Date\": \"2023-06-16\", \"Value\": 431.9599914550781, \"type\": \"Close\"}, {\"Date\": \"2023-06-20\", \"Value\": 434.70001220703125, \"type\": \"Close\"}, {\"Date\": \"2023-06-21\", \"Value\": 424.45001220703125, \"type\": \"Close\"}, {\"Date\": \"2023-06-22\", \"Value\": 422.4800109863281, \"type\": \"Close\"}, {\"Date\": \"2023-06-23\", \"Value\": 424.0199890136719, \"type\": \"Close\"}, {\"Date\": \"2023-06-26\", \"Value\": 415.94000244140625, \"type\": \"Close\"}, {\"Date\": \"2023-06-27\", \"Value\": 417.0799865722656, \"type\": \"Close\"}, {\"Date\": \"2023-06-28\", \"Value\": 429.8399963378906, \"type\": \"Close\"}, {\"Date\": \"2023-06-29\", \"Value\": 428.239990234375, \"type\": \"Close\"}, {\"Date\": \"2023-06-30\", \"Value\": 440.489990234375, \"type\": \"Close\"}, {\"Date\": \"2023-07-03\", \"Value\": 441.44000244140625, \"type\": \"Close\"}, {\"Date\": \"2023-07-05\", \"Value\": 445.8999938964844, \"type\": \"Close\"}, {\"Date\": \"2023-07-06\", \"Value\": 438.8399963378906, \"type\": \"Close\"}, {\"Date\": \"2023-07-07\", \"Value\": 438.1000061035156, \"type\": \"Close\"}, {\"Date\": \"2023-07-10\", \"Value\": 441.7099914550781, \"type\": \"Close\"}, {\"Date\": \"2023-07-11\", \"Value\": 440.2099914550781, \"type\": \"Close\"}, {\"Date\": \"2023-07-12\", \"Value\": 444.04998779296875, \"type\": \"Close\"}, {\"Date\": \"2023-07-13\", \"Value\": 450.3800048828125, \"type\": \"Close\"}, {\"Date\": \"2023-07-14\", \"Value\": 441.9100036621094, \"type\": \"Close\"}, {\"Date\": \"2023-07-17\", \"Value\": 450.04998779296875, \"type\": \"Close\"}, {\"Date\": \"2023-07-18\", \"Value\": 474.79998779296875, \"type\": \"Close\"}, {\"Date\": \"2023-07-19\", \"Value\": 477.5899963378906, \"type\": \"Close\"}, {\"Date\": \"2023-07-20\", \"Value\": 437.4200134277344, \"type\": \"Close\"}, {\"Date\": \"2023-07-21\", \"Value\": 427.5, \"type\": \"Close\"}, {\"Date\": \"2023-07-24\", \"Value\": 428.3699951171875, \"type\": \"Close\"}, {\"Date\": \"2023-07-25\", \"Value\": 427.70001220703125, \"type\": \"Close\"}, {\"Date\": \"2023-07-26\", \"Value\": 422.6700134277344, \"type\": \"Close\"}, {\"Date\": \"2023-07-27\", \"Value\": 413.1700134277344, \"type\": \"Close\"}, {\"Date\": \"2023-07-28\", \"Value\": 425.7799987792969, \"type\": \"Close\"}, {\"Date\": \"2023-07-31\", \"Value\": 438.9700012207031, \"type\": \"Close\"}, {\"Date\": \"2023-08-01\", \"Value\": 438.6199951171875, \"type\": \"Close\"}, {\"Date\": \"2023-08-02\", \"Value\": 429.70001220703125, \"type\": \"Close\"}, {\"Date\": \"2023-08-03\", \"Value\": 431.0, \"type\": \"Close\"}, {\"Date\": \"2023-08-04\", \"Value\": 431.6000061035156, \"type\": \"Close\"}, {\"Date\": \"2023-08-07\", \"Value\": 440.760009765625, \"type\": \"Close\"}, {\"Date\": \"2023-08-08\", \"Value\": 438.29998779296875, \"type\": \"Close\"}, {\"Date\": \"2023-08-09\", \"Value\": 428.8999938964844, \"type\": \"Close\"}, {\"Date\": \"2023-08-10\", \"Value\": 429.9800109863281, \"type\": \"Close\"}, {\"Date\": \"2023-08-11\", \"Value\": 421.6600036621094, \"type\": \"Close\"}, {\"Date\": \"2023-08-14\", \"Value\": 427.7799987792969, \"type\": \"Close\"}, {\"Date\": \"2023-08-15\", \"Value\": 423.70001220703125, \"type\": \"Close\"}, {\"Date\": \"2023-08-16\", \"Value\": 415.45001220703125, \"type\": \"Close\"}, {\"Date\": \"2023-08-17\", \"Value\": 403.0, \"type\": \"Close\"}, {\"Date\": \"2023-08-18\", \"Value\": 404.5299987792969, \"type\": \"Close\"}, {\"Date\": \"2023-08-21\", \"Value\": 408.2900085449219, \"type\": \"Close\"}, {\"Date\": \"2023-08-22\", \"Value\": 413.1700134277344, \"type\": \"Close\"}, {\"Date\": \"2023-08-23\", \"Value\": 427.54998779296875, \"type\": \"Close\"}, {\"Date\": \"2023-08-24\", \"Value\": 406.92999267578125, \"type\": \"Close\"}, {\"Date\": \"2023-08-25\", \"Value\": 416.0299987792969, \"type\": \"Close\"}, {\"Date\": \"2023-08-28\", \"Value\": 418.05999755859375, \"type\": \"Close\"}, {\"Date\": \"2023-08-29\", \"Value\": 429.989990234375, \"type\": \"Close\"}, {\"Date\": \"2023-08-30\", \"Value\": 434.6700134277344, \"type\": \"Close\"}, {\"Date\": \"2023-08-31\", \"Value\": 433.67999267578125, \"type\": \"Close\"}, {\"Date\": \"2023-09-01\", \"Value\": 439.8800048828125, \"type\": \"Close\"}, {\"Date\": \"2023-09-05\", \"Value\": 448.67999267578125, \"type\": \"Close\"}, {\"Date\": \"2023-09-06\", \"Value\": 445.760009765625, \"type\": \"Close\"}, {\"Date\": \"2023-09-07\", \"Value\": 443.1400146484375, \"type\": \"Close\"}, {\"Date\": \"2023-09-08\", \"Value\": 442.79998779296875, \"type\": \"Close\"}, {\"Date\": \"2023-09-11\", \"Value\": 445.3599853515625, \"type\": \"Close\"}, {\"Date\": \"2023-09-12\", \"Value\": 434.69000244140625, \"type\": \"Close\"}, {\"Date\": \"2023-09-13\", \"Value\": 412.239990234375, \"type\": \"Close\"}, {\"Date\": \"2023-09-14\", \"Value\": 400.489990234375, \"type\": \"Close\"}, {\"Date\": \"2023-09-15\", \"Value\": 396.94000244140625, \"type\": \"Close\"}, {\"Date\": \"2023-09-18\", \"Value\": 394.3999938964844, \"type\": \"Close\"}, {\"Date\": \"2023-09-19\", \"Value\": 396.20001220703125, \"type\": \"Close\"}, {\"Date\": \"2023-09-20\", \"Value\": 386.29998779296875, \"type\": \"Close\"}, {\"Date\": \"2023-09-21\", \"Value\": 384.1499938964844, \"type\": \"Close\"}, {\"Date\": \"2023-09-22\", \"Value\": 379.80999755859375, \"type\": \"Close\"}, {\"Date\": \"2023-09-25\", \"Value\": 384.79998779296875, \"type\": \"Close\"}, {\"Date\": \"2023-09-26\", \"Value\": 379.25, \"type\": \"Close\"}, {\"Date\": \"2023-09-27\", \"Value\": 377.5899963378906, \"type\": \"Close\"}, {\"Date\": \"2023-09-28\", \"Value\": 376.3599853515625, \"type\": \"Close\"}, {\"Date\": \"2023-09-29\", \"Value\": 377.6000061035156, \"type\": \"Close\"}, {\"Date\": \"2023-10-02\", \"Value\": 380.3299865722656, \"type\": \"Close\"}, {\"Date\": \"2023-10-03\", \"Value\": 376.75, \"type\": \"Close\"}, {\"Date\": \"2023-10-04\", \"Value\": 376.8999938964844, \"type\": \"Close\"}, {\"Date\": \"2023-10-05\", \"Value\": 372.5899963378906, \"type\": \"Close\"}, {\"Date\": \"2023-10-06\", \"Value\": 381.510009765625, \"type\": \"Close\"}, {\"Date\": \"2022-09-12\", \"Value\": 227.49609877901577, \"type\": \"Prediction\"}, {\"Date\": \"2022-09-13\", \"Value\": 233.34341671777892, \"type\": \"Prediction\"}, {\"Date\": \"2022-09-14\", \"Value\": 236.42095324432663, \"type\": \"Prediction\"}, {\"Date\": \"2022-09-15\", \"Value\": 218.8141985481015, \"type\": \"Prediction\"}, {\"Date\": \"2022-09-16\", \"Value\": 223.89354573335592, \"type\": \"Prediction\"}, {\"Date\": \"2022-09-19\", \"Value\": 234.9592452744865, \"type\": \"Prediction\"}, {\"Date\": \"2022-09-20\", \"Value\": 239.95426393996553, \"type\": \"Prediction\"}, {\"Date\": \"2022-09-21\", \"Value\": 243.50089930411752, \"type\": \"Prediction\"}, {\"Date\": \"2022-09-22\", \"Value\": 242.8787894403631, \"type\": \"Prediction\"}, {\"Date\": \"2022-09-23\", \"Value\": 237.0904903049088, \"type\": \"Prediction\"}, {\"Date\": \"2022-09-26\", \"Value\": 237.04336606785142, \"type\": \"Prediction\"}, {\"Date\": \"2022-09-27\", \"Value\": 226.80243489970684, \"type\": \"Prediction\"}, {\"Date\": \"2022-09-28\", \"Value\": 224.1558813087988, \"type\": \"Prediction\"}, {\"Date\": \"2022-09-29\", \"Value\": 224.34935745696419, \"type\": \"Prediction\"}, {\"Date\": \"2022-09-30\", \"Value\": 244.4359406943806, \"type\": \"Prediction\"}, {\"Date\": \"2022-10-03\", \"Value\": 239.91470379662692, \"type\": \"Prediction\"}, {\"Date\": \"2022-10-04\", \"Value\": 235.59854877472438, \"type\": \"Prediction\"}, {\"Date\": \"2022-10-05\", \"Value\": 238.90599039090384, \"type\": \"Prediction\"}, {\"Date\": \"2022-10-06\", \"Value\": 240.6767966436814, \"type\": \"Prediction\"}, {\"Date\": \"2022-10-07\", \"Value\": 236.87926357984705, \"type\": \"Prediction\"}, {\"Date\": \"2022-10-10\", \"Value\": 239.89727579299765, \"type\": \"Prediction\"}, {\"Date\": \"2022-10-11\", \"Value\": 225.32443002342606, \"type\": \"Prediction\"}, {\"Date\": \"2022-10-12\", \"Value\": 229.7809073233238, \"type\": \"Prediction\"}, {\"Date\": \"2022-10-13\", \"Value\": 214.8952761360086, \"type\": \"Prediction\"}, {\"Date\": \"2022-10-14\", \"Value\": 220.6122699333441, \"type\": \"Prediction\"}, {\"Date\": \"2022-10-17\", \"Value\": 232.05981705343245, \"type\": \"Prediction\"}, {\"Date\": \"2022-10-18\", \"Value\": 230.09745269435032, \"type\": \"Prediction\"}, {\"Date\": \"2022-10-19\", \"Value\": 244.5101591916572, \"type\": \"Prediction\"}, {\"Date\": \"2022-10-20\", \"Value\": 241.02709450446332, \"type\": \"Prediction\"}, {\"Date\": \"2022-10-21\", \"Value\": 271.11152573967996, \"type\": \"Prediction\"}, {\"Date\": \"2022-10-24\", \"Value\": 268.33228189048805, \"type\": \"Prediction\"}, {\"Date\": \"2022-10-25\", \"Value\": 288.68398701179615, \"type\": \"Prediction\"}, {\"Date\": \"2022-10-26\", \"Value\": 282.7505759960601, \"type\": \"Prediction\"}, {\"Date\": \"2022-10-27\", \"Value\": 290.65507654333567, \"type\": \"Prediction\"}, {\"Date\": \"2022-10-28\", \"Value\": 298.2996103249373, \"type\": \"Prediction\"}, {\"Date\": \"2022-10-31\", \"Value\": 297.0109318940547, \"type\": \"Prediction\"}, {\"Date\": \"2022-11-01\", \"Value\": 295.7714933533606, \"type\": \"Prediction\"}, {\"Date\": \"2022-11-02\", \"Value\": 292.04196486586176, \"type\": \"Prediction\"}, {\"Date\": \"2022-11-03\", \"Value\": 286.96572089601466, \"type\": \"Prediction\"}, {\"Date\": \"2022-11-04\", \"Value\": 273.5720764310618, \"type\": \"Prediction\"}, {\"Date\": \"2022-11-07\", \"Value\": 269.22240623238633, \"type\": \"Prediction\"}, {\"Date\": \"2022-11-08\", \"Value\": 261.12919586484304, \"type\": \"Prediction\"}, {\"Date\": \"2022-11-09\", \"Value\": 258.6895432143191, \"type\": \"Prediction\"}, {\"Date\": \"2022-11-10\", \"Value\": 263.26097847247627, \"type\": \"Prediction\"}, {\"Date\": \"2022-11-11\", \"Value\": 255.0226385866227, \"type\": \"Prediction\"}, {\"Date\": \"2022-11-14\", \"Value\": 274.1109533714063, \"type\": \"Prediction\"}, {\"Date\": \"2022-11-15\", \"Value\": 289.5192876543226, \"type\": \"Prediction\"}, {\"Date\": \"2022-11-16\", \"Value\": 298.9101303651573, \"type\": \"Prediction\"}, {\"Date\": \"2022-11-17\", \"Value\": 309.7766377485362, \"type\": \"Prediction\"}, {\"Date\": \"2022-11-18\", \"Value\": 306.1829607410126, \"type\": \"Prediction\"}, {\"Date\": \"2022-11-21\", \"Value\": 295.69571340749394, \"type\": \"Prediction\"}, {\"Date\": \"2022-11-22\", \"Value\": 288.25884495671534, \"type\": \"Prediction\"}, {\"Date\": \"2022-11-23\", \"Value\": 285.1614816099593, \"type\": \"Prediction\"}, {\"Date\": \"2022-11-25\", \"Value\": 286.62755102242267, \"type\": \"Prediction\"}, {\"Date\": \"2022-11-28\", \"Value\": 291.31707302723765, \"type\": \"Prediction\"}, {\"Date\": \"2022-11-29\", \"Value\": 285.7676904861067, \"type\": \"Prediction\"}, {\"Date\": \"2022-11-30\", \"Value\": 281.3362174087611, \"type\": \"Prediction\"}, {\"Date\": \"2022-12-01\", \"Value\": 280.96797709438437, \"type\": \"Prediction\"}, {\"Date\": \"2022-12-02\", \"Value\": 304.5949986875119, \"type\": \"Prediction\"}, {\"Date\": \"2022-12-05\", \"Value\": 316.53669522811356, \"type\": \"Prediction\"}, {\"Date\": \"2022-12-06\", \"Value\": 320.28571656863096, \"type\": \"Prediction\"}, {\"Date\": \"2022-12-07\", \"Value\": 312.87217664259396, \"type\": \"Prediction\"}, {\"Date\": \"2022-12-08\", \"Value\": 305.81120806521153, \"type\": \"Prediction\"}, {\"Date\": \"2022-12-09\", \"Value\": 308.3174921411833, \"type\": \"Prediction\"}, {\"Date\": \"2022-12-12\", \"Value\": 310.19411510175524, \"type\": \"Prediction\"}, {\"Date\": \"2022-12-13\", \"Value\": 319.66191751789813, \"type\": \"Prediction\"}, {\"Date\": \"2022-12-14\", \"Value\": 315.3537246755561, \"type\": \"Prediction\"}, {\"Date\": \"2022-12-15\", \"Value\": 320.15363443890476, \"type\": \"Prediction\"}, {\"Date\": \"2022-12-16\", \"Value\": 317.9208238068157, \"type\": \"Prediction\"}, {\"Date\": \"2022-12-19\", \"Value\": 291.39074391677997, \"type\": \"Prediction\"}, {\"Date\": \"2022-12-20\", \"Value\": 290.6992958102842, \"type\": \"Prediction\"}, {\"Date\": \"2022-12-21\", \"Value\": 288.3859236863366, \"type\": \"Prediction\"}, {\"Date\": \"2022-12-22\", \"Value\": 288.1939239830184, \"type\": \"Prediction\"}, {\"Date\": \"2022-12-23\", \"Value\": 297.6115774289715, \"type\": \"Prediction\"}, {\"Date\": \"2022-12-27\", \"Value\": 297.75748691537507, \"type\": \"Prediction\"}, {\"Date\": \"2022-12-28\", \"Value\": 295.0594548741523, \"type\": \"Prediction\"}, {\"Date\": \"2022-12-29\", \"Value\": 284.55267924714093, \"type\": \"Prediction\"}, {\"Date\": \"2022-12-30\", \"Value\": 277.1348736821925, \"type\": \"Prediction\"}, {\"Date\": \"2023-01-03\", \"Value\": 290.6133185908591, \"type\": \"Prediction\"}, {\"Date\": \"2023-01-04\", \"Value\": 294.74760643294644, \"type\": \"Prediction\"}, {\"Date\": \"2023-01-05\", \"Value\": 294.9475474136846, \"type\": \"Prediction\"}, {\"Date\": \"2023-01-06\", \"Value\": 308.90099068099084, \"type\": \"Prediction\"}, {\"Date\": \"2023-01-09\", \"Value\": 309.6898238032186, \"type\": \"Prediction\"}, {\"Date\": \"2023-01-10\", \"Value\": 315.34453028316193, \"type\": \"Prediction\"}, {\"Date\": \"2023-01-11\", \"Value\": 315.1833608956498, \"type\": \"Prediction\"}, {\"Date\": \"2023-01-12\", \"Value\": 327.10513227939555, \"type\": \"Prediction\"}, {\"Date\": \"2023-01-13\", \"Value\": 327.2698500772861, \"type\": \"Prediction\"}, {\"Date\": \"2023-01-17\", \"Value\": 330.02912747257847, \"type\": \"Prediction\"}, {\"Date\": \"2023-01-18\", \"Value\": 332.7255869667339, \"type\": \"Prediction\"}, {\"Date\": \"2023-01-19\", \"Value\": 326.45236415708973, \"type\": \"Prediction\"}, {\"Date\": \"2023-01-20\", \"Value\": 326.32611491326503, \"type\": \"Prediction\"}, {\"Date\": \"2023-01-23\", \"Value\": 316.1514490857219, \"type\": \"Prediction\"}, {\"Date\": \"2023-01-24\", \"Value\": 341.514282537103, \"type\": \"Prediction\"}, {\"Date\": \"2023-01-25\", \"Value\": 356.9078135424371, \"type\": \"Prediction\"}, {\"Date\": \"2023-01-26\", \"Value\": 363.6139176474205, \"type\": \"Prediction\"}, {\"Date\": \"2023-01-27\", \"Value\": 367.8214683832387, \"type\": \"Prediction\"}, {\"Date\": \"2023-01-30\", \"Value\": 364.97386220640783, \"type\": \"Prediction\"}, {\"Date\": \"2023-01-31\", \"Value\": 360.9074862377743, \"type\": \"Prediction\"}, {\"Date\": \"2023-02-01\", \"Value\": 353.3653973222155, \"type\": \"Prediction\"}, {\"Date\": \"2023-02-02\", \"Value\": 353.83496057857747, \"type\": \"Prediction\"}, {\"Date\": \"2023-02-03\", \"Value\": 361.7190205019374, \"type\": \"Prediction\"}, {\"Date\": \"2023-02-06\", \"Value\": 366.727936825596, \"type\": \"Prediction\"}, {\"Date\": \"2023-02-07\", \"Value\": 365.93276489667346, \"type\": \"Prediction\"}, {\"Date\": \"2023-02-08\", \"Value\": 361.62620123483896, \"type\": \"Prediction\"}, {\"Date\": \"2023-02-09\", \"Value\": 362.90134045675694, \"type\": \"Prediction\"}, {\"Date\": \"2023-02-10\", \"Value\": 366.7016551899032, \"type\": \"Prediction\"}, {\"Date\": \"2023-02-13\", \"Value\": 362.6436397578351, \"type\": \"Prediction\"}, {\"Date\": \"2023-02-14\", \"Value\": 347.85621005386537, \"type\": \"Prediction\"}, {\"Date\": \"2023-02-15\", \"Value\": 358.191684019656, \"type\": \"Prediction\"}, {\"Date\": \"2023-02-16\", \"Value\": 359.9132465020483, \"type\": \"Prediction\"}, {\"Date\": \"2023-02-17\", \"Value\": 361.37093142725723, \"type\": \"Prediction\"}, {\"Date\": \"2023-02-21\", \"Value\": 351.0710325734468, \"type\": \"Prediction\"}, {\"Date\": \"2023-02-22\", \"Value\": 348.0521467300123, \"type\": \"Prediction\"}, {\"Date\": \"2023-02-23\", \"Value\": 337.8487067623236, \"type\": \"Prediction\"}, {\"Date\": \"2023-02-24\", \"Value\": 334.9668611922187, \"type\": \"Prediction\"}, {\"Date\": \"2023-02-27\", \"Value\": 324.0202905554261, \"type\": \"Prediction\"}, {\"Date\": \"2023-02-28\", \"Value\": 317.3613244942449, \"type\": \"Prediction\"}, {\"Date\": \"2023-03-01\", \"Value\": 322.83753027353544, \"type\": \"Prediction\"}, {\"Date\": \"2023-03-02\", \"Value\": 322.15948651207833, \"type\": \"Prediction\"}, {\"Date\": \"2023-03-03\", \"Value\": 313.7629599652759, \"type\": \"Prediction\"}, {\"Date\": \"2023-03-06\", \"Value\": 311.9321867878909, \"type\": \"Prediction\"}, {\"Date\": \"2023-03-07\", \"Value\": 315.072265814594, \"type\": \"Prediction\"}, {\"Date\": \"2023-03-08\", \"Value\": 312.1330181181159, \"type\": \"Prediction\"}, {\"Date\": \"2023-03-09\", \"Value\": 308.5861841820609, \"type\": \"Prediction\"}, {\"Date\": \"2023-03-10\", \"Value\": 311.6814315906401, \"type\": \"Prediction\"}, {\"Date\": \"2023-03-13\", \"Value\": 298.2420419135365, \"type\": \"Prediction\"}, {\"Date\": \"2023-03-14\", \"Value\": 292.92326597953263, \"type\": \"Prediction\"}, {\"Date\": \"2023-03-15\", \"Value\": 293.4856056589993, \"type\": \"Prediction\"}, {\"Date\": \"2023-03-16\", \"Value\": 294.8934814751781, \"type\": \"Prediction\"}, {\"Date\": \"2023-03-17\", \"Value\": 303.50276910318433, \"type\": \"Prediction\"}, {\"Date\": \"2023-03-20\", \"Value\": 309.85866586454983, \"type\": \"Prediction\"}, {\"Date\": \"2023-03-21\", \"Value\": 303.7122031071602, \"type\": \"Prediction\"}, {\"Date\": \"2023-03-22\", \"Value\": 305.07718704625495, \"type\": \"Prediction\"}, {\"Date\": \"2023-03-23\", \"Value\": 305.7686266910433, \"type\": \"Prediction\"}, {\"Date\": \"2023-03-24\", \"Value\": 294.2857444640497, \"type\": \"Prediction\"}, {\"Date\": \"2023-03-27\", \"Value\": 319.46234026433336, \"type\": \"Prediction\"}, {\"Date\": \"2023-03-28\", \"Value\": 328.1262482781071, \"type\": \"Prediction\"}, {\"Date\": \"2023-03-29\", \"Value\": 327.68402880824505, \"type\": \"Prediction\"}, {\"Date\": \"2023-03-30\", \"Value\": 323.656165072708, \"type\": \"Prediction\"}, {\"Date\": \"2023-03-31\", \"Value\": 331.748333375855, \"type\": \"Prediction\"}, {\"Date\": \"2023-04-03\", \"Value\": 338.22032092548744, \"type\": \"Prediction\"}, {\"Date\": \"2023-04-04\", \"Value\": 345.25098384525444, \"type\": \"Prediction\"}, {\"Date\": \"2023-04-05\", \"Value\": 348.1893923285989, \"type\": \"Prediction\"}, {\"Date\": \"2023-04-06\", \"Value\": 346.7995466555243, \"type\": \"Prediction\"}, {\"Date\": \"2023-04-10\", \"Value\": 342.49231579792774, \"type\": \"Prediction\"}, {\"Date\": \"2023-04-11\", \"Value\": 339.4274147751309, \"type\": \"Prediction\"}, {\"Date\": \"2023-04-12\", \"Value\": 339.00095612744906, \"type\": \"Prediction\"}, {\"Date\": \"2023-04-13\", \"Value\": 338.23514750172234, \"type\": \"Prediction\"}, {\"Date\": \"2023-04-14\", \"Value\": 331.26132465780233, \"type\": \"Prediction\"}, {\"Date\": \"2023-04-17\", \"Value\": 345.6919591705167, \"type\": \"Prediction\"}, {\"Date\": \"2023-04-18\", \"Value\": 338.8831527253821, \"type\": \"Prediction\"}, {\"Date\": \"2023-04-19\", \"Value\": 332.91627176775637, \"type\": \"Prediction\"}, {\"Date\": \"2023-04-20\", \"Value\": 333.66743933385305, \"type\": \"Prediction\"}, {\"Date\": \"2023-04-21\", \"Value\": 323.4722917117259, \"type\": \"Prediction\"}, {\"Date\": \"2023-04-24\", \"Value\": 325.2754890110771, \"type\": \"Prediction\"}, {\"Date\": \"2023-04-25\", \"Value\": 327.8922214799063, \"type\": \"Prediction\"}, {\"Date\": \"2023-04-26\", \"Value\": 328.98529276747263, \"type\": \"Prediction\"}, {\"Date\": \"2023-04-27\", \"Value\": 322.7660986840776, \"type\": \"Prediction\"}, {\"Date\": \"2023-04-28\", \"Value\": 321.19667009527166, \"type\": \"Prediction\"}, {\"Date\": \"2023-05-01\", \"Value\": 325.69312563383073, \"type\": \"Prediction\"}, {\"Date\": \"2023-05-02\", \"Value\": 329.7942872414619, \"type\": \"Prediction\"}, {\"Date\": \"2023-05-03\", \"Value\": 324.3140364494718, \"type\": \"Prediction\"}, {\"Date\": \"2023-05-04\", \"Value\": 317.7678887983122, \"type\": \"Prediction\"}, {\"Date\": \"2023-05-05\", \"Value\": 319.2418433666511, \"type\": \"Prediction\"}, {\"Date\": \"2023-05-08\", \"Value\": 320.73084832181513, \"type\": \"Prediction\"}, {\"Date\": \"2023-05-09\", \"Value\": 322.6942895938987, \"type\": \"Prediction\"}, {\"Date\": \"2023-05-10\", \"Value\": 330.93036135556855, \"type\": \"Prediction\"}, {\"Date\": \"2023-05-11\", \"Value\": 332.10929398752506, \"type\": \"Prediction\"}, {\"Date\": \"2023-05-12\", \"Value\": 335.31172753521275, \"type\": \"Prediction\"}, {\"Date\": \"2023-05-15\", \"Value\": 344.4533651472077, \"type\": \"Prediction\"}, {\"Date\": \"2023-05-16\", \"Value\": 340.0511258634783, \"type\": \"Prediction\"}, {\"Date\": \"2023-05-17\", \"Value\": 336.021866900813, \"type\": \"Prediction\"}, {\"Date\": \"2023-05-18\", \"Value\": 333.82042691941103, \"type\": \"Prediction\"}, {\"Date\": \"2023-05-19\", \"Value\": 339.7551428958781, \"type\": \"Prediction\"}, {\"Date\": \"2023-05-22\", \"Value\": 370.2926579759054, \"type\": \"Prediction\"}, {\"Date\": \"2023-05-23\", \"Value\": 365.55412431250664, \"type\": \"Prediction\"}, {\"Date\": \"2023-05-24\", \"Value\": 363.0867365092737, \"type\": \"Prediction\"}, {\"Date\": \"2023-05-25\", \"Value\": 356.2185087877702, \"type\": \"Prediction\"}, {\"Date\": \"2023-05-26\", \"Value\": 364.5584501109358, \"type\": \"Prediction\"}, {\"Date\": \"2023-05-30\", \"Value\": 359.1941907012754, \"type\": \"Prediction\"}, {\"Date\": \"2023-05-31\", \"Value\": 378.20670337515065, \"type\": \"Prediction\"}, {\"Date\": \"2023-06-01\", \"Value\": 392.5266271494461, \"type\": \"Prediction\"}, {\"Date\": \"2023-06-02\", \"Value\": 395.1581623095513, \"type\": \"Prediction\"}, {\"Date\": \"2023-06-05\", \"Value\": 402.87856206155203, \"type\": \"Prediction\"}, {\"Date\": \"2023-06-06\", \"Value\": 400.55495924232815, \"type\": \"Prediction\"}, {\"Date\": \"2023-06-07\", \"Value\": 403.4418133872423, \"type\": \"Prediction\"}, {\"Date\": \"2023-06-08\", \"Value\": 399.4262616661797, \"type\": \"Prediction\"}, {\"Date\": \"2023-06-09\", \"Value\": 399.75459696488184, \"type\": \"Prediction\"}, {\"Date\": \"2023-06-12\", \"Value\": 409.0623995025392, \"type\": \"Prediction\"}, {\"Date\": \"2023-06-13\", \"Value\": 419.6852713546972, \"type\": \"Prediction\"}, {\"Date\": \"2023-06-14\", \"Value\": 423.8469050948034, \"type\": \"Prediction\"}, {\"Date\": \"2023-06-15\", \"Value\": 435.3667387617538, \"type\": \"Prediction\"}, {\"Date\": \"2023-06-16\", \"Value\": 440.7034439432558, \"type\": \"Prediction\"}, {\"Date\": \"2023-06-20\", \"Value\": 445.13601779903615, \"type\": \"Prediction\"}, {\"Date\": \"2023-06-21\", \"Value\": 432.36882790569155, \"type\": \"Prediction\"}, {\"Date\": \"2023-06-22\", \"Value\": 434.615354981402, \"type\": \"Prediction\"}, {\"Date\": \"2023-06-23\", \"Value\": 424.7683587719554, \"type\": \"Prediction\"}, {\"Date\": \"2023-06-26\", \"Value\": 422.5409276733158, \"type\": \"Prediction\"}, {\"Date\": \"2023-06-27\", \"Value\": 423.9723435321593, \"type\": \"Prediction\"}, {\"Date\": \"2023-06-28\", \"Value\": 416.1905693301141, \"type\": \"Prediction\"}, {\"Date\": \"2023-06-29\", \"Value\": 417.0445872465071, \"type\": \"Prediction\"}, {\"Date\": \"2023-06-30\", \"Value\": 429.4448458073939, \"type\": \"Prediction\"}, {\"Date\": \"2023-07-03\", \"Value\": 428.28968150614975, \"type\": \"Prediction\"}, {\"Date\": \"2023-07-05\", \"Value\": 440.10815807337013, \"type\": \"Prediction\"}, {\"Date\": \"2023-07-06\", \"Value\": 441.41048028812287, \"type\": \"Prediction\"}, {\"Date\": \"2023-07-07\", \"Value\": 445.76150725631675, \"type\": \"Prediction\"}, {\"Date\": \"2023-07-10\", \"Value\": 439.0604765094129, \"type\": \"Prediction\"}, {\"Date\": \"2023-07-11\", \"Value\": 438.12308660350607, \"type\": \"Prediction\"}, {\"Date\": \"2023-07-12\", \"Value\": 441.597339558781, \"type\": \"Prediction\"}, {\"Date\": \"2023-07-13\", \"Value\": 440.25684337773856, \"type\": \"Prediction\"}, {\"Date\": \"2023-07-14\", \"Value\": 443.92992058506877, \"type\": \"Prediction\"}, {\"Date\": \"2023-07-17\", \"Value\": 450.1829876380183, \"type\": \"Prediction\"}, {\"Date\": \"2023-07-18\", \"Value\": 442.1761910910851, \"type\": \"Prediction\"}, {\"Date\": \"2023-07-19\", \"Value\": 449.7910342199858, \"type\": \"Prediction\"}, {\"Date\": \"2023-07-20\", \"Value\": 474.0417403411529, \"type\": \"Prediction\"}, {\"Date\": \"2023-07-21\", \"Value\": 477.5059316875395, \"type\": \"Prediction\"}, {\"Date\": \"2023-07-24\", \"Value\": 438.65621210978594, \"type\": \"Prediction\"}, {\"Date\": \"2023-07-25\", \"Value\": 427.77992092481935, \"type\": \"Prediction\"}, {\"Date\": \"2023-07-26\", \"Value\": 428.34541674102536, \"type\": \"Prediction\"}, {\"Date\": \"2023-07-27\", \"Value\": 427.7189421564027, \"type\": \"Prediction\"}, {\"Date\": \"2023-07-28\", \"Value\": 422.8120359383091, \"type\": \"Prediction\"}, {\"Date\": \"2023-07-31\", \"Value\": 413.4356205993426, \"type\": \"Prediction\"}, {\"Date\": \"2023-08-01\", \"Value\": 425.4190163599338, \"type\": \"Prediction\"}, {\"Date\": \"2023-08-02\", \"Value\": 438.6052439240033, \"type\": \"Prediction\"}, {\"Date\": \"2023-08-03\", \"Value\": 438.6296738211404, \"type\": \"Prediction\"}, {\"Date\": \"2023-08-04\", \"Value\": 429.94651755763954, \"type\": \"Prediction\"}, {\"Date\": \"2023-08-07\", \"Value\": 430.9640051691333, \"type\": \"Prediction\"}, {\"Date\": \"2023-08-08\", \"Value\": 431.58339559304756, \"type\": \"Prediction\"}, {\"Date\": \"2023-08-09\", \"Value\": 440.50671181011296, \"type\": \"Prediction\"}, {\"Date\": \"2023-08-10\", \"Value\": 438.3682962882895, \"type\": \"Prediction\"}, {\"Date\": \"2023-08-11\", \"Value\": 429.15976379220035, \"type\": \"Prediction\"}, {\"Date\": \"2023-08-14\", \"Value\": 429.95011731147247, \"type\": \"Prediction\"}, {\"Date\": \"2023-08-15\", \"Value\": 421.8907151623156, \"type\": \"Prediction\"}, {\"Date\": \"2023-08-16\", \"Value\": 427.6085911090512, \"type\": \"Prediction\"}, {\"Date\": \"2023-08-17\", \"Value\": 423.81483749903185, \"type\": \"Prediction\"}, {\"Date\": \"2023-08-18\", \"Value\": 415.68059893426005, \"type\": \"Prediction\"}, {\"Date\": \"2023-08-21\", \"Value\": 403.34058942526366, \"type\": \"Prediction\"}, {\"Date\": \"2023-08-22\", \"Value\": 404.4880149138742, \"type\": \"Prediction\"}, {\"Date\": \"2023-08-23\", \"Value\": 408.1869560690676, \"type\": \"Prediction\"}, {\"Date\": \"2023-08-24\", \"Value\": 413.0367827261555, \"type\": \"Prediction\"}, {\"Date\": \"2023-08-25\", \"Value\": 427.163165340899, \"type\": \"Prediction\"}, {\"Date\": \"2023-08-28\", \"Value\": 407.5186190822735, \"type\": \"Prediction\"}, {\"Date\": \"2023-08-29\", \"Value\": 415.7612110643738, \"type\": \"Prediction\"}, {\"Date\": \"2023-08-30\", \"Value\": 418.00027691039116, \"type\": \"Prediction\"}, {\"Date\": \"2023-08-31\", \"Value\": 429.64065965469064, \"type\": \"Prediction\"}, {\"Date\": \"2023-09-01\", \"Value\": 434.5345575140633, \"type\": \"Prediction\"}, {\"Date\": \"2023-09-05\", \"Value\": 433.70866959738, \"type\": \"Prediction\"}, {\"Date\": \"2023-09-06\", \"Value\": 439.70020189238807, \"type\": \"Prediction\"}, {\"Date\": \"2023-09-07\", \"Value\": 448.4275506013179, \"type\": \"Prediction\"}, {\"Date\": \"2023-09-08\", \"Value\": 445.84416040560535, \"type\": \"Prediction\"}, {\"Date\": \"2023-09-11\", \"Value\": 443.2154034586087, \"type\": \"Prediction\"}, {\"Date\": \"2023-09-12\", \"Value\": 442.8097697832263, \"type\": \"Prediction\"}, {\"Date\": \"2023-09-13\", \"Value\": 445.2863260791251, \"type\": \"Prediction\"}, {\"Date\": \"2023-09-14\", \"Value\": 434.99864201222954, \"type\": \"Prediction\"}, {\"Date\": \"2023-09-15\", \"Value\": 412.8586886619467, \"type\": \"Prediction\"}, {\"Date\": \"2023-09-18\", \"Value\": 400.7954929809018, \"type\": \"Prediction\"}, {\"Date\": \"2023-09-19\", \"Value\": 397.03140092619765, \"type\": \"Prediction\"}, {\"Date\": \"2023-09-20\", \"Value\": 394.4652562627304, \"type\": \"Prediction\"}, {\"Date\": \"2023-09-21\", \"Value\": 396.15371847486904, \"type\": \"Prediction\"}, {\"Date\": \"2023-09-22\", \"Value\": 386.55558602372747, \"type\": \"Prediction\"}, {\"Date\": \"2023-09-25\", \"Value\": 384.205215316208, \"type\": \"Prediction\"}, {\"Date\": \"2023-09-26\", \"Value\": 379.9212381633352, \"type\": \"Prediction\"}, {\"Date\": \"2023-09-27\", \"Value\": 384.6714947338738, \"type\": \"Prediction\"}, {\"Date\": \"2023-09-28\", \"Value\": 379.39375441798, \"type\": \"Prediction\"}, {\"Date\": \"2023-09-29\", \"Value\": 377.63290025349767, \"type\": \"Prediction\"}, {\"Date\": \"2023-10-02\", \"Value\": 376.39176126679223, \"type\": \"Prediction\"}, {\"Date\": \"2023-10-03\", \"Value\": 377.5679612608341, \"type\": \"Prediction\"}, {\"Date\": \"2023-10-04\", \"Value\": 380.25949027576365, \"type\": \"Prediction\"}, {\"Date\": \"2023-10-05\", \"Value\": 376.8426381771064, \"type\": \"Prediction\"}, {\"Date\": \"2023-10-06\", \"Value\": 376.8961123781526, \"type\": \"Prediction\"}]}}, {\"mode\": \"vega-lite\"});\n",
       "</script>"
      ],
      "text/plain": [
       "alt.Chart(...)"
      ]
     },
     "execution_count": 220,
     "metadata": {},
     "output_type": "execute_result"
    }
   ],
   "source": [
    "alt.Chart(tmp).mark_line().encode(\n",
    "    x=\"Date:T\",\n",
    "    y=\"Value:Q\",\n",
    "    color='type:N'\n",
    ").properties(\n",
    "    width = 900,\n",
    "    height = 200\n",
    ")"
   ]
  },
  {
   "cell_type": "code",
   "execution_count": null,
   "id": "63791555-5113-4ea9-94c9-43c9a5d8e936",
   "metadata": {},
   "outputs": [],
   "source": []
  }
 ],
 "metadata": {
  "kernelspec": {
   "display_name": "Python 3 (ipykernel)",
   "language": "python",
   "name": "python3"
  },
  "language_info": {
   "codemirror_mode": {
    "name": "ipython",
    "version": 3
   },
   "file_extension": ".py",
   "mimetype": "text/x-python",
   "name": "python",
   "nbconvert_exporter": "python",
   "pygments_lexer": "ipython3",
   "version": "3.11.5"
  }
 },
 "nbformat": 4,
 "nbformat_minor": 5
}
