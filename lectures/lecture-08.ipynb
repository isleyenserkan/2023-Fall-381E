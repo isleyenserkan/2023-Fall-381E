{
 "cells": [
  {
   "cell_type": "markdown",
   "id": "2c9ff4e7-b0f3-417b-b093-59dd8b446bd9",
   "metadata": {},
   "source": [
    "# NLP Unit: Natural Language Processing and Text Analysis\n",
    "\n",
    "## Overview:\n",
    "\n",
    "In the Natural Language Processing (NLP) unit, we will be focusing on understanding and analyzing human language data. This unit will cover the basics of text cleaning, information extraction, and various Natural Language Processing techniques. The lectures will be supplemented with coding examples using Python libraries, including NLTK, spaCy, OpenNLP, and Stanford NLP. We will explore different state-of-the-art NLP models, such as Bag of Words (BoW), TF-IDF, Word2Vec, and BERT for tasks including keyword extraction, text summarization, sentiment analysis, and text similarity.\n",
    "\n",
    "## Tokenization\n",
    "\n",
    "Tokenization is a fundamental component in natural language processing (NLP) and computational linguistics. It covers any procedure of disassembling a given document or textual corpus into discrete and semantically meaningful units, denoted as tokens. These tokens may contain a variety of linguistic entities, including but not limited to words, phrases, sentences, or even specialized characters such as punctuation marks. The underlying rationale behind tokenization is to render ostensibly amorphous and unstructured textual data into a more ordered and analytically tractable format.\n",
    "\n",
    "Word tokenization is characterized by the nuanced segmentation of a given textual entity into its constituent individual words. While it may seem straightforward, this process involves distinguishing linguistic boundaries by considering morphological intricacies, syntactic nuances, and contextual dependencies. The output of word tokenization is a set of discrete units that encapsulate the lexical semantics of the original text.\n",
    "\n",
    "Similar to word tokenization, sentence tokenization is a sophisticated process that decomposes a corpus into its fundamental building blocks of individual sentences. The complexity of this task lies in the complicated nature of linguistic expressions, diverse sentence structures, rhetorical strategies, and grammatical variations. The output of a sentence tokenization task helps us to capture the semantic content and syntactic structure of the original text at a higher level of abstraction.\n",
    "\n",
    "### Coding Example: Tokenization using NLTK"
   ]
  },
  {
   "cell_type": "code",
   "execution_count": 2,
   "id": "99ef502c-bace-41cb-8c2e-53117cb422d6",
   "metadata": {},
   "outputs": [
    {
     "data": {
      "text/plain": [
       "['Natural',\n",
       " 'language',\n",
       " 'processing',\n",
       " '(',\n",
       " 'NLP',\n",
       " ')',\n",
       " 'is',\n",
       " 'a',\n",
       " 'subfield',\n",
       " 'of',\n",
       " 'artificial',\n",
       " 'intelligence',\n",
       " '.',\n",
       " 'Its',\n",
       " 'focus',\n",
       " 'is',\n",
       " 'on',\n",
       " 'making',\n",
       " 'it',\n",
       " 'possible',\n",
       " 'for',\n",
       " 'computers',\n",
       " 'to',\n",
       " 'read',\n",
       " 'and',\n",
       " 'understand',\n",
       " 'human',\n",
       " 'language',\n",
       " '.']"
      ]
     },
     "execution_count": 2,
     "metadata": {},
     "output_type": "execute_result"
    }
   ],
   "source": [
    "import nltk\n",
    "\n",
    "sample_text = \"Natural language processing (NLP) is a subfield of artificial intelligence. \\\n",
    "Its focus is on making it possible for computers to read and understand human language.\"\n",
    "\n",
    "word_tokens = nltk.word_tokenize(sample_text)\n",
    "word_tokens"
   ]
  },
  {
   "cell_type": "code",
   "execution_count": 6,
   "id": "a8ab6c3a-9c0f-4f75-b385-50816ee2427e",
   "metadata": {},
   "outputs": [
    {
     "data": {
      "text/plain": [
       "['\\nHere is a sample sentence with an abbreviation IBM and a person name Mr. Smith.',\n",
       " 'Here is another sentence.']"
      ]
     },
     "execution_count": 6,
     "metadata": {},
     "output_type": "execute_result"
    }
   ],
   "source": [
    "sentence_tokens = nltk.sent_tokenize(\"\"\"\n",
    "Here is a sample sentence with an abbreviation IBM and a person name Mr. Smith. \n",
    "Here is another sentence.\n",
    "\"\"\")\n",
    "sentence_tokens"
   ]
  },
  {
   "cell_type": "markdown",
   "id": "2ddd856d-d146-4865-9e4b-43f39c92fbf1",
   "metadata": {},
   "source": [
    "## Lemmatization and Stemming\n",
    "\n",
    "Lemmatization and stemming are essential morphological operations used in natural language processing pipelines. They occupy a seminal position in any natural language processing toolkit and jointly aim to transform morphologically complex word forms into their simpler and semantically analogous representations. Both processes aim to eliminate the morphological variations of words in text data, thereby reducing the complexity of the analyses, and improving the generalizability of the computational models. This helps the extraction of meaningful insights from the textual data. Even though they share a common goal of reducing words to their canonical morphological roots, they differ in their approaches, outputs, and linguistic validity. The choice between the two methods depends on the specific analytical objectives, linguistic constraints, and computational trade-offs, as well as the target language's morphological properties and idiosyncrasies.\n",
    "\n",
    "### Stemming\n",
    "\n",
    "Stemming is a common NLP task that truncates a given word to its base or root representation by systematically eliminating inflectional and derivational affixes. This morphological simplification reduces the vocabulary size and complexity of textual analyses. It is important to note that the output of the stemming process, referred to as the stem, may not always correspond to an actual linguistic unit or a morphologically valid word form.\n",
    "\n",
    "Stemming algorithms typically abide by a set of predefined morphological and linguistic rules curated from the structural features of the target language. These rules may encompass the identification and removal of inflectional patterns, the recognition of derivational morphemes, and the approximation of morpho-syntactic relationships among words. The most widespread stemming algorithms include the Porter's Stemmer, the Snowball Stemmer, and the Lancaster Stemmer.\n",
    "\n",
    "### Lemmatization\n",
    "\n",
    "Lemmatization, in contrast to stemming, is a morphological process that aims to reduce a given word to its canonical root form, known as *the lemma*. Unlike stemming, the lemma is assured to be a lexically valid entry in the target language's dictionary and is inherently meaningful. By incorporating contextual and *part-of-speech information*, lemmatization finds out the underlying morphological base form of a word while retaining its semantic essence.\n",
    "\n",
    "To lemmatize a given word, its morpho-syntactic features are rigorously analyzed. These include its grammatical categories, inflections, and possible derivations. Using lexico-morphological resources lemmatization algorithms navigate the complex landscape of irregular inflections, homonyms, and polysemes. The resulting lemmatized words are both human-readable and meaningful for computational models.\n",
    "\n",
    "### Coding Example: Stemming and Lemmatization using NLTK"
   ]
  },
  {
   "cell_type": "code",
   "execution_count": 7,
   "id": "1ac6adc7-c6d9-40e2-b07b-2a89b68dce41",
   "metadata": {},
   "outputs": [
    {
     "data": {
      "text/plain": [
       "['upon',\n",
       " 'completing',\n",
       " 'this',\n",
       " 'lecture',\n",
       " ',',\n",
       " 'students',\n",
       " 'will',\n",
       " 'have',\n",
       " 'a',\n",
       " 'good',\n",
       " 'understanding',\n",
       " 'of',\n",
       " 'the',\n",
       " 'basic',\n",
       " 'nlp',\n",
       " 'tasks',\n",
       " '-',\n",
       " 'tokenization',\n",
       " ',',\n",
       " 'lemmatization',\n",
       " ',',\n",
       " 'stop',\n",
       " 'word',\n",
       " 'removal',\n",
       " ',',\n",
       " 'and',\n",
       " 'stemming',\n",
       " '.',\n",
       " 'by',\n",
       " 'using',\n",
       " 'the',\n",
       " 'provided',\n",
       " 'coding',\n",
       " 'examples',\n",
       " ',',\n",
       " 'students',\n",
       " 'will',\n",
       " 'learn',\n",
       " 'how',\n",
       " 'to',\n",
       " 'perform',\n",
       " 'these',\n",
       " 'tasks',\n",
       " 'using',\n",
       " 'the',\n",
       " 'nltk',\n",
       " 'library',\n",
       " 'in',\n",
       " 'python',\n",
       " '.']"
      ]
     },
     "execution_count": 7,
     "metadata": {},
     "output_type": "execute_result"
    }
   ],
   "source": [
    "from nltk.stem import PorterStemmer, WordNetLemmatizer\n",
    "from nltk.tokenize import word_tokenize\n",
    "\n",
    "sample_text = \"\"\"\n",
    "Upon completing this lecture, students will have a good understanding of the basic NLP \n",
    "tasks - tokenization, lemmatization, stop word removal, and stemming. By using the provided \n",
    "coding examples, students will learn how to perform these tasks using the NLTK library in Python.\n",
    "\"\"\"\n",
    "tokens = word_tokenize(sample_text.lower())\n",
    "tokens"
   ]
  },
  {
   "cell_type": "code",
   "execution_count": 8,
   "id": "0b684b85-af50-4697-b90f-796d3db49c66",
   "metadata": {},
   "outputs": [
    {
     "data": {
      "text/plain": [
       "['upon',\n",
       " 'complet',\n",
       " 'thi',\n",
       " 'lectur',\n",
       " ',',\n",
       " 'student',\n",
       " 'will',\n",
       " 'have',\n",
       " 'a',\n",
       " 'good',\n",
       " 'understand',\n",
       " 'of',\n",
       " 'the',\n",
       " 'basic',\n",
       " 'nlp',\n",
       " 'task',\n",
       " '-',\n",
       " 'token',\n",
       " ',',\n",
       " 'lemmat',\n",
       " ',',\n",
       " 'stop',\n",
       " 'word',\n",
       " 'remov',\n",
       " ',',\n",
       " 'and',\n",
       " 'stem',\n",
       " '.',\n",
       " 'by',\n",
       " 'use',\n",
       " 'the',\n",
       " 'provid',\n",
       " 'code',\n",
       " 'exampl',\n",
       " ',',\n",
       " 'student',\n",
       " 'will',\n",
       " 'learn',\n",
       " 'how',\n",
       " 'to',\n",
       " 'perform',\n",
       " 'these',\n",
       " 'task',\n",
       " 'use',\n",
       " 'the',\n",
       " 'nltk',\n",
       " 'librari',\n",
       " 'in',\n",
       " 'python',\n",
       " '.']"
      ]
     },
     "execution_count": 8,
     "metadata": {},
     "output_type": "execute_result"
    }
   ],
   "source": [
    "stemmer = PorterStemmer()\n",
    "stemmed_tokens = [stemmer.stem(token) for token in tokens]\n",
    "stemmed_tokens"
   ]
  },
  {
   "cell_type": "code",
   "execution_count": 9,
   "id": "e8b81854-39d1-4490-be61-8210e89efa3f",
   "metadata": {
    "scrolled": true
   },
   "outputs": [
    {
     "data": {
      "text/plain": [
       "['upon',\n",
       " 'completing',\n",
       " 'this',\n",
       " 'lecture',\n",
       " ',',\n",
       " 'student',\n",
       " 'will',\n",
       " 'have',\n",
       " 'a',\n",
       " 'good',\n",
       " 'understanding',\n",
       " 'of',\n",
       " 'the',\n",
       " 'basic',\n",
       " 'nlp',\n",
       " 'task',\n",
       " '-',\n",
       " 'tokenization',\n",
       " ',',\n",
       " 'lemmatization',\n",
       " ',',\n",
       " 'stop',\n",
       " 'word',\n",
       " 'removal',\n",
       " ',',\n",
       " 'and',\n",
       " 'stemming',\n",
       " '.',\n",
       " 'by',\n",
       " 'using',\n",
       " 'the',\n",
       " 'provided',\n",
       " 'coding',\n",
       " 'example',\n",
       " ',',\n",
       " 'student',\n",
       " 'will',\n",
       " 'learn',\n",
       " 'how',\n",
       " 'to',\n",
       " 'perform',\n",
       " 'these',\n",
       " 'task',\n",
       " 'using',\n",
       " 'the',\n",
       " 'nltk',\n",
       " 'library',\n",
       " 'in',\n",
       " 'python',\n",
       " '.']"
      ]
     },
     "execution_count": 9,
     "metadata": {},
     "output_type": "execute_result"
    }
   ],
   "source": [
    "lemmatizer = WordNetLemmatizer()\n",
    "lemmatized_tokens = [lemmatizer.lemmatize(token) for token in tokens]\n",
    "lemmatized_tokens"
   ]
  },
  {
   "cell_type": "markdown",
   "id": "4c6ccb0b-1994-4eb4-ba97-365ab6d7b011",
   "metadata": {},
   "source": [
    "## Stop Word Removal\n",
    "\n",
    "Stop words are a class of lexical items in a language. They can be analyzed in grammatical, syntactic, and semantic dimensions. In general, these words include a variety of linguistic entities, such as function words, pronouns, articles, prepositions, conjunctions, auxiliary verbs, and other high-frequency language units. The key concept here is **high-frequency**.  Despite their ubiquity in linguistic expression, stop words are considered to contribute minimally to the overall semantic content of a sentence or a corpus.\n",
    "\n",
    "The identification of stop words in a language depends on their distinct characteristics. These generally include high frequency, low semantic specificity, and auxiliary grammatical function. A language's stop-word inventory consists of a predetermined set of linguistic units that exemplify these traits.\n",
    "\n",
    "English stop words, for instance, consist of an assortment of articles (e.g., \"a\", \"an\", \"the\"), prepositions (e.g., \"in\", \"on\", \"at\", \"with\"), conjunctions (e.g., \"and\", \"but\", \"or\", \"yet\"), demonstrative pronouns (e.g., \"this\", \"these\", \"those\"), and auxiliary verbs (e.g., \"is\", \"are\", \"was\", \"would\"). Other languages have their own unique lexical repertoires of stop words, reflecting their respective morphosyntactic particularities and idiosyncrasies.\n",
    "\n",
    "Syntactically, stop words serve auxiliary roles that underline and signify any structural relationships between other lexically relevant parts of a sentence. By marking the grammatical structure, stop words help in expressing nuances of modality, temporality, spatiality, causality, and coherence. Nonetheless, these syntactic scaffolding units remain secondary to the core semantic elements, such as noun phrases, main verbs, and content words, that capture the bulk of the meaning.\n",
    "\n",
    "Stop-words typically have high syntactic functionality but low semantic content since they do not contribute substantial information to the overall meaning of a sentence. Given their high syntactic functionality and low semantic content, stop words often are removed for the purposes of text analysis and natural language processing because usually, the primary focus lies in uncovering the meaningful relationships present in the text data.\n",
    "\n",
    "### The Rationale for Stop Word Removal\n",
    "\n",
    "The removal of stop words is a common but vital pre-processing step in most natural language processing pipelines. By eliminating these linguistically prevalent yet semantically low-value units from text data, one can reduce noise and computational complexity, and thereby, enhance the analytical efficiency of the algorithms and models. Furthermore, the removal of stop-words helps in reducing the size and dimensionality of the feature space and mitigates the extraction of latent linguistic patterns.\n",
    "\n",
    "\n",
    "### Coding Example: Stop Word Removal using NLTK"
   ]
  },
  {
   "cell_type": "code",
   "execution_count": 6,
   "id": "6c25823e-8473-4a6c-8aca-8e15f94db6fa",
   "metadata": {
    "scrolled": true
   },
   "outputs": [
    {
     "data": {
      "text/plain": [
       "['upon',\n",
       " 'completing',\n",
       " 'lecture',\n",
       " ',',\n",
       " 'students',\n",
       " 'good',\n",
       " 'understanding',\n",
       " 'basic',\n",
       " 'nlp',\n",
       " 'tasks',\n",
       " '-',\n",
       " 'tokenization',\n",
       " ',',\n",
       " 'lemmatization',\n",
       " ',',\n",
       " 'stop',\n",
       " 'word',\n",
       " 'removal',\n",
       " ',',\n",
       " 'stemming',\n",
       " '.',\n",
       " 'using',\n",
       " 'provided',\n",
       " 'coding',\n",
       " 'examples',\n",
       " ',',\n",
       " 'students',\n",
       " 'learn',\n",
       " 'perform',\n",
       " 'tasks',\n",
       " 'using',\n",
       " 'nltk',\n",
       " 'library',\n",
       " 'python',\n",
       " '.']"
      ]
     },
     "execution_count": 6,
     "metadata": {},
     "output_type": "execute_result"
    }
   ],
   "source": [
    "from nltk.corpus import stopwords\n",
    "\n",
    "tokens = word_tokenize(sample_text.lower())\n",
    "stop_words = set(stopwords.words('english'))\n",
    "filtered_tokens = [token for token in tokens if token.lower() not in stop_words]\n",
    "filtered_tokens"
   ]
  },
  {
   "cell_type": "markdown",
   "id": "85d6dd48-2cbc-467d-8947-0b13258e9841",
   "metadata": {},
   "source": [
    "## Part-of-Speech Tagging\n",
    "\n",
    "Part-of-Speech (POS) tagging is an important class of methods that belong to natural language processing. POS tagging deals with annotating and categorizing words in a given corpus according to their respective grammatical classes or parts of speech. By assigning a syntactic label to each word in a sentence, it identifies the linguistic role each word plays within the broader syntactic structure.\n",
    "\n",
    "Some common POS tags include:\n",
    "\n",
    "- Nouns (NN, NNS, NNP, NNPS)\n",
    "- Verbs (VB, VBD, VBG, VBN, VBP, VBZ)\n",
    "- Adjectives (JJ, JJR, JJS)\n",
    "- Adverbs (RB, RBR, RBS)\n",
    "- Prepositions (IN)\n",
    "- Pronouns (PRP, PRP\\$)\n",
    "- Conjunctions (CC)\n",
    "\n",
    "POS tagging is instrumental for many natural language processing tasks since it uncovers syntactic information about words within a sentence or a corpus, which in turn, can enhance the performance any computational models of the underlying corpus. Some notable use cases include lemmatization which we covered above, and Named Entity Recognition (NER).\n",
    "\n",
    "By learning part-of-speech tagging, you gain a comprehensive understanding of the role of grammatical classification in natural language processing, particularly for tasks that requires access to the latent syntactic information encoded in a corpus.\n",
    "\n",
    "### Coding Example: Part-of-Speech Tagging using NLTK\n",
    "\n",
    "In the following coding example, we use the NLTK library to perform part-of-speech tagging on a sample sentence. We tokenize the sample text, and then we POS tag the text using the `pos_tag()` function. Lastly, we print the resulting POS tags for each word in the sentence.\n"
   ]
  },
  {
   "cell_type": "code",
   "execution_count": 11,
   "id": "3cb4b8ff-4c0a-4e93-b260-d26bd65eecf0",
   "metadata": {},
   "outputs": [
    {
     "name": "stdout",
     "output_type": "stream",
     "text": [
      "POS tags:\n",
      "upon: IN\n",
      "completing: VBG\n",
      "this: DT\n",
      "lecture: NN\n",
      ",: ,\n",
      "students: NNS\n",
      "will: MD\n",
      "have: VB\n",
      "a: DT\n",
      "good: JJ\n",
      "understanding: NN\n",
      "of: IN\n",
      "the: DT\n",
      "basic: JJ\n",
      "nlp: NN\n",
      "tasks: NNS\n",
      "-: :\n",
      "tokenization: NN\n",
      ",: ,\n",
      "lemmatization: NN\n",
      ",: ,\n",
      "stop: VB\n",
      "word: NN\n",
      "removal: NN\n",
      ",: ,\n",
      "and: CC\n",
      "stemming: VBG\n",
      ".: .\n",
      "by: IN\n",
      "using: VBG\n",
      "the: DT\n",
      "provided: JJ\n",
      "coding: NN\n",
      "examples: NNS\n",
      ",: ,\n",
      "students: NNS\n",
      "will: MD\n",
      "learn: VB\n",
      "how: WRB\n",
      "to: TO\n",
      "perform: VB\n",
      "these: DT\n",
      "tasks: NNS\n",
      "using: VBG\n",
      "the: DT\n",
      "nltk: JJ\n",
      "library: NN\n",
      "in: IN\n",
      "python: NN\n",
      ".: .\n"
     ]
    }
   ],
   "source": [
    "from nltk import pos_tag\n",
    "\n",
    "tokens = word_tokenize(sample_text.lower())\n",
    "pos_tags = pos_tag(tokens)\n",
    "\n",
    "print(\"POS tags:\")\n",
    "for word, tag in pos_tags:\n",
    "    print(f\"{word}: {tag}\")"
   ]
  },
  {
   "cell_type": "markdown",
   "id": "8fca854b-e4c5-4999-aff3-85860fc96e80",
   "metadata": {},
   "source": [
    "## Named Entity Recognition (NER)\n",
    "\n",
    "Named Entity Recognition (NER), a critical subtask within NLP. NER entails the identification and classification of entities present within text data. These entities include a diverse lexical and referential units that embody meaning and relevance in a discourse. Some common categories of entities include:\n",
    "\n",
    "- People (e.g., \"President Obama\", \"Nelson Mandela\")\n",
    "- Organizations (e.g., \"Apple Inc.\", \"United Nations\")\n",
    "- Locations (e.g., \"Mount Everest\", \"New York City\")\n",
    "- Dates (e.g., \"October 12, 2022\", \"01/01/2000\")\n",
    "- Monetary values (e.g., \"$50\", \"5 million USD\")\n",
    "- Percentages (e.g., \"18%\", \"0.5 percent\")\n",
    "\n",
    "NER finds application in numerous natural language processing and text analysis tasks where recognizing and understanding entities within a text is crucial. Some noteworthy use cases include:\n",
    "\n",
    "1. **Information Extraction:** NER is fundamental for extracting structured information from unstructured text, enabling users to pinpoint and discern key entities embedded in the discourse which can subsequently be harnessed for knowledge discovery or data mining purposes.\n",
    "\n",
    "2. **Question-Answering Systems:** In such systems, NER assists in extracting and analyzing relevant entities from the text corpus, improving the system's ability to provide precise and pertinent answers.\n",
    "\n",
    "3. **Relation Extraction:** By identifying entities, NER lays the foundation for understanding the relationships between said entities, thereby revealing latent semantic relationships within the text.\n",
    "\n",
    "4. **Text Summarization:** NER contributes to generating concise and informative summaries of text by recognizing and preserving the most salient entities in the summarization process.\n",
    "\n",
    "5. **Sentiment Analysis:** In sentiment analysis tasks, the identification of entities can bolster sentiment attribution, sentiment target recognition, and the characterization of the sentiment polarity associated with particular entities.\n",
    "\n",
    "### Coding Example: Named Entity Recognition using NLTK\n",
    "\n",
    "In the following coding example, we demonstrate Named Entity Recognition with the NLTK library using the sample text we used earlier. We first tokenize the text and assign POS tags using the `word_tokenize()` and `pos_tag()` functions, respectively. Subsequently, the `ne_chunk()` function is used to recognize the named entities. \n"
   ]
  },
  {
   "cell_type": "code",
   "execution_count": 17,
   "id": "210e1e64-6af0-47d3-953d-54d88d49890d",
   "metadata": {},
   "outputs": [
    {
     "name": "stdout",
     "output_type": "stream",
     "text": [
      "Named entities (NLTK):\n"
     ]
    },
    {
     "data": {
      "text/plain": [
       "[('The', 'DT', 'O'),\n",
       " ('OXFAM', 'NNP', 'B-ORGANIZATION'),\n",
       " ('report', 'NN', 'O'),\n",
       " ('shows', 'VBZ', 'O'),\n",
       " ('that', 'IN', 'O'),\n",
       " ('while', 'IN', 'O'),\n",
       " ('the', 'DT', 'O'),\n",
       " ('wealthiest', 'JJS', 'O'),\n",
       " ('1', 'CD', 'O'),\n",
       " ('tend', 'NN', 'O'),\n",
       " ('to', 'TO', 'O'),\n",
       " ('live', 'VB', 'O'),\n",
       " ('climate-insulated', 'JJ', 'O'),\n",
       " ('air-conditioned', 'JJ', 'O'),\n",
       " ('lives', 'NNS', 'O'),\n",
       " ('their', 'PRP$', 'O'),\n",
       " ('emissions', 'NNS', 'O'),\n",
       " ('59bn', 'CD', 'O'),\n",
       " ('tonnes', 'NNS', 'O'),\n",
       " ('of', 'IN', 'O'),\n",
       " ('CO2', 'NNP', 'B-ORGANIZATION'),\n",
       " ('in', 'IN', 'O'),\n",
       " ('2019', 'CD', 'O'),\n",
       " ('are', 'VBP', 'O'),\n",
       " ('responsible', 'JJ', 'O'),\n",
       " ('for', 'IN', 'O'),\n",
       " ('immense', 'JJ', 'O'),\n",
       " ('suffering', 'NN', 'O')]"
      ]
     },
     "execution_count": 17,
     "metadata": {},
     "output_type": "execute_result"
    }
   ],
   "source": [
    "from nltk import tree2conlltags, ne_chunk\n",
    "import re\n",
    "\n",
    "# nltk.download('maxent_ne_chunker')\n",
    "# nltk.download('words')\n",
    "# nltk.download('averaged_perceptron_tagger')\n",
    "\n",
    "news_text = \"\"\"The OXFAM report shows that while the wealthiest 1% tend to \n",
    "live climate-insulated, air-conditioned lives, their emissions – 5.9bn tonnes \n",
    "of CO2 in 2019 – are responsible for immense suffering.\"\"\"\n",
    "\n",
    "tokens = word_tokenize(re.sub(r'[^\\w\\s-]','',news_text))\n",
    "pos_tags = pos_tag(tokens)\n",
    "ner_chunks = ne_chunk(pos_tags)\n",
    "\n",
    "print(\"Named entities (NLTK):\")\n",
    "tree2conlltags(ner_chunks)"
   ]
  },
  {
   "cell_type": "markdown",
   "id": "f26c31bd-59ac-4311-ab16-5efc1e953589",
   "metadata": {},
   "source": [
    "## Sentiment Analysis\n",
    "\n",
    "Sentiment Analysis, often referred to as opinion mining, is a sophisticated process within the discipline of natural language processing that aims to determine the emotional tone pervading a given text. By dissecting and deciphering the underlying emotions, sentiment analysis can identify the polarity of the sentiment (e.g., positive, negative, or neutral) along with the intensity of the expressed emotions. This analysis not only encompasses the evaluation of explicit expressions of emotions but also the subtle, implicit, and ambivalent sentiments often conveyed through language.\n",
    "\n",
    "Sentiment Analysis has widespread applications across various domains and industries, with some prominent use cases including:\n",
    "\n",
    "1. **Product Reviews and Ratings:** By analyzing customer reviews, businesses can gain insights into customer perceptions, preferences, and concerns, enabling data-driven strategies for product development, marketing, and customer experience management.\n",
    "\n",
    "2. **Social Media Monitoring:** Sentiment Analysis can be employed to gauge public opinion on social media platforms for brand monitoring, reputation management, trend analysis, and understanding the impact of events and campaigns.\n",
    "\n",
    "3. **Customer Support:** Analyzing customer support interactions can help identify sentiment patterns, allowing businesses to optimize their support processes and proactively address sources of customer dissatisfaction.\n",
    "\n",
    "4. **Political Sentiment Analysis:** Sentiment Analysis aids in analyzing public opinion on political figures, social movements, and policy decisions, offering insights to comprehend voter preferences, beliefs, and electoral trends.\n",
    "\n",
    "5. **Real-time Monitoring:** Real-time Sentiment Analysis enables businesses and organizations to monitor and respond to events, news, and social media reactions, guiding decision-making and strategic planning processes.\n",
    "\n",
    "### Coding Example: Sentiment Analysis using TextBlob\n",
    "\n",
    "In the following simple coding example, we employ the TextBlob library for performing sentiment analysis on two sample texts with contrasting emotions. The `TextBlob()` function computes the sentiment polarity (-1 to 1, with -1 being highly negative and 1 being highly positive) and subjectivity (0 to 1, with 0 being highly objective and 1 being highly subjective) within the text.\n"
   ]
  },
  {
   "cell_type": "code",
   "execution_count": 18,
   "id": "ce5fa1d1-deae-4097-9825-00b791948054",
   "metadata": {},
   "outputs": [
    {
     "data": {
      "text/plain": [
       "Sentiment(polarity=0.5555555555555555, subjectivity=0.8250000000000001)"
      ]
     },
     "execution_count": 18,
     "metadata": {},
     "output_type": "execute_result"
    }
   ],
   "source": [
    "from textblob import TextBlob\n",
    "\n",
    "sample_text_positive = \"I absolutely love this product. The quality is exceptional, and the performance is outstanding.\"\n",
    "sentiment_positive = TextBlob(sample_text_positive).sentiment\n",
    "sentiment_positive"
   ]
  },
  {
   "cell_type": "code",
   "execution_count": 19,
   "id": "f3634edd-8eba-4a37-a96b-d6f518b13e41",
   "metadata": {},
   "outputs": [
    {
     "data": {
      "text/plain": [
       "Sentiment(polarity=-0.525, subjectivity=0.675)"
      ]
     },
     "execution_count": 19,
     "metadata": {},
     "output_type": "execute_result"
    }
   ],
   "source": [
    "sample_text_negative = \"I'm incredibly disappointed with the service I received. The staff was rude and unhelpful.\"\n",
    "sentiment_negative = TextBlob(sample_text_negative).sentiment\n",
    "sentiment_negative"
   ]
  },
  {
   "cell_type": "markdown",
   "id": "2130744f-b0ef-4aaa-91e0-10c40b1c1afd",
   "metadata": {},
   "source": [
    "## Keyword Extraction and Text Summarization\n",
    "\n",
    "Keyword Extraction is the process of automatically identifying and extracting essential terms, phrases, or keywords from a given text corpus. These keywords encapsulate the core semantic content and topical essence of the document, delivering a succinct representation of the text's subject matter. By pinpointing the most salient and meaningful units, keyword extraction enables efficient data indexing, tagging, retrieval, and exploration.\n",
    "\n",
    "Text Summarization, on the other hand, entails crafting a condensed yet informative representation of a given text. Summarization captures most crucial themes and ideas within a corpus while retaining coherence and readability. Text summarization splits into two primary categories: extractive summarization and abstractive summarization. Extractive summarization focuses on selecting the most important sentences or phrases from the source text to compose the summary, whereas abstractive summarization generates novel sentences conveying the main ideas of the original text.\n",
    "\n",
    "Both Keyword Extraction and Text Summarization find applications across various domains and industries. Some noteworthy use cases include:\n",
    "\n",
    "1. **Search Engine Optimization (SEO):** Identifying targeted keywords enhances website visibility, content relevance, and search engine rankings.\n",
    "\n",
    "2. **Information Retrieval:** In document indexing and retrieval systems, keywords and summaries assist users in selecting the most pertinent documents based on their information needs.\n",
    "\n",
    "3. **Text Classification:** Keywords and summaries can serve as valuable features for machine learning models employed in tasks such as document categorization and topic modeling.\n",
    "\n",
    "4. **News Aggregation:** News aggregation platforms benefit from summarization algorithms to provide their users with concise news summaries and relevant keywords in real-time.\n",
    "\n",
    "5. **Research Paper Summarization:** The academic community can harness text summarization to generate abstracts of research papers or quickly comprehend the key findings, topics, and relevance of large collections of articles.\n",
    "\n",
    "### Coding Example: Keyword Extraction and Text Summarization using Gensim\n",
    "\n",
    "\n",
    "In the following coding example, we use the Gensim library to perform both keyword extraction and text summarization on a sample text that discusses Artificial Intelligence. The `keywords()` function extracts the five most essential keywords by considering their relevance and frequency within the text. The `summarize()` function generates a concise summary by selecting the most pertinent sentences based on their significance in the original text."
   ]
  },
  {
   "cell_type": "code",
   "execution_count": 20,
   "id": "caf516a2-6234-4423-8496-8e5523e43f11",
   "metadata": {},
   "outputs": [
    {
     "ename": "ModuleNotFoundError",
     "evalue": "No module named 'gensim.summarization'",
     "output_type": "error",
     "traceback": [
      "\u001b[0;31m---------------------------------------------------------------------------\u001b[0m",
      "\u001b[0;31mModuleNotFoundError\u001b[0m                       Traceback (most recent call last)",
      "Cell \u001b[0;32mIn[20], line 2\u001b[0m\n\u001b[1;32m      1\u001b[0m \u001b[38;5;28;01mimport\u001b[39;00m \u001b[38;5;21;01mgensim\u001b[39;00m\n\u001b[0;32m----> 2\u001b[0m \u001b[38;5;28;01mfrom\u001b[39;00m \u001b[38;5;21;01mgensim\u001b[39;00m\u001b[38;5;21;01m.\u001b[39;00m\u001b[38;5;21;01msummarization\u001b[39;00m \u001b[38;5;28;01mimport\u001b[39;00m keywords, summarize\n\u001b[1;32m      4\u001b[0m sample_text \u001b[38;5;241m=\u001b[39m \u001b[38;5;124m\"\"\"\u001b[39m\n\u001b[1;32m      5\u001b[0m \u001b[38;5;124mArtificial Intelligence (AI) is a fast-growing field that seeks to create intelligent agents capable of solving complex problems, learning from experience, and demonstrating human-like reasoning. Machine learning, a subset of AI, focuses \u001b[39m\n\u001b[1;32m      6\u001b[0m \u001b[38;5;124mon developing algorithms that enable computers to learn from data, adapt over time, and make predictions. Deep learning, a further subset of machine learning, employs artificial neural networks to perform tasks requiring sophisticated pattern \u001b[39m\n\u001b[0;32m   (...)\u001b[0m\n\u001b[1;32m     13\u001b[0m \u001b[38;5;124mdevelopment and deployment of AI technologies.\u001b[39m\n\u001b[1;32m     14\u001b[0m \u001b[38;5;124m\"\"\"\u001b[39m\n\u001b[1;32m     16\u001b[0m extracted_keywords \u001b[38;5;241m=\u001b[39m keywords(sample_text, words\u001b[38;5;241m=\u001b[39m\u001b[38;5;241m5\u001b[39m, lemmatize\u001b[38;5;241m=\u001b[39m\u001b[38;5;28;01mTrue\u001b[39;00m)\n",
      "\u001b[0;31mModuleNotFoundError\u001b[0m: No module named 'gensim.summarization'"
     ]
    }
   ],
   "source": [
    "import gensim\n",
    "from gensim.summarization import keywords, summarize\n",
    "\n",
    "sample_text = \"\"\"\n",
    "Artificial Intelligence (AI) is a fast-growing field that seeks to create intelligent agents capable of solving complex problems, learning from experience, and demonstrating human-like reasoning. Machine learning, a subset of AI, focuses \n",
    "on developing algorithms that enable computers to learn from data, adapt over time, and make predictions. Deep learning, a further subset of machine learning, employs artificial neural networks to perform tasks requiring sophisticated pattern \n",
    "recognition and decision-making abilities.\n",
    "\n",
    "AI has demonstrated remarkable progress in numerous areas, including natural language processing, computer vision, speech recognition, and autonomous systems. This has led to widespread applications such as virtual assistants like \n",
    "Siri and Alexa, self-driving cars, recommendation engines, and medical diagnosis tools.\n",
    "\n",
    "While AI promises significant benefits to society, it also raises concerns related to ethics, privacy, and job displacement. Moving forward, it is imperative that researchers, policymakers, and the public work together to ensure responsible \n",
    "development and deployment of AI technologies.\n",
    "\"\"\"\n",
    "\n",
    "extracted_keywords = keywords(sample_text, words=5, lemmatize=True)\n",
    "print(extracted_keywords)"
   ]
  },
  {
   "cell_type": "code",
   "execution_count": 46,
   "id": "9f27930a-b711-4a44-8ecb-7988d0c74ac6",
   "metadata": {
    "scrolled": true
   },
   "outputs": [
    {
     "ename": "AttributeError",
     "evalue": "'Dictionary' object has no attribute 'add_lifecycle_event'",
     "output_type": "error",
     "traceback": [
      "\u001b[0;31m---------------------------------------------------------------------------\u001b[0m",
      "\u001b[0;31mAttributeError\u001b[0m                            Traceback (most recent call last)",
      "Cell \u001b[0;32mIn[46], line 1\u001b[0m\n\u001b[0;32m----> 1\u001b[0m summary \u001b[38;5;241m=\u001b[39m \u001b[43msummarize\u001b[49m\u001b[43m(\u001b[49m\u001b[43msample_text\u001b[49m\u001b[43m,\u001b[49m\u001b[43m \u001b[49m\u001b[43mratio\u001b[49m\u001b[38;5;241;43m=\u001b[39;49m\u001b[38;5;241;43m0.4\u001b[39;49m\u001b[43m)\u001b[49m\n\u001b[1;32m      2\u001b[0m \u001b[38;5;28mprint\u001b[39m(summary)\n",
      "File \u001b[0;32m~/local/venv/lib/python3.11/site-packages/gensim/summarization/summarizer.py:428\u001b[0m, in \u001b[0;36msummarize\u001b[0;34m(text, ratio, word_count, split)\u001b[0m\n\u001b[1;32m    425\u001b[0m \u001b[38;5;28;01mif\u001b[39;00m \u001b[38;5;28mlen\u001b[39m(sentences) \u001b[38;5;241m<\u001b[39m INPUT_MIN_LENGTH:\n\u001b[1;32m    426\u001b[0m     logger\u001b[38;5;241m.\u001b[39mwarning(\u001b[38;5;124m\"\u001b[39m\u001b[38;5;124mInput text is expected to have at least \u001b[39m\u001b[38;5;132;01m%d\u001b[39;00m\u001b[38;5;124m sentences.\u001b[39m\u001b[38;5;124m\"\u001b[39m, INPUT_MIN_LENGTH)\n\u001b[0;32m--> 428\u001b[0m corpus \u001b[38;5;241m=\u001b[39m \u001b[43m_build_corpus\u001b[49m\u001b[43m(\u001b[49m\u001b[43msentences\u001b[49m\u001b[43m)\u001b[49m\n\u001b[1;32m    430\u001b[0m most_important_docs \u001b[38;5;241m=\u001b[39m summarize_corpus(corpus, ratio\u001b[38;5;241m=\u001b[39mratio \u001b[38;5;28;01mif\u001b[39;00m word_count \u001b[38;5;129;01mis\u001b[39;00m \u001b[38;5;28;01mNone\u001b[39;00m \u001b[38;5;28;01melse\u001b[39;00m \u001b[38;5;241m1\u001b[39m)\n\u001b[1;32m    432\u001b[0m \u001b[38;5;66;03m# If couldn't get important docs, the algorithm ends.\u001b[39;00m\n",
      "File \u001b[0;32m~/local/venv/lib/python3.11/site-packages/gensim/summarization/summarizer.py:194\u001b[0m, in \u001b[0;36m_build_corpus\u001b[0;34m(sentences)\u001b[0m\n\u001b[1;32m    180\u001b[0m \u001b[38;5;250m\u001b[39m\u001b[38;5;124;03m\"\"\"Construct corpus from provided sentences.\u001b[39;00m\n\u001b[1;32m    181\u001b[0m \n\u001b[1;32m    182\u001b[0m \u001b[38;5;124;03mParameters\u001b[39;00m\n\u001b[0;32m   (...)\u001b[0m\n\u001b[1;32m    191\u001b[0m \n\u001b[1;32m    192\u001b[0m \u001b[38;5;124;03m\"\"\"\u001b[39;00m\n\u001b[1;32m    193\u001b[0m split_tokens \u001b[38;5;241m=\u001b[39m [sentence\u001b[38;5;241m.\u001b[39mtoken\u001b[38;5;241m.\u001b[39msplit() \u001b[38;5;28;01mfor\u001b[39;00m sentence \u001b[38;5;129;01min\u001b[39;00m sentences]\n\u001b[0;32m--> 194\u001b[0m dictionary \u001b[38;5;241m=\u001b[39m \u001b[43mDictionary\u001b[49m\u001b[43m(\u001b[49m\u001b[43msplit_tokens\u001b[49m\u001b[43m)\u001b[49m\n\u001b[1;32m    195\u001b[0m \u001b[38;5;28;01mreturn\u001b[39;00m [dictionary\u001b[38;5;241m.\u001b[39mdoc2bow(token) \u001b[38;5;28;01mfor\u001b[39;00m token \u001b[38;5;129;01min\u001b[39;00m split_tokens]\n",
      "File \u001b[0;32m~/local/venv/lib/python3.11/site-packages/gensim/corpora/dictionary.py:79\u001b[0m, in \u001b[0;36m__init__\u001b[0;34m(self, documents, prune_at)\u001b[0m\n\u001b[1;32m     76\u001b[0m \u001b[38;5;28mself\u001b[39m\u001b[38;5;241m.\u001b[39mdfs \u001b[38;5;241m=\u001b[39m {}\n\u001b[1;32m     78\u001b[0m \u001b[38;5;28mself\u001b[39m\u001b[38;5;241m.\u001b[39mnum_docs \u001b[38;5;241m=\u001b[39m \u001b[38;5;241m0\u001b[39m\n\u001b[0;32m---> 79\u001b[0m \u001b[38;5;28mself\u001b[39m\u001b[38;5;241m.\u001b[39mnum_pos \u001b[38;5;241m=\u001b[39m \u001b[38;5;241m0\u001b[39m\n\u001b[1;32m     80\u001b[0m \u001b[38;5;28mself\u001b[39m\u001b[38;5;241m.\u001b[39mnum_nnz \u001b[38;5;241m=\u001b[39m \u001b[38;5;241m0\u001b[39m\n\u001b[1;32m     82\u001b[0m \u001b[38;5;28;01mif\u001b[39;00m documents \u001b[38;5;129;01mis\u001b[39;00m \u001b[38;5;129;01mnot\u001b[39;00m \u001b[38;5;28;01mNone\u001b[39;00m:\n",
      "\u001b[0;31mAttributeError\u001b[0m: 'Dictionary' object has no attribute 'add_lifecycle_event'"
     ]
    }
   ],
   "source": [
    "summary = summarize(sample_text, ratio=0.4)\n",
    "print(summary)"
   ]
  },
  {
   "cell_type": "markdown",
   "id": "319696d4-7dd2-48c5-9d1c-1c88f5393361",
   "metadata": {},
   "source": [
    "## Text Similarity\n",
    "\n",
    "Text similarity is a fundamental task in the domain of natural language processing, focusing on quantifying the degree of similarity or relatedness between pairs of text segments. By identifying the extent to which two texts overlap in terms of their content, structure, or meaning, text similarity algorithms facilitate comparison, analysis, and distinction of textual units. Such evaluation often incorporates a numeric distance or similarity score that reflects the semantic or syntactic closeness of the text segments.\n",
    "\n",
    "Text similarity has a wide range of applications and use cases across various industries, including:\n",
    "\n",
    "1. **Search Engines and Information Retrieval:** Text similarity is essential for search engines to rank search results by relevance, allowing them to identify and retrieve the most pertinent documents matching the user's query.\n",
    "\n",
    "2. **Duplicate or Near-Duplicate Detection:** Text similarity enables detection of duplicate or near-duplicate content on websites, plagiarism, and content replication across documents or datasets.\n",
    "\n",
    "3. **Text Clustering and Classification:** Text similarity metrics can act as features or distance functions for machine learning models employed in unsupervised or supervised text classification and clustering tasks.\n",
    "\n",
    "4. **Natural Language Understanding (NLU) Tasks:** Text similarity is crucial for various NLU tasks, such as question-answering systems, machine translation, summarization, and paraphrase detection.\n",
    "\n",
    "5. **Recommendation Systems:** By determining the similarity between items based on their descriptions or users' preferences, recommendation systems offer personalized content suggestions to users.\n",
    "\n",
    "### Coding Examples: Text Similarity using Cosine Similarity, Jaccard Similarity, and Pre-trained Language Models\n",
    "\n",
    "In the following coding example, we demonstrate text similarity calculations using Cosine similarity, Jaccard similarity, and pre-trained language models. Cosine similarity is employed with the `TfidfVectorizer` and `cosine_similarity` functions from scikit-learn, which generate a term frequency-inverse document frequency matrix and compute the cosine similarity scores between the texts, respectively. Jaccard similarity is calculated using the `jaccard_similarity()` function, working with the set of unique words in each text. Lastly, we employ the pre-trained language model `en_core_web_md` from the spaCy library to generate document vectors for each text and calculate their similarities using the `.similarity()` method."
   ]
  },
  {
   "cell_type": "code",
   "execution_count": 21,
   "id": "46ebb737-1993-45a6-9cea-338979aa78c7",
   "metadata": {},
   "outputs": [
    {
     "data": {
      "text/plain": [
       "array([[1.        , 0.14013461, 0.12848626],\n",
       "       [0.14013461, 1.        , 0.22175385],\n",
       "       [0.12848626, 0.22175385, 1.        ]])"
      ]
     },
     "execution_count": 21,
     "metadata": {},
     "output_type": "execute_result"
    }
   ],
   "source": [
    "from sklearn.feature_extraction.text import TfidfVectorizer\n",
    "from sklearn.metrics.pairwise import cosine_similarity\n",
    "from scipy.spatial.distance import jaccard\n",
    "\n",
    "import spacy\n",
    "\n",
    "text_1 = \"I love eating pizza with pineapple toppings.\"\n",
    "text_2 = \"Pineapple on pizza is my favorite too.\"\n",
    "text_3 = \"I don't enjoy pineapple on pizza. I prefer pepperoni instead.\"\n",
    "\n",
    "vectorizer = TfidfVectorizer()\n",
    "tfidf_matrix = vectorizer.fit_transform([text_1, text_2, text_3])\n",
    "cosine_sim = cosine_similarity(tfidf_matrix)\n",
    "\n",
    "cosine_sim"
   ]
  },
  {
   "cell_type": "code",
   "execution_count": 22,
   "id": "b07e6ed6-ac0b-42cb-90bf-435339c95b1e",
   "metadata": {},
   "outputs": [
    {
     "name": "stdout",
     "output_type": "stream",
     "text": [
      "1.0\n",
      "1.0\n"
     ]
    }
   ],
   "source": [
    "def jaccard_similarity(text1, text2, vectorizer):\n",
    "    a = vectorizer.transform(text_1.split()).toarray()\n",
    "    a = a.reshape(a.size)\n",
    "    b = vectorizer.transform(text_2.split()).toarray()\n",
    "    b = b.reshape(b.size)\n",
    "    return jaccard(a, b)\n",
    "\n",
    "print(jaccard_similarity(text_1, text_2, vectorizer))\n",
    "print(jaccard_similarity(text_1, text_3, vectorizer))"
   ]
  },
  {
   "cell_type": "code",
   "execution_count": 23,
   "id": "bb2dd90b-51ec-483c-a705-3d3de49e023d",
   "metadata": {},
   "outputs": [
    {
     "name": "stdout",
     "output_type": "stream",
     "text": [
      "\n",
      "Pre-trained Language Model Similarities:\n",
      "text_1 vs text_2: 0.6925136293011961\n",
      "text_1 vs text_3: 0.8400672876822685\n"
     ]
    }
   ],
   "source": [
    "nlp = spacy.load('en_core_web_md')\n",
    "\n",
    "doc1 = nlp(text_1)\n",
    "doc2 = nlp(text_2)\n",
    "doc3 = nlp(text_3)\n",
    "\n",
    "print(\"\\nPre-trained Language Model Similarities:\")\n",
    "print(f\"text_1 vs text_2: {doc1.similarity(doc2)}\")\n",
    "print(f\"text_1 vs text_3: {doc1.similarity(doc3)}\")"
   ]
  },
  {
   "cell_type": "markdown",
   "id": "2d0c53d8-f186-47a2-8040-5f1f8c993455",
   "metadata": {},
   "source": [
    "## Vector Embedding\n",
    "\n",
    "The text similarity example we have shown above relies on *vector embedding*. Vector embedding transforms a text into a collection of vectors. There are several different ways of doing this. We cover some of these methods below:\n",
    "\n",
    "### Bag of Words Embeddings\n",
    "\n",
    "The Bag of Words (BoW) model is among the simplest methods for capturing text representation and creating vector embeddings. BoW, despite its simplicity, has been used as a baseline for numerous natural language processing tasks. BoW represents a document by considering the occurrence of words and completely disregarding their order or syntax. It treats a text document as a bag (multiset) of its words, where the order does not matter, but the frequency of words is important.\n",
    "\n",
    "Each document is represented as a vector of its constituent words in a fixed-sized vocabulary, with the vector's elements indicating word frequency in the document. This results in a sparse and high-dimensional vector representation of the text.\n",
    "\n",
    "Context windows are often utilized to capture local dependencies between words in a text, providing a more granular and focused view of the text representation within the Bag of Words framework. A context window defines a fixed-sized surrounding of a target word, taking into account a certain number of adjacent words on either or both sides of the target word.\n",
    "\n",
    "The use of context windows can help retain some minimal local structure or word co-occurrence patterns within thedocuments. However, context windows in the Bag of Words model are still limited in capturing the rich syntactic and semantic dependencies between words due to the inherent disregard for word order and the simple frequency-based representation of the model.\n",
    "\n",
    "#### Coding Example: Bag of Words Embeddings using CountVectorizer from scikit-learn"
   ]
  },
  {
   "cell_type": "code",
   "execution_count": 24,
   "id": "36faeb6a-bcc5-4de3-b979-3c6d81cd14d0",
   "metadata": {},
   "outputs": [
    {
     "data": {
      "text/html": [
       "<div>\n",
       "<style scoped>\n",
       "    .dataframe tbody tr th:only-of-type {\n",
       "        vertical-align: middle;\n",
       "    }\n",
       "\n",
       "    .dataframe tbody tr th {\n",
       "        vertical-align: top;\n",
       "    }\n",
       "\n",
       "    .dataframe thead th {\n",
       "        text-align: right;\n",
       "    }\n",
       "</style>\n",
       "<table border=\"1\" class=\"dataframe\">\n",
       "  <thead>\n",
       "    <tr style=\"text-align: right;\">\n",
       "      <th></th>\n",
       "      <th>don</th>\n",
       "      <th>eating</th>\n",
       "      <th>enjoy</th>\n",
       "      <th>favorite</th>\n",
       "      <th>instead</th>\n",
       "      <th>love</th>\n",
       "      <th>pepperoni</th>\n",
       "      <th>pineapple</th>\n",
       "      <th>pizza</th>\n",
       "      <th>prefer</th>\n",
       "      <th>toppings</th>\n",
       "    </tr>\n",
       "  </thead>\n",
       "  <tbody>\n",
       "    <tr>\n",
       "      <th>text_1</th>\n",
       "      <td>0</td>\n",
       "      <td>1</td>\n",
       "      <td>0</td>\n",
       "      <td>0</td>\n",
       "      <td>0</td>\n",
       "      <td>1</td>\n",
       "      <td>0</td>\n",
       "      <td>1</td>\n",
       "      <td>1</td>\n",
       "      <td>0</td>\n",
       "      <td>1</td>\n",
       "    </tr>\n",
       "    <tr>\n",
       "      <th>text_2</th>\n",
       "      <td>0</td>\n",
       "      <td>0</td>\n",
       "      <td>0</td>\n",
       "      <td>1</td>\n",
       "      <td>0</td>\n",
       "      <td>0</td>\n",
       "      <td>0</td>\n",
       "      <td>1</td>\n",
       "      <td>1</td>\n",
       "      <td>0</td>\n",
       "      <td>0</td>\n",
       "    </tr>\n",
       "    <tr>\n",
       "      <th>text_3</th>\n",
       "      <td>1</td>\n",
       "      <td>0</td>\n",
       "      <td>1</td>\n",
       "      <td>0</td>\n",
       "      <td>1</td>\n",
       "      <td>0</td>\n",
       "      <td>1</td>\n",
       "      <td>1</td>\n",
       "      <td>1</td>\n",
       "      <td>1</td>\n",
       "      <td>0</td>\n",
       "    </tr>\n",
       "  </tbody>\n",
       "</table>\n",
       "</div>"
      ],
      "text/plain": [
       "        don  eating  enjoy  favorite  instead  love  pepperoni  pineapple  \\\n",
       "text_1    0       1      0         0        0     1          0          1   \n",
       "text_2    0       0      0         1        0     0          0          1   \n",
       "text_3    1       0      1         0        1     0          1          1   \n",
       "\n",
       "        pizza  prefer  toppings  \n",
       "text_1      1       0         1  \n",
       "text_2      1       0         0  \n",
       "text_3      1       1         0  "
      ]
     },
     "execution_count": 24,
     "metadata": {},
     "output_type": "execute_result"
    }
   ],
   "source": [
    "import pandas as pd\n",
    "from sklearn.feature_extraction.text import CountVectorizer\n",
    "\n",
    "vectorizer = CountVectorizer(stop_words='english')\n",
    "bow_matrix = vectorizer.fit_transform([text_1, text_2, text_3])\n",
    "\n",
    "pd.DataFrame(bow_matrix.toarray(), columns=sorted(vectorizer.vocabulary_),index=['text_1','text_2','text_3'])"
   ]
  },
  {
   "cell_type": "code",
   "execution_count": 25,
   "id": "01780bae-2d9b-4ba4-b175-2fbb53dac2f4",
   "metadata": {},
   "outputs": [
    {
     "data": {
      "image/png": "[encoded data removed]",
      "text/plain": [
       "<Figure size 1000x800 with 1 Axes>"
      ]
     },
     "metadata": {},
     "output_type": "display_data"
    }
   ],
   "source": [
    "from sklearn.decomposition import PCA\n",
    "import matplotlib.pyplot as plt\n",
    "\n",
    "pca = PCA(n_components=2)\n",
    "pca_results = pca.fit_transform(bow_matrix.T.toarray())\n",
    "\n",
    "plt.figure(figsize=(10, 8))\n",
    "plt.scatter(pca_results[:, 0], pca_results[:, 1])\n",
    "\n",
    "for i, word in enumerate(vectorizer.vocabulary_):\n",
    "    plt.annotate(word, xy=(pca_results[i, 0], pca_results[i, 1]))\n",
    "\n",
    "plt.title(\"BoW Embeddings Visualization\")\n",
    "plt.show()"
   ]
  },
  {
   "cell_type": "markdown",
   "id": "47c02962-93ec-4401-a9e3-4adc053d8e21",
   "metadata": {},
   "source": [
    "### TF-IDF Embeddings\n",
    "\n",
    "TF-IDF stands for Term Frequency-Inverse Document Frequency and is a more sophisticated method for creating text embeddings compared to the Bag of Words model. While BoW only considers word frequency within a document to represent its importance, TF-IDF takes into account both the term's frequency and its rarity across documents in a corpus, thus providing a more nuanced embedding.\n",
    "\n",
    "TF-IDF is composed of two components: Term Frequency (TF) and Inverse Document Frequency (IDF). The Term Frequency (TF) measures the frequency of a term (word) in a document, while the Inverse Document Frequency (IDF) measures the importance of a term within the corpus.\n",
    "\n",
    "The TF-IDF embedding for a term `t` in a document `d` in a corpus `D` is calculated as follows:\n",
    "\n",
    "- **TF(t, d):** The term frequency of `t` in `d`, usually normalized by dividing by the total number of terms in the document (to prevent bias towards lengthy documents).\n",
    "\n",
    "- **IDF(t, D):** The inverse document frequency for term `t` in the corpus `D`, usually calculated as `IDF(t, D) = log(N / df(t))`, where `N` is the number of documents in the corpus, and `df(t)` is the number of documents containing term `t`.\n",
    "\n",
    "- **TF-IDF(t, d, D):** The product of the term frequency and inverse document frequency for term `t` in document `d` within the corpus `D`: `TF-IDF(t, d, D) = TF(t, d) * IDF(t, D)`.\n",
    "\n",
    "The advantage of using TF-IDF embeddings is that it considers not only the importance of terms within individual documents but also the weight of terms across the entire corpus. This helps diminish the influence of common words and increases the significance of rare or domain-specific terms.\n",
    "\n",
    "#### Coding Example: TF-IDF Embeddings using TfidfVectorizer from scikit-learn\n",
    "\n",
    "In the following coding example, we employ the `TfidfVectorizer` from the scikit-learn library to create TF-IDF embeddings for sample texts. Similar to the Bag of Words example, we fit and transform the input texts into a matrix representing the TF-IDF embeddings. By converting the matrix to a DataFrame, we visualize the TF-IDF weights for each term in each document."
   ]
  },
  {
   "cell_type": "code",
   "execution_count": 26,
   "id": "10108734-1e16-4318-9341-aff07d15d654",
   "metadata": {},
   "outputs": [
    {
     "data": {
      "text/html": [
       "<div>\n",
       "<style scoped>\n",
       "    .dataframe tbody tr th:only-of-type {\n",
       "        vertical-align: middle;\n",
       "    }\n",
       "\n",
       "    .dataframe tbody tr th {\n",
       "        vertical-align: top;\n",
       "    }\n",
       "\n",
       "    .dataframe thead th {\n",
       "        text-align: right;\n",
       "    }\n",
       "</style>\n",
       "<table border=\"1\" class=\"dataframe\">\n",
       "  <thead>\n",
       "    <tr style=\"text-align: right;\">\n",
       "      <th></th>\n",
       "      <th>don</th>\n",
       "      <th>eating</th>\n",
       "      <th>enjoy</th>\n",
       "      <th>favorite</th>\n",
       "      <th>instead</th>\n",
       "      <th>love</th>\n",
       "      <th>pepperoni</th>\n",
       "      <th>pineapple</th>\n",
       "      <th>pizza</th>\n",
       "      <th>prefer</th>\n",
       "      <th>toppings</th>\n",
       "    </tr>\n",
       "  </thead>\n",
       "  <tbody>\n",
       "    <tr>\n",
       "      <th>text_1</th>\n",
       "      <td>0.00000</td>\n",
       "      <td>0.52004</td>\n",
       "      <td>0.00000</td>\n",
       "      <td>0.000000</td>\n",
       "      <td>0.00000</td>\n",
       "      <td>0.52004</td>\n",
       "      <td>0.00000</td>\n",
       "      <td>0.307144</td>\n",
       "      <td>0.307144</td>\n",
       "      <td>0.00000</td>\n",
       "      <td>0.52004</td>\n",
       "    </tr>\n",
       "    <tr>\n",
       "      <th>text_2</th>\n",
       "      <td>0.00000</td>\n",
       "      <td>0.00000</td>\n",
       "      <td>0.00000</td>\n",
       "      <td>0.767495</td>\n",
       "      <td>0.00000</td>\n",
       "      <td>0.00000</td>\n",
       "      <td>0.00000</td>\n",
       "      <td>0.453295</td>\n",
       "      <td>0.453295</td>\n",
       "      <td>0.00000</td>\n",
       "      <td>0.00000</td>\n",
       "    </tr>\n",
       "    <tr>\n",
       "      <th>text_3</th>\n",
       "      <td>0.41894</td>\n",
       "      <td>0.00000</td>\n",
       "      <td>0.41894</td>\n",
       "      <td>0.000000</td>\n",
       "      <td>0.41894</td>\n",
       "      <td>0.00000</td>\n",
       "      <td>0.41894</td>\n",
       "      <td>0.247433</td>\n",
       "      <td>0.247433</td>\n",
       "      <td>0.41894</td>\n",
       "      <td>0.00000</td>\n",
       "    </tr>\n",
       "  </tbody>\n",
       "</table>\n",
       "</div>"
      ],
      "text/plain": [
       "            don   eating    enjoy  favorite  instead     love  pepperoni  \\\n",
       "text_1  0.00000  0.52004  0.00000  0.000000  0.00000  0.52004    0.00000   \n",
       "text_2  0.00000  0.00000  0.00000  0.767495  0.00000  0.00000    0.00000   \n",
       "text_3  0.41894  0.00000  0.41894  0.000000  0.41894  0.00000    0.41894   \n",
       "\n",
       "        pineapple     pizza   prefer  toppings  \n",
       "text_1   0.307144  0.307144  0.00000   0.52004  \n",
       "text_2   0.453295  0.453295  0.00000   0.00000  \n",
       "text_3   0.247433  0.247433  0.41894   0.00000  "
      ]
     },
     "execution_count": 26,
     "metadata": {},
     "output_type": "execute_result"
    }
   ],
   "source": [
    "vectorizer = TfidfVectorizer(stop_words='english')\n",
    "tfidf_matrix = vectorizer.fit_transform([text_1, text_2, text_3])\n",
    "\n",
    "pd.DataFrame(tfidf_matrix.toarray(), columns=sorted(vectorizer.vocabulary_), index=['text_1','text_2','text_3'])"
   ]
  },
  {
   "cell_type": "code",
   "execution_count": 27,
   "id": "c10e12ed-00b4-483a-b54f-1f3953a44dfa",
   "metadata": {},
   "outputs": [
    {
     "data": {
      "image/png": "[encoded data removed]",
      "text/plain": [
       "<Figure size 1000x800 with 1 Axes>"
      ]
     },
     "metadata": {},
     "output_type": "display_data"
    }
   ],
   "source": [
    "pca = PCA(n_components=2)\n",
    "pca_results = pca.fit_transform(tfidf_matrix.T.toarray())\n",
    "\n",
    "plt.figure(figsize=(10, 8))\n",
    "plt.scatter(pca_results[:, 0], pca_results[:, 1])\n",
    "\n",
    "for i, word in enumerate(vectorizer.vocabulary_):\n",
    "    plt.annotate(word, xy=(pca_results[i, 0], pca_results[i, 1]))\n",
    "\n",
    "plt.title(\"TF-IDF Embeddings Visualization\")\n",
    "plt.show()"
   ]
  },
  {
   "cell_type": "markdown",
   "id": "e5f36d34-b949-4519-a259-ea77d140b00f",
   "metadata": {},
   "source": [
    "### Word2Vec Embeddings\n",
    "\n",
    "Word2Vec, introduced by Mikolov et al. in 2013, is a family of neural-based word embedding methods that address the limitations of traditional frequency-based embeddings, such as Bag of Words and TF-IDF. Instead of merely considering term frequency or rarity, Word2Vec aims to capture the semantic and syntactic relationships between words by representing them in dense, continuous, and low-dimensional vector spaces.\n",
    "\n",
    "Word2Vec embeddings are generated using unsupervised neural networks, which learn vector representations of words from large corpuses by optimizing the context prediction task. This model captures the contextual information through a distributional hypothesis, positing that words appearing in similar contexts tend to share similar meanings. Word2Vec utilizes two main architectures to achieve this task:\n",
    "\n",
    "1. **Continuous Bag of Words (CBOW):** In the CBOW architecture, the neural network predicts the target word based on its surrounding context words. The input layer consists of context word embeddings, which are averaged or combined to predict the target word.\n",
    "\n",
    "2. **Skip-Gram:** In the Skip-Gram architecture, the neural network predicts context words based on the target word. The input layer consists of the target word embedding, and the network aims to predict the surrounding context words.\n",
    "\n",
    "Both architectures have their advantages: CBOW is quicker to train and generally performs better on frequent words, while Skip-Gram takes longer to train but performs better on infrequent words and larger datasets.\n",
    "\n",
    "#### Coding Example: Word2Vec Embeddings using Gensim\n",
    "\n",
    "In this coding example, we use the Gensim library to generate Word2Vec embeddings for the sample texts. After tokenizing the input texts, we train a Word2Vec model using the `Word2Vec()` method. The model parameters include the tokenized sentences, the desired vector size, the context window size, the minimum word count, and the number of worker threads. We then visualize the learned embeddings using PCA and create a 2D scatter plot."
   ]
  },
  {
   "cell_type": "code",
   "execution_count": 43,
   "id": "ede36848-5682-492c-a481-6035eb59b52c",
   "metadata": {},
   "outputs": [
    {
     "name": "stderr",
     "output_type": "stream",
     "text": [
      "/home/kaygun/local/venv/lib/python3.11/site-packages/gensim/models/base_any2vec.py:742: UserWarning: C extension not loaded, training will be slow. Install a C compiler and reinstall gensim for fast training.\n"
     ]
    },
    {
     "data": {
      "image/png": "[encoded data removed]",
      "text/plain": [
       "<Figure size 1000x800 with 1 Axes>"
      ]
     },
     "metadata": {},
     "output_type": "display_data"
    }
   ],
   "source": [
    "import gensim.downloader as api\n",
    "from gensim.models import Word2Vec\n",
    "\n",
    "text_1 = \"I love eating pizza with pineapple toppings.\"\n",
    "text_2 = \"Pineapple on pizza is my favorite too.\"\n",
    "text_3 = \"I don't enjoy pineapple on pizza. I prefer pepperoni instead.\"\n",
    "\n",
    "tokens = [gensim.utils.simple_preprocess(text) for text in [text_1, text_2, text_3]]\n",
    "model = Word2Vec(sentences=tokens, size=40, window=3, min_count=1, workers=4)\n",
    "words = list(model.wv.index2word)\n",
    "word_vectors = model.wv[words]\n",
    "\n",
    "pca = PCA(n_components=2)\n",
    "pca_results = pca.fit_transform(word_vectors)\n",
    "\n",
    "plt.figure(figsize=(10, 8))\n",
    "plt.scatter(pca_results[:, 0], pca_results[:, 1])\n",
    "\n",
    "for i, word in enumerate(words):\n",
    "    plt.annotate(word, xy=(pca_results[i, 0], pca_results[i, 1]))\n",
    "plt.title(\"Word2Vec Embeddings Visualization\")\n",
    "plt.show()"
   ]
  },
  {
   "cell_type": "markdown",
   "id": "113afd51-7d0a-4728-bc1a-ce886b28d99f",
   "metadata": {},
   "source": [
    "### BERT Embeddings\n",
    "\n",
    "Bidirectional Encoder Representations from Transformers (BERT) is a state-of-the-art pre-trained language model introduced by researchers at Google in 2018. BERT revolutionized the field of natural language processing by providing highly expressive and contextualized word embeddings. Unlike Word2Vec, which relies on shallow neural networks and a fixed context window, BERT is based on the Transformer architecture, which allows the model to capture intricate semantic and syntactic relationships through deep self-attention mechanisms and bidirectional context encoding.\n",
    "\n",
    "The strength of BERT lies in its capability to pretrain on vast amounts of text data and fine-tune on specific tasks, enabling transfer learning and easing the adaptation to a wide range of NLP applications.\n",
    "\n",
    "#### Coding Example: BERT Embeddings using Hugging Face Transformers\n",
    "\n",
    "In this coding example, we use the Hugging Face Transformers library to generate BERT embeddings for the sample texts. First, we install the Transformers library and load the BERT model and tokenizer using the `BertTokenizer.from_pretrained()` and `BertModel.from_pretrained()` methods, respectively.\n",
    "\n",
    "Next, we tokenize and vectorize each input text using the BERT tokenizer and model. We keep the embeddings of the `[CLS]` token from the `last_hidden_state` tensor, which is often used as the sentence representation among the rich contextualized embeddings. Finally, we visualize the BERT embeddings using PCA and create a 2D scatter plot, as in the previous examples."
   ]
  },
  {
   "cell_type": "code",
   "execution_count": 34,
   "id": "62777711-6002-41cb-8124-7ddf7e3570ba",
   "metadata": {},
   "outputs": [
    {
     "name": "stderr",
     "output_type": "stream",
     "text": [
      "2023-11-19 01:39:50.383938: E tensorflow/compiler/xla/stream_executor/cuda/cuda_dnn.cc:9342] Unable to register cuDNN factory: Attempting to register factory for plugin cuDNN when one has already been registered\n",
      "2023-11-19 01:39:50.383973: E tensorflow/compiler/xla/stream_executor/cuda/cuda_fft.cc:609] Unable to register cuFFT factory: Attempting to register factory for plugin cuFFT when one has already been registered\n",
      "2023-11-19 01:39:50.383996: E tensorflow/compiler/xla/stream_executor/cuda/cuda_blas.cc:1518] Unable to register cuBLAS factory: Attempting to register factory for plugin cuBLAS when one has already been registered\n",
      "2023-11-19 01:39:50.390243: I tensorflow/core/platform/cpu_feature_guard.cc:182] This TensorFlow binary is optimized to use available CPU instructions in performance-critical operations.\n",
      "To enable the following instructions: AVX2 FMA, in other operations, rebuild TensorFlow with the appropriate compiler flags.\n",
      "2023-11-19 01:39:51.921297: W tensorflow/compiler/tf2tensorrt/utils/py_utils.cc:38] TF-TRT Warning: Could not find TensorRT\n",
      "Some weights of the model checkpoint at bert-base-uncased were not used when initializing BertModel: ['cls.seq_relationship.bias', 'cls.seq_relationship.weight', 'cls.predictions.bias', 'cls.predictions.transform.dense.weight', 'cls.predictions.transform.LayerNorm.bias', 'cls.predictions.transform.dense.bias', 'cls.predictions.transform.LayerNorm.weight']\n",
      "- This IS expected if you are initializing BertModel from the checkpoint of a model trained on another task or with another architecture (e.g. initializing a BertForSequenceClassification model from a BertForPreTraining model).\n",
      "- This IS NOT expected if you are initializing BertModel from the checkpoint of a model that you expect to be exactly identical (initializing a BertForSequenceClassification model from a BertForSequenceClassification model).\n"
     ]
    }
   ],
   "source": [
    "from transformers import BertTokenizer, BertModel\n",
    "import torch\n",
    "import re\n",
    "import numpy as np\n",
    "\n",
    "text = \"\"\"\n",
    "Thermoacoustic Stirling engines (TASEs) are the acoustic equivalents of Stirling engines. They have attracted much \n",
    "attention from researchers due to their unique features such as low manufacturing cost, high efficiency, maintenance-free characteristics, \n",
    "and self-starting nature. This paper reviews the state of literature to investigate the components of thermoacoustic Stirling \n",
    "engines and determine the effect of each component on the overall performance of these engines. To achieve this goal, the important \n",
    "components such as regenerator, inertance, resonator (stub), compliance, and buffer tubes are investigated. This review work shows that \n",
    "applying changes in dimensions or locations of the engine components influences the performance of such engines, and also reveals the \n",
    "essentiality of a careful design. Besides, it is shown that increasing the number of regenerators (core section) in the engine results \n",
    "in the performance improvement of the engine. In addition to that, the appropriate location of compliance in the looped-tube is about \n",
    "λ4 and 3λ4 away from the core section and this factor is λ2 for inertance section as well. Also, the effect of changing other mechanical \n",
    "components on the engine performance is predicted. Next, this study reviews the effect of fluid parameters of the thermoacoustic Stirling \n",
    "engines (i.e. temperature, mean pressure, output power, and amplitude of pressure changes) on each other. Finally, all thermoacoustic \n",
    "Stirling engines that have been developed so far, were reviewed. This review work confirms the increasing interest of researchers in \n",
    "working and researching in this field in the past recent years due to the highlighted benefits.\n",
    "\"\"\"\n",
    "\n",
    "model_name = 'bert-base-uncased'\n",
    "tokenizer = BertTokenizer.from_pretrained(model_name)\n",
    "model = BertModel.from_pretrained(model_name)"
   ]
  },
  {
   "cell_type": "code",
   "execution_count": 32,
   "id": "eb7f6f38-6e4f-47fd-93f3-08d43adb72f9",
   "metadata": {},
   "outputs": [
    {
     "ename": "NameError",
     "evalue": "name 'text' is not defined",
     "output_type": "error",
     "traceback": [
      "\u001b[0;31m---------------------------------------------------------------------------\u001b[0m",
      "\u001b[0;31mNameError\u001b[0m                                 Traceback (most recent call last)",
      "Cell \u001b[0;32mIn[32], line 1\u001b[0m\n\u001b[0;32m----> 1\u001b[0m texts \u001b[38;5;241m=\u001b[39m nltk\u001b[38;5;241m.\u001b[39msent_tokenize(\u001b[43mtext\u001b[49m)\n\u001b[1;32m      2\u001b[0m embeddings \u001b[38;5;241m=\u001b[39m []\n\u001b[1;32m      4\u001b[0m \u001b[38;5;28;01mfor\u001b[39;00m text \u001b[38;5;129;01min\u001b[39;00m texts:\n",
      "\u001b[0;31mNameError\u001b[0m: name 'text' is not defined"
     ]
    }
   ],
   "source": [
    "texts = nltk.sent_tokenize(text)\n",
    "embeddings = []\n",
    "\n",
    "for text in texts:\n",
    "    tokens = tokenizer(text, return_tensors='pt', truncation=True, padding=True)\n",
    "    with torch.no_grad():\n",
    "        outputs = model(**tokens)\n",
    "    embeddings.append(outputs.last_hidden_state[:, 0, :].numpy().squeeze())\n",
    "\n",
    "pca = PCA(n_components=2)\n",
    "pca_results = pca.fit_transform(embeddings)\n",
    "\n",
    "plt.figure(figsize=(14,18))\n",
    "plt.scatter(pca_results[:, 0], pca_results[:, 1])\n",
    "\n",
    "for i, text in enumerate(texts):\n",
    "    tmp = re.sub(r'[\\n]+',' ',texts[i])\n",
    "    plt.annotate(f\"{tmp}\", xy=(pca_results[i, 0], pca_results[i, 1]))\n",
    "plt.title(\"BERT Embeddings Visualization\")\n",
    "plt.show()"
   ]
  },
  {
   "cell_type": "code",
   "execution_count": 24,
   "id": "1b7009d0-eadf-4ad0-9107-d87b74597d89",
   "metadata": {},
   "outputs": [],
   "source": [
    "import tensorflow_datasets as tfds"
   ]
  },
  {
   "cell_type": "code",
   "execution_count": 31,
   "id": "7e8798a2-730d-4791-acf1-5de6826c8904",
   "metadata": {},
   "outputs": [
    {
     "name": "stdout",
     "output_type": "stream",
     "text": [
      "\u001b[1mDownloading and preparing dataset 2.17 GiB (download: 2.17 GiB, generated: Unknown size, total: 2.17 GiB) to /home/kaygun/local/data/tensorflow_datasets/math_dataset/algebra__linear_1d/1.0.0...\u001b[0m\n"
     ]
    },
    {
     "data": {
      "application/vnd.jupyter.widget-view+json": {
       "model_id": "00fee073e7c140cf86f15e2fb8a2ce92",
       "version_major": 2,
       "version_minor": 0
      },
      "text/plain": [
       "Dl Completed...: 0 url [00:00, ? url/s]"
      ]
     },
     "metadata": {},
     "output_type": "display_data"
    },
    {
     "data": {
      "application/vnd.jupyter.widget-view+json": {
       "model_id": "3c9d7ad74e7b4280bb938a55ae86310d",
       "version_major": 2,
       "version_minor": 0
      },
      "text/plain": [
       "Dl Size...: 0 MiB [00:00, ? MiB/s]"
      ]
     },
     "metadata": {},
     "output_type": "display_data"
    },
    {
     "data": {
      "application/vnd.jupyter.widget-view+json": {
       "model_id": "fc9a1958b1394335a0412de92bf89c2b",
       "version_major": 2,
       "version_minor": 0
      },
      "text/plain": [
       "Extraction completed...: 0 file [00:00, ? file/s]"
      ]
     },
     "metadata": {},
     "output_type": "display_data"
    },
    {
     "data": {
      "application/vnd.jupyter.widget-view+json": {
       "model_id": "",
       "version_major": 2,
       "version_minor": 0
      },
      "text/plain": [
       "Generating splits...:   0%|          | 0/2 [00:00<?, ? splits/s]"
      ]
     },
     "metadata": {},
     "output_type": "display_data"
    },
    {
     "data": {
      "application/vnd.jupyter.widget-view+json": {
       "model_id": "",
       "version_major": 2,
       "version_minor": 0
      },
      "text/plain": [
       "Generating train examples...:   0%|          | 0/1999998 [00:00<?, ? examples/s]"
      ]
     },
     "metadata": {},
     "output_type": "display_data"
    },
    {
     "data": {
      "application/vnd.jupyter.widget-view+json": {
       "model_id": "",
       "version_major": 2,
       "version_minor": 0
      },
      "text/plain": [
       "Shuffling /home/kaygun/local/data/tensorflow_datasets/math_dataset/algebra__linear_1d/1.0.0.incompleteTIQG8M/m…"
      ]
     },
     "metadata": {},
     "output_type": "display_data"
    },
    {
     "data": {
      "application/vnd.jupyter.widget-view+json": {
       "model_id": "",
       "version_major": 2,
       "version_minor": 0
      },
      "text/plain": [
       "Generating test examples...:   0%|          | 0/10000 [00:00<?, ? examples/s]"
      ]
     },
     "metadata": {},
     "output_type": "display_data"
    },
    {
     "data": {
      "application/vnd.jupyter.widget-view+json": {
       "model_id": "",
       "version_major": 2,
       "version_minor": 0
      },
      "text/plain": [
       "Shuffling /home/kaygun/local/data/tensorflow_datasets/math_dataset/algebra__linear_1d/1.0.0.incompleteTIQG8M/m…"
      ]
     },
     "metadata": {},
     "output_type": "display_data"
    },
    {
     "name": "stdout",
     "output_type": "stream",
     "text": [
      "\u001b[1mDataset math_dataset downloaded and prepared to /home/kaygun/local/data/tensorflow_datasets/math_dataset/algebra__linear_1d/1.0.0. Subsequent calls will reuse this data.\u001b[0m\n"
     ]
    },
    {
     "data": {
      "text/plain": [
       "(<_PrefetchDataset element_spec={'answer': TensorSpec(shape=(), dtype=tf.string, name=None), 'question': TensorSpec(shape=(), dtype=tf.string, name=None)}>,\n",
       " tfds.core.DatasetInfo(\n",
       "     name='math_dataset',\n",
       "     full_name='math_dataset/algebra__linear_1d/1.0.0',\n",
       "     description=\"\"\"\n",
       "     Mathematics database.\n",
       "     \n",
       "     This dataset code generates mathematical question and answer pairs, from a range\n",
       "     of question types at roughly school-level difficulty. This is designed to test\n",
       "     the mathematical learning and algebraic reasoning skills of learning models.\n",
       "     \n",
       "     Original paper: Analysing Mathematical Reasoning Abilities of Neural Models\n",
       "     (Saxton, Grefenstette, Hill, Kohli).\n",
       "     \n",
       "     Example usage:\n",
       "     \n",
       "     ```\n",
       "     train_examples, val_examples = tfds.load(\n",
       "         'math_dataset/arithmetic__mul',\n",
       "         split=['train', 'test'],\n",
       "         as_supervised=True)\n",
       "     ```\n",
       "     \"\"\",\n",
       "     homepage='https://github.com/deepmind/mathematics_dataset',\n",
       "     data_dir=PosixGPath('/tmp/tmpxe0kefn_tfds'),\n",
       "     file_format=tfrecord,\n",
       "     download_size=2.17 GiB,\n",
       "     dataset_size=141.27 MiB,\n",
       "     features=FeaturesDict({\n",
       "         'answer': Text(shape=(), dtype=string),\n",
       "         'question': Text(shape=(), dtype=string),\n",
       "     }),\n",
       "     supervised_keys=('question', 'answer'),\n",
       "     disable_shuffling=False,\n",
       "     splits={\n",
       "         'test': <SplitInfo num_examples=10000, num_shards=1>,\n",
       "         'train': <SplitInfo num_examples=1999998, num_shards=2>,\n",
       "     },\n",
       "     citation=\"\"\"@article{2019arXiv,\n",
       "       author = {Saxton, Grefenstette, Hill, Kohli},\n",
       "       title = {Analysing Mathematical Reasoning Abilities of Neural Models},\n",
       "       year = {2019},\n",
       "       journal = {arXiv:1904.01557}\n",
       "     }\"\"\",\n",
       " ))"
      ]
     },
     "execution_count": 31,
     "metadata": {},
     "output_type": "execute_result"
    }
   ],
   "source": [
    "data = tfds.load(\"math_dataset\", \n",
    "                 split=\"train\",\n",
    "                 with_info=True,\n",
    "                 data_dir='/home/kaygun/local/data/tensorflow_datasets/')\n",
    "data"
   ]
  },
  {
   "cell_type": "code",
   "execution_count": 36,
   "id": "6874a262-c2a2-4cd0-87ad-49f98b9a1b44",
   "metadata": {},
   "outputs": [
    {
     "data": {
      "text/plain": [
       "(<_PrefetchDataset element_spec={'answer': TensorSpec(shape=(), dtype=tf.string, name=None), 'question': TensorSpec(shape=(), dtype=tf.string, name=None)}>,\n",
       " tfds.core.DatasetInfo(\n",
       "     name='math_dataset',\n",
       "     full_name='math_dataset/algebra__linear_1d/1.0.0',\n",
       "     description=\"\"\"\n",
       "     Mathematics database.\n",
       "     \n",
       "     This dataset code generates mathematical question and answer pairs, from a range\n",
       "     of question types at roughly school-level difficulty. This is designed to test\n",
       "     the mathematical learning and algebraic reasoning skills of learning models.\n",
       "     \n",
       "     Original paper: Analysing Mathematical Reasoning Abilities of Neural Models\n",
       "     (Saxton, Grefenstette, Hill, Kohli).\n",
       "     \n",
       "     Example usage:\n",
       "     \n",
       "     ```\n",
       "     train_examples, val_examples = tfds.load(\n",
       "         'math_dataset/arithmetic__mul',\n",
       "         split=['train', 'test'],\n",
       "         as_supervised=True)\n",
       "     ```\n",
       "     \"\"\",\n",
       "     homepage='https://github.com/deepmind/mathematics_dataset',\n",
       "     data_dir=PosixGPath('/tmp/tmpxe0kefn_tfds'),\n",
       "     file_format=tfrecord,\n",
       "     download_size=2.17 GiB,\n",
       "     dataset_size=141.27 MiB,\n",
       "     features=FeaturesDict({\n",
       "         'answer': Text(shape=(), dtype=string),\n",
       "         'question': Text(shape=(), dtype=string),\n",
       "     }),\n",
       "     supervised_keys=('question', 'answer'),\n",
       "     disable_shuffling=False,\n",
       "     splits={\n",
       "         'test': <SplitInfo num_examples=10000, num_shards=1>,\n",
       "         'train': <SplitInfo num_examples=1999998, num_shards=2>,\n",
       "     },\n",
       "     citation=\"\"\"@article{2019arXiv,\n",
       "       author = {Saxton, Grefenstette, Hill, Kohli},\n",
       "       title = {Analysing Mathematical Reasoning Abilities of Neural Models},\n",
       "       year = {2019},\n",
       "       journal = {arXiv:1904.01557}\n",
       "     }\"\"\",\n",
       " ))"
      ]
     },
     "execution_count": 36,
     "metadata": {},
     "output_type": "execute_result"
    }
   ],
   "source": []
  },
  {
   "cell_type": "code",
   "execution_count": null,
   "id": "fbf1469a-56e8-49aa-b3ca-ce2626d869e9",
   "metadata": {},
   "outputs": [],
   "source": []
  }
 ],
 "metadata": {
  "kernelspec": {
   "display_name": "Python 3 (ipykernel)",
   "language": "python",
   "name": "python3"
  },
  "language_info": {
   "codemirror_mode": {
    "name": "ipython",
    "version": 3
   },
   "file_extension": ".py",
   "mimetype": "text/x-python",
   "name": "python",
   "nbconvert_exporter": "python",
   "pygments_lexer": "ipython3",
   "version": "3.11.5"
  }
 },
 "nbformat": 4,
 "nbformat_minor": 5
}
