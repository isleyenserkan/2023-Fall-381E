{
 "cells": [
  {
   "cell_type": "markdown",
   "id": "3578b8ab-9286-48b1-81ce-506597864246",
   "metadata": {},
   "source": [
    "# Homework #2\n",
    "\n",
    "Overall rules:\n",
    "\n",
    "- Refrain from downloading and loading data from a local file. Instead, obtain all required data using the appropriate API. This rule does not apply to the TUIK data.\n",
    "- Refrain from cleaning data by hand on a spreadsheet. All cleaning must be done programmatically, with each step explained. This is so that I can replicate the procedure deterministically.\n",
    "- Refrain from using code comments to explain what has been done. Document your steps by writing appropriate markdown cells in your notebook.\n",
    "- Avoid duplicating code by copying and pasting it from one cell to another. If copying and pasting is necessary, develop a suitable function for the task at hand and call that function.\n",
    "- When providing parameters to a function, never use global variables. Instead, always pass parameters explicitly and always make use of local variables.\n",
    "- Document your use of LLM models (ChatGPT, Claude, Code Pilot etc). Either take screenshots of your steps and include them with this notebook, or give me a full log (both questions and answers) in a markdown file named `HW2-LLM-LOG.md`.\n",
    "\n",
    "Failure to adhere to these guidelines will result in a 15-point deduction for each infraction."
   ]
  },
  {
   "cell_type": "markdown",
   "id": "3ff4cc97-c381-4fc3-94d0-205d4e2203fb",
   "metadata": {},
   "source": [
    "## Q1\n",
    "\n",
    "For this question, we are going to use [Istanbul Municipality Data Service](https://data.ibb.gov.tr/). Specifically, we are going to look at the 'Saatlik Trafik Yoğunluk Veri Seti' dataset.\n",
    "\n",
    "1. Write a function that takes a year and a month as parameters that pulls the data for that specific year and month and returns the data as a pandas dataframe.\n",
    "2. Using this function get the data for September 2023.\n",
    "3. Group the data with respect to GEOHASH column, and then aggragate\n",
    "   - 'LONGITUDE' column using 'first'\n",
    "   - 'LATITUDE' column using 'first'\n",
    "   - 'AVERAGE_SPEED' using 'mean'\n",
    "   - 'NUMBER_OF_VEHICLES' using 'mean'\n",
    "4. Find the first 25 data points with\n",
    "   - the highest average number of vehicles\n",
    "   - the highest average speed\n",
    "   - the lowest average speed\n",
    "5. Create a heatmap using [folium](https://pypi.org/project/folium/) library on the 'NUMBER_OF_VEHICLES' column of the dataframe you constructed in Step 2."
   ]
  },
  {
   "cell_type": "markdown",
   "id": "c652fb5e-7b02-4b76-b60f-7e90d2e35908",
   "metadata": {},
   "source": [
    "## Q2\n",
    "\n",
    "For this question, we are going to build a map. To build a map, we are going to merge several data sources.\n",
    "\n",
    "- Get the shape files for Turkish administrative level 0 (iller) and level 1 (ilçeler) from [GADM](https://gadm.org) using their API.\n",
    "- Get the census population data (both at level 0 and level 1) for the year 2000 from [TUIK](https://biruni.tuik.gov.tr) using their API.\n",
    "- Get the crime statistics (suç türü ve suçun işlendiği ile göre infaz kurumuna giren hükümlüler) from [TUIK](https://biruni.tuik.gov.tr) using their API.\n",
    "\n",
    "You need to poke around GADM and TUIK to find out which data you will need. For the GADM data, the API allows URL access. For TUIK data, you will have to download the data into a local file and load it. However, DO NOT clean data by hand. The raw data has to be loaded as a pandas frame and cleaning must be done programmatically for replication purposes. You will have to push the files you downloaded to github. Name the files as `HW2-Population-level0.xlsx`,  `HW2-Population-level1.xlsx` and `HW2-Crime.xlsx`.\n",
    "\n",
    "After getting the data\n",
    "\n",
    "1. Create a [GeoPandas][1] dataframe from the shape data, and merge it with population data (with level 1).\n",
    "2. Using GeoPandas sketch a choropleth map for the population at administrative level 1 (ilçeler)\n",
    "3. Merge shape data (level 0), the population data (level 0) and the cleaned crime data.\n",
    "4. On the dataframe you created in Step 3, transform the totals for each crime type for each municipality into a percentage by dividing it by the correct population number.\n",
    "5. Using the data you generated in Step 4, sketch two choropleth maps using GeoPandas for the two crime types of your choosing at administrative level 0 (iller)\n",
    "\n",
    "[1]: https://geopandas.org/en/stable/"
   ]
  },
  {
   "cell_type": "markdown",
   "id": "4e80e8b9-c51f-4c8e-aaa2-ee63a837abc0",
   "metadata": {},
   "source": [
    "## Q3\n",
    "\n",
    "For this question, you are going to use [WorldBank Data API](https://data.worldbank.org/) through the python library [wbgapi](https://pypi.org/project/wbgapi/). \n",
    "\n",
    "1. Get the following data for the following countries: Albania, Bosnia and Herzegovina, Bulgaria, Croatia, Kosovo, Montenegro, North Macedonia, Romania, Serbia, Slovenia, Turkey, Greece, Cyprus, Malta, Italy, Poland, Belarus, and Ukraine.\n",
    "\n",
    "* Child mortality under 5 year olds\n",
    "* Female literacy rate for ages 15+\n",
    "* Female labor force participation rate for ages 15+) \n",
    "* Poverty headcount ratio at $3.65 a day as a percentage of the population\n",
    "* GDP Per capita\n",
    "* CPIA gender equality rating\n",
    "\n",
    "2. Merge the data you obtained into a single data frame such that you have the following columns. Pivot the data frames whenever necessary:\n",
    "\n",
    "- Year\n",
    "- Country\n",
    "- Child Mortality\n",
    "- Female Literacy\n",
    "- Female Workforce Participation\n",
    "- Poverty\n",
    "- GDP\n",
    "- Gender Equality\n",
    "\n",
    "3. Write a function that takes the following as parameters\n",
    "\n",
    "- The data frame\n",
    "- The name of the country\n",
    "- The column name\n",
    "\n",
    "that plots the time series (in years, in the correct order) of the corresponding column for the corresponding country. Sketch 4 such graphs of your choosing, both in terms of country and column.\n",
    "\n",
    "4. Write a function that takes the following as parameters\n",
    "\n",
    "- The data frame\n",
    "- Years as a list \n",
    "- A pair of column names\n",
    "\n",
    "that sketches a scatter plot of the pair of columns for every country for the list of particular years. Sketch 4 such graphs of your choosing from 2010 to 2020.\n",
    "\n",
    "5. Sketch 'Child Mortality' against 'Female Literacy' for all countries and for all available years as a scatter plot. Analyze the graph and draw conclusions.\n",
    "\n",
    "6. Sketch 'Female Workforce Participation' against 'Child Mortality' for all countries and for all available years as a scatter plot. Analyze the graph and draw conclusions.\n",
    "   \n",
    "7. Make a violin plot of 'Female Literacy' column against 'Gender Equality' column for all countries and for all available years. Investigate any correlation between these variables.\n"
   ]
  },
  {
   "cell_type": "code",
   "execution_count": null,
   "id": "939749ce-f77f-49a0-96f7-657c73cb7604",
   "metadata": {},
   "outputs": [],
   "source": []
  }
 ],
 "metadata": {
  "kernelspec": {
   "display_name": "Python 3 (ipykernel)",
   "language": "python",
   "name": "python3"
  },
  "language_info": {
   "codemirror_mode": {
    "name": "ipython",
    "version": 3
   },
   "file_extension": ".py",
   "mimetype": "text/x-python",
   "name": "python",
   "nbconvert_exporter": "python",
   "pygments_lexer": "ipython3",
   "version": "3.11.5"
  }
 },
 "nbformat": 4,
 "nbformat_minor": 5
}
