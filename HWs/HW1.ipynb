{
 "cells": [
  {
   "cell_type": "markdown",
   "id": "3578b8ab-9286-48b1-81ce-506597864246",
   "metadata": {},
   "source": [
    "# Homework #1\n",
    "\n",
    "Overall rules:\n",
    "\n",
    "- Refrain from downloading and loading data from a local file. Instead, obtain all required data using the appropriate API.\n",
    "- Do not download data in separate parts. For instance, in Q1 where data for 22 countries is necessary, obtain the data in a single, large piece and partition it later on.\n",
    "- Avoid duplicating code by copying and pasting it from one cell to another. If copying and pasting is necessary, develop a suitable function for the task at hand and call that function.\n",
    "- When providing parameters to a function, never utilize global variables. Instead, always pass parameters explicitly and always make use of local variables.\n",
    "\n",
    "Failure to adhere to these guidelines will result in a 25-point deduction for each infraction."
   ]
  },
  {
   "cell_type": "markdown",
   "id": "c652fb5e-7b02-4b76-b60f-7e90d2e35908",
   "metadata": {},
   "source": [
    "## Q1\n",
    "\n",
    "For this question, you are going to use [World Bank's Climate Change Knowledge Portal](https://climateknowledgeportal.worldbank.org/).\n",
    "\n",
    "The Mediterranean Sea is bordered by following 22 countries: Spain, France, Monaco, Italy, Slovenia, Croatia, Bosnia and Herzegovina, Montenegro, Albania, Greece, Turkey, Syria, Lebanon, Israel, Palestine, Egypt, Libya, Tunisia, Algeria, Morocco, Malta, and Cyprus. Using the World Bank's Climate Change Knowledge Portal, obtain the following data through their API:\n",
    "\n",
    "- Monthly average surface temperatures\n",
    "- Monthly average precipitation\n",
    "\n",
    "Gather this information as a time series from 1950 to 2020 for all countries surrounding the Mediterranean Sea. Conduct the following analyses on the retrieved data:\n",
    "\n",
    "1. Compute the average surface temperature per month for each country, save the results in a pandas data frame called `MAST`, and display the data using a line plot.\n",
    "2. Compute the average precipitation per month for each country, save the results in a pandas data frame called `MAPR`, and display the data using a line plot.\n",
    "3. Compute the average surface temperature per annum for each country, save the results in a pandas data frame called `YAST`, and display the data using a line plot.\n",
    "4. Compute the average precipitation per annum for each country, save the results in a pandas data frame called `YAPR`, and display the data using a line plot."
   ]
  },
  {
   "cell_type": "code",
   "execution_count": null,
   "id": "40e59f62-8250-4268-b007-941ae471b62c",
   "metadata": {},
   "outputs": [],
   "source": []
  },
  {
   "cell_type": "markdown",
   "id": "6ebf7425-4b35-4244-9841-0b0d139ce952",
   "metadata": {},
   "source": [
    "## Q2\n",
    "\n",
    "For this question, you are going to use [yfinance](https://pypi.org/project/yfinance/) library to access [Yahoo! Finance Data](https://finance.yahoo.com/).\n",
    "\n",
    "Using the `yfinance` library, obtain the stock prices of the following companies between January 1st, 2019 and December 31st, 2022: Alphabet (Google), Meta (Facebook), Cisco, Intel, AMD, Qualcomm, Apple, Samsung, Xiaomi, and Tesla.\n",
    "\n",
    "1. Construct a pandas data frame `CHANGE` containing values of $-1$, $0$, or $1$ for each trading day within the specified time frame for each mentioned company. Assign a value of $0$ if the daily closing price change is within $\\pm 2.5\\%$ of the opening price. If the change is greater than $2.5\\%$ of the opening price, assign a value of $1$. If the change is less than $-2.5\\%$, assign a value of $-1$.\n",
    "2. Identify the longest continuous time intervals during which the `CHANGE` consistently remains $1$ and $-1$ for each company.\n",
    "3. Create another pandas data frame `DIFFERENCE` consisting of values $-1$, $0$, or $1$ for each day within the specified time period (excluding January 1st, 2019). If the opening price of a day is within $\\pm 2.5\\%$ of the previous day's opening price, assign a value of $0$. If the change in the opening price in comparison to the previous day is greater than $2.5\\%$, assign a value of $1$. If the change in the opening price is less than $-2.5\\%$, assign a value of $-1$.\n",
    "4. Determine the longest continuous time intervals during which the `DIFFERENCE` consistently remains $1$ and $-1$ for each company."
   ]
  },
  {
   "cell_type": "code",
   "execution_count": null,
   "id": "4c2dc69b-3502-45b5-acfb-517f72f5d4f4",
   "metadata": {},
   "outputs": [],
   "source": []
  }
 ],
 "metadata": {
  "kernelspec": {
   "display_name": "Python 3 (ipykernel)",
   "language": "python",
   "name": "python3"
  },
  "language_info": {
   "codemirror_mode": {
    "name": "ipython",
    "version": 3
   },
   "file_extension": ".py",
   "mimetype": "text/x-python",
   "name": "python",
   "nbconvert_exporter": "python",
   "pygments_lexer": "ipython3",
   "version": "3.11.5"
  }
 },
 "nbformat": 4,
 "nbformat_minor": 5
}
